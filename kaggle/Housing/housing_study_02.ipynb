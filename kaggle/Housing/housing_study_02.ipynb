{
 "cells": [
  {
   "cell_type": "code",
   "execution_count": 2,
   "metadata": {},
   "outputs": [],
   "source": [
    "import pandas as pd\n",
    "data = pd.DataFrame([\n",
    "    ['green', 'M', 10.1, 'class_1'],\n",
    "    ['red', 'S', 22, 'class_2'],\n",
    "    ['blue', 'XL', 15, 'class_1'],\n",
    "    ['yellow', 'L', 20, 'class_2']\n",
    "])\n",
    "\n",
    "data.columns = ['color', 'size', 'price', 'label']"
   ]
  },
  {
   "cell_type": "code",
   "execution_count": 6,
   "metadata": {},
   "outputs": [
    {
     "data": {
      "text/html": [
       "<div>\n",
       "<style scoped>\n",
       "    .dataframe tbody tr th:only-of-type {\n",
       "        vertical-align: middle;\n",
       "    }\n",
       "\n",
       "    .dataframe tbody tr th {\n",
       "        vertical-align: top;\n",
       "    }\n",
       "\n",
       "    .dataframe thead th {\n",
       "        text-align: right;\n",
       "    }\n",
       "</style>\n",
       "<table border=\"1\" class=\"dataframe\">\n",
       "  <thead>\n",
       "    <tr style=\"text-align: right;\">\n",
       "      <th></th>\n",
       "      <th>color</th>\n",
       "      <th>size</th>\n",
       "      <th>price</th>\n",
       "      <th>label</th>\n",
       "    </tr>\n",
       "  </thead>\n",
       "  <tbody>\n",
       "    <tr>\n",
       "      <th>0</th>\n",
       "      <td>green</td>\n",
       "      <td>M</td>\n",
       "      <td>10.1</td>\n",
       "      <td>class_1</td>\n",
       "    </tr>\n",
       "    <tr>\n",
       "      <th>1</th>\n",
       "      <td>red</td>\n",
       "      <td>S</td>\n",
       "      <td>22.0</td>\n",
       "      <td>class_2</td>\n",
       "    </tr>\n",
       "    <tr>\n",
       "      <th>2</th>\n",
       "      <td>blue</td>\n",
       "      <td>XL</td>\n",
       "      <td>15.0</td>\n",
       "      <td>class_1</td>\n",
       "    </tr>\n",
       "    <tr>\n",
       "      <th>3</th>\n",
       "      <td>yellow</td>\n",
       "      <td>L</td>\n",
       "      <td>20.0</td>\n",
       "      <td>class_2</td>\n",
       "    </tr>\n",
       "  </tbody>\n",
       "</table>\n",
       "</div>"
      ],
      "text/plain": [
       "    color size  price    label\n",
       "0   green    M   10.1  class_1\n",
       "1     red    S   22.0  class_2\n",
       "2    blue   XL   15.0  class_1\n",
       "3  yellow    L   20.0  class_2"
      ]
     },
     "execution_count": 6,
     "metadata": {},
     "output_type": "execute_result"
    }
   ],
   "source": [
    "data"
   ]
  },
  {
   "cell_type": "markdown",
   "metadata": {},
   "source": [
    " - pd.factorize() 는 2가지 값을 반환한다.\n",
    " - 첫번째 값은 정수로 인코딩된 값, 두번째 값은 인코딩된 범주"
   ]
  },
  {
   "cell_type": "code",
   "execution_count": 3,
   "metadata": {},
   "outputs": [],
   "source": [
    "y_encoded, y_class = pd.factorize(data['label'])"
   ]
  },
  {
   "cell_type": "code",
   "execution_count": 4,
   "metadata": {},
   "outputs": [
    {
     "data": {
      "text/plain": [
       "array([0, 1, 0, 1], dtype=int64)"
      ]
     },
     "execution_count": 4,
     "metadata": {},
     "output_type": "execute_result"
    }
   ],
   "source": [
    "y_encoded"
   ]
  },
  {
   "cell_type": "code",
   "execution_count": 8,
   "metadata": {},
   "outputs": [
    {
     "data": {
      "text/plain": [
       "2"
      ]
     },
     "execution_count": 8,
     "metadata": {},
     "output_type": "execute_result"
    }
   ],
   "source": [
    "max_cat = np.max(y_encoded)+1\n",
    "max_cat"
   ]
  },
  {
   "cell_type": "code",
   "execution_count": 9,
   "metadata": {},
   "outputs": [
    {
     "data": {
      "text/plain": [
       "array([0., 0.])"
      ]
     },
     "execution_count": 9,
     "metadata": {},
     "output_type": "execute_result"
    }
   ],
   "source": [
    "avg_array = np.zeros(max_cat)\n",
    "avg_array"
   ]
  },
  {
   "cell_type": "code",
   "execution_count": null,
   "metadata": {},
   "outputs": [],
   "source": []
  },
  {
   "cell_type": "code",
   "execution_count": 5,
   "metadata": {},
   "outputs": [
    {
     "data": {
      "text/plain": [
       "Index(['class_1', 'class_2'], dtype='object')"
      ]
     },
     "execution_count": 5,
     "metadata": {},
     "output_type": "execute_result"
    }
   ],
   "source": [
    "y_class"
   ]
  },
  {
   "cell_type": "code",
   "execution_count": 7,
   "metadata": {},
   "outputs": [],
   "source": [
    "import numpy as np\n",
    "import pandas as pd\n",
    "import matplotlib as plt\n",
    "%matplotlib inline\n",
    "\n",
    "def correlation_ratio(catogories, measurements):\n",
    "    fcat, _ = pd.factorize(catogories)\n",
    "    cat_num = np.max(fcat)+1\n",
    "    y_avg_array = np.zeros(cat_num)\n",
    "    n_array = np.zeros(cat_num)\n",
    "    for i in range(0, cat_num):\n",
    "        cat_measures = measurements[np.argwhere(fcat == i).flatten()] # i 번 값을 나열\n",
    "        n_array[i] = len(cat_measures) # i번의 갯수\n",
    "        y_avg_array[i] = np.average(cat_measures) # i 번의 평균\n",
    "    y_total_avg = np.sum(np.multiply(y_avg_array, n_array))/np.sum(n_array)\n",
    "    numerator = np.sum(np.multiply(n_array, np.power(np.subtract(y_avg_array, y_total_avg), 2)))\n",
    "    denominator = np.sum(np.power(np.subtract(measurements, y_total_avg), 2))\n",
    "    if numerator == 0:\n",
    "        eta = 0.0\n",
    "    else:\n",
    "        eta = np.sqrt(numerator / denominator)\n",
    "    return eta"
   ]
  },
  {
   "cell_type": "code",
   "execution_count": 13,
   "metadata": {},
   "outputs": [
    {
     "name": "stdout",
     "output_type": "stream",
     "text": [
      "(1460, 81) (1459, 80)\n"
     ]
    }
   ],
   "source": [
    "path_train = \"https://raw.githubusercontent.com/jvanelteren/housing/master/datasets/train.csv\"\n",
    "path_test = \"https://raw.githubusercontent.com/jvanelteren/housing/master/datasets/test.csv\"\n",
    "train = pd.read_csv(path_train)\n",
    "final_test = pd.read_csv(path_test)\n",
    "print(train.shape, final_test.shape)"
   ]
  },
  {
   "cell_type": "code",
   "execution_count": 15,
   "metadata": {},
   "outputs": [
    {
     "name": "stdout",
     "output_type": "stream",
     "text": [
      "Index(['Id', 'MSSubClass', 'MSZoning', 'LotFrontage', 'LotArea', 'Street',\n",
      "       'Alley', 'LotShape', 'LandContour', 'Utilities', 'LotConfig',\n",
      "       'LandSlope', 'Neighborhood', 'Condition1', 'Condition2', 'BldgType',\n",
      "       'HouseStyle', 'OverallQual', 'OverallCond', 'YearBuilt', 'YearRemodAdd',\n",
      "       'RoofStyle', 'RoofMatl', 'Exterior1st', 'Exterior2nd', 'MasVnrType',\n",
      "       'MasVnrArea', 'ExterQual', 'ExterCond', 'Foundation', 'BsmtQual',\n",
      "       'BsmtCond', 'BsmtExposure', 'BsmtFinType1', 'BsmtFinSF1',\n",
      "       'BsmtFinType2', 'BsmtFinSF2', 'BsmtUnfSF', 'TotalBsmtSF', 'Heating',\n",
      "       'HeatingQC', 'CentralAir', 'Electrical', '1stFlrSF', '2ndFlrSF',\n",
      "       'LowQualFinSF', 'GrLivArea', 'BsmtFullBath', 'BsmtHalfBath', 'FullBath',\n",
      "       'HalfBath', 'BedroomAbvGr', 'KitchenAbvGr', 'KitchenQual',\n",
      "       'TotRmsAbvGrd', 'Functional', 'Fireplaces', 'FireplaceQu', 'GarageType',\n",
      "       'GarageYrBlt', 'GarageFinish', 'GarageCars', 'GarageArea', 'GarageQual',\n",
      "       'GarageCond', 'PavedDrive', 'WoodDeckSF', 'OpenPorchSF',\n",
      "       'EnclosedPorch', '3SsnPorch', 'ScreenPorch', 'PoolArea', 'PoolQC',\n",
      "       'Fence', 'MiscFeature', 'MiscVal', 'MoSold', 'YrSold', 'SaleType',\n",
      "       'SaleCondition', 'SalePrice'],\n",
      "      dtype='object')\n"
     ]
    }
   ],
   "source": [
    "print(train.columns)"
   ]
  },
  {
   "cell_type": "code",
   "execution_count": 16,
   "metadata": {},
   "outputs": [
    {
     "data": {
      "text/plain": [
       "Id              -0.021917\n",
       "MSSubClass      -0.084284\n",
       "LotFrontage      0.351799\n",
       "LotArea          0.263843\n",
       "OverallQual      0.790982\n",
       "OverallCond     -0.077856\n",
       "YearBuilt        0.522897\n",
       "YearRemodAdd     0.507101\n",
       "MasVnrArea       0.477493\n",
       "BsmtFinSF1       0.386420\n",
       "BsmtFinSF2      -0.011378\n",
       "BsmtUnfSF        0.214479\n",
       "TotalBsmtSF      0.613581\n",
       "1stFlrSF         0.605852\n",
       "2ndFlrSF         0.319334\n",
       "LowQualFinSF    -0.025606\n",
       "GrLivArea        0.708624\n",
       "BsmtFullBath     0.227122\n",
       "BsmtHalfBath    -0.016844\n",
       "FullBath         0.560664\n",
       "HalfBath         0.284108\n",
       "BedroomAbvGr     0.168213\n",
       "KitchenAbvGr    -0.135907\n",
       "TotRmsAbvGrd     0.533723\n",
       "Fireplaces       0.466929\n",
       "GarageYrBlt      0.486362\n",
       "GarageCars       0.640409\n",
       "GarageArea       0.623431\n",
       "WoodDeckSF       0.324413\n",
       "OpenPorchSF      0.315856\n",
       "EnclosedPorch   -0.128578\n",
       "3SsnPorch        0.044584\n",
       "ScreenPorch      0.111447\n",
       "PoolArea         0.092404\n",
       "MiscVal         -0.021190\n",
       "MoSold           0.046432\n",
       "YrSold          -0.028923\n",
       "SalePrice        1.000000\n",
       "Name: SalePrice, dtype: float64"
      ]
     },
     "execution_count": 16,
     "metadata": {},
     "output_type": "execute_result"
    }
   ],
   "source": [
    "corr = train.corr()[y_col]\n",
    "corr"
   ]
  },
  {
   "cell_type": "code",
   "execution_count": 14,
   "metadata": {},
   "outputs": [
    {
     "name": "stdout",
     "output_type": "stream",
     "text": [
      "SalePrice\n",
      "num_x :  ['OverallQual', 'GrLivArea', 'GarageCars', 'GarageArea', 'TotalBsmtSF', '1stFlrSF', 'FullBath', 'TotRmsAbvGrd', 'YearBuilt', 'YearRemodAdd', 'GarageYrBlt', 'MasVnrArea', 'Fireplaces', 'BsmtFinSF1', 'LotFrontage', 'WoodDeckSF', '2ndFlrSF', 'OpenPorchSF', 'HalfBath', 'LotArea', 'BsmtFullBath', 'BsmtUnfSF', 'BedroomAbvGr', 'ScreenPorch', 'PoolArea', 'MoSold', '3SsnPorch', 'BsmtFinSF2', 'BsmtHalfBath', 'MiscVal', 'Id', 'LowQualFinSF', 'YrSold', 'OverallCond', 'MSSubClass', 'EnclosedPorch', 'KitchenAbvGr']\n",
      "cat_x :  ['MSZoning', 'Street', 'Alley', 'LotShape', 'LandContour', 'Utilities', 'LotConfig', 'LandSlope', 'Neighborhood', 'Condition1', 'Condition2', 'BldgType', 'HouseStyle', 'RoofStyle', 'RoofMatl', 'Exterior1st', 'Exterior2nd', 'MasVnrType', 'ExterQual', 'ExterCond', 'Foundation', 'BsmtQual', 'BsmtCond', 'BsmtExposure', 'BsmtFinType1', 'BsmtFinType2', 'Heating', 'HeatingQC', 'CentralAir', 'Electrical', 'KitchenQual', 'Functional', 'FireplaceQu', 'GarageType', 'GarageFinish', 'GarageQual', 'GarageCond', 'PavedDrive', 'PoolQC', 'Fence', 'MiscFeature', 'SaleType', 'SaleCondition']\n",
      "(1460, 81)\n"
     ]
    },
    {
     "data": {
      "text/plain": [
       "<AxesSubplot:>"
      ]
     },
     "execution_count": 14,
     "metadata": {},
     "output_type": "execute_result"
    },
    {
     "data": {
      "image/png": "[encoded data removed]",
      "text/plain": [
       "<Figure size 432x288 with 1 Axes>"
      ]
     },
     "metadata": {
      "needs_background": "light"
     },
     "output_type": "display_data"
    }
   ],
   "source": [
    "y_col = (set(train.columns) - set(final_test.columns)).pop()\n",
    "print(y_col) # SalePrice\n",
    "corr = train.corr()[y_col]\n",
    "corr = corr.sort_values(ascending = False)\n",
    "num_x = list(corr.index)[1:]\n",
    "print('num_x : ', num_x)\n",
    "\n",
    "cat_x = [col for col in final_test.columns if final_test[col].dtype =='object']\n",
    "print('cat_x : ', cat_x)\n",
    "cat_x.sort(key = lambda x: -correlation_ratio(train[x],train[y_col]))\n",
    "\n",
    "\n",
    "print(train.shape)\n",
    "train_x = train.drop([y_col], axis = 1)\n",
    "train_y = train.loc[:, y_col]\n",
    "\n",
    "train[y_col].hist(bins = 50)"
   ]
  },
  {
   "cell_type": "code",
   "execution_count": 17,
   "metadata": {},
   "outputs": [
    {
     "data": {
      "text/plain": [
       "Neighborhood     25\n",
       "ExterQual         4\n",
       "KitchenQual       4\n",
       "BsmtQual          4\n",
       "Foundation        6\n",
       "GarageFinish      3\n",
       "HeatingQC         5\n",
       "GarageType        6\n",
       "BsmtFinType1      6\n",
       "MasVnrType        4\n",
       "Exterior2nd      16\n",
       "Exterior1st      15\n",
       "SaleType          9\n",
       "SaleCondition     6\n",
       "BsmtExposure      4\n",
       "MSZoning          5\n",
       "HouseStyle        8\n",
       "LotShape          4\n",
       "CentralAir        2\n",
       "Electrical        5\n",
       "FireplaceQu       5\n",
       "RoofStyle         6\n",
       "PavedDrive        3\n",
       "BldgType          5\n",
       "Condition1        9\n",
       "RoofMatl          8\n",
       "BsmtCond          4\n",
       "LandContour       4\n",
       "GarageQual        5\n",
       "GarageCond        5\n",
       "ExterCond         5\n",
       "LotConfig         5\n",
       "Functional        7\n",
       "Heating           6\n",
       "Condition2        8\n",
       "BsmtFinType2      6\n",
       "Fence             4\n",
       "PoolQC            3\n",
       "Alley             2\n",
       "LandSlope         3\n",
       "Street            2\n",
       "MiscFeature       4\n",
       "Utilities         2\n",
       "dtype: int64"
      ]
     },
     "execution_count": 17,
     "metadata": {},
     "output_type": "execute_result"
    }
   ],
   "source": [
    "#  고유값의 총 갯수\n",
    "train[cat_x].nunique()"
   ]
  },
  {
   "cell_type": "code",
   "execution_count": 18,
   "metadata": {},
   "outputs": [
    {
     "data": {
      "text/html": [
       "<div>\n",
       "<style scoped>\n",
       "    .dataframe tbody tr th:only-of-type {\n",
       "        vertical-align: middle;\n",
       "    }\n",
       "\n",
       "    .dataframe tbody tr th {\n",
       "        vertical-align: top;\n",
       "    }\n",
       "\n",
       "    .dataframe thead th {\n",
       "        text-align: right;\n",
       "    }\n",
       "</style>\n",
       "<table border=\"1\" class=\"dataframe\">\n",
       "  <thead>\n",
       "    <tr style=\"text-align: right;\">\n",
       "      <th></th>\n",
       "      <th>Id</th>\n",
       "      <th>MSSubClass</th>\n",
       "      <th>MSZoning</th>\n",
       "      <th>LotFrontage</th>\n",
       "      <th>LotArea</th>\n",
       "      <th>Street</th>\n",
       "      <th>Alley</th>\n",
       "      <th>LotShape</th>\n",
       "      <th>LandContour</th>\n",
       "      <th>Utilities</th>\n",
       "      <th>...</th>\n",
       "      <th>PoolArea</th>\n",
       "      <th>PoolQC</th>\n",
       "      <th>Fence</th>\n",
       "      <th>MiscFeature</th>\n",
       "      <th>MiscVal</th>\n",
       "      <th>MoSold</th>\n",
       "      <th>YrSold</th>\n",
       "      <th>SaleType</th>\n",
       "      <th>SaleCondition</th>\n",
       "      <th>SalePrice</th>\n",
       "    </tr>\n",
       "  </thead>\n",
       "  <tbody>\n",
       "    <tr>\n",
       "      <th>0</th>\n",
       "      <td>1</td>\n",
       "      <td>60</td>\n",
       "      <td>RL</td>\n",
       "      <td>65.0</td>\n",
       "      <td>8450</td>\n",
       "      <td>Pave</td>\n",
       "      <td>NaN</td>\n",
       "      <td>Reg</td>\n",
       "      <td>Lvl</td>\n",
       "      <td>AllPub</td>\n",
       "      <td>...</td>\n",
       "      <td>0</td>\n",
       "      <td>NaN</td>\n",
       "      <td>NaN</td>\n",
       "      <td>NaN</td>\n",
       "      <td>0</td>\n",
       "      <td>2</td>\n",
       "      <td>2008</td>\n",
       "      <td>WD</td>\n",
       "      <td>Normal</td>\n",
       "      <td>208500</td>\n",
       "    </tr>\n",
       "    <tr>\n",
       "      <th>1</th>\n",
       "      <td>2</td>\n",
       "      <td>20</td>\n",
       "      <td>RL</td>\n",
       "      <td>80.0</td>\n",
       "      <td>9600</td>\n",
       "      <td>Pave</td>\n",
       "      <td>NaN</td>\n",
       "      <td>Reg</td>\n",
       "      <td>Lvl</td>\n",
       "      <td>AllPub</td>\n",
       "      <td>...</td>\n",
       "      <td>0</td>\n",
       "      <td>NaN</td>\n",
       "      <td>NaN</td>\n",
       "      <td>NaN</td>\n",
       "      <td>0</td>\n",
       "      <td>5</td>\n",
       "      <td>2007</td>\n",
       "      <td>WD</td>\n",
       "      <td>Normal</td>\n",
       "      <td>181500</td>\n",
       "    </tr>\n",
       "    <tr>\n",
       "      <th>2</th>\n",
       "      <td>3</td>\n",
       "      <td>60</td>\n",
       "      <td>RL</td>\n",
       "      <td>68.0</td>\n",
       "      <td>11250</td>\n",
       "      <td>Pave</td>\n",
       "      <td>NaN</td>\n",
       "      <td>IR1</td>\n",
       "      <td>Lvl</td>\n",
       "      <td>AllPub</td>\n",
       "      <td>...</td>\n",
       "      <td>0</td>\n",
       "      <td>NaN</td>\n",
       "      <td>NaN</td>\n",
       "      <td>NaN</td>\n",
       "      <td>0</td>\n",
       "      <td>9</td>\n",
       "      <td>2008</td>\n",
       "      <td>WD</td>\n",
       "      <td>Normal</td>\n",
       "      <td>223500</td>\n",
       "    </tr>\n",
       "    <tr>\n",
       "      <th>3</th>\n",
       "      <td>4</td>\n",
       "      <td>70</td>\n",
       "      <td>RL</td>\n",
       "      <td>60.0</td>\n",
       "      <td>9550</td>\n",
       "      <td>Pave</td>\n",
       "      <td>NaN</td>\n",
       "      <td>IR1</td>\n",
       "      <td>Lvl</td>\n",
       "      <td>AllPub</td>\n",
       "      <td>...</td>\n",
       "      <td>0</td>\n",
       "      <td>NaN</td>\n",
       "      <td>NaN</td>\n",
       "      <td>NaN</td>\n",
       "      <td>0</td>\n",
       "      <td>2</td>\n",
       "      <td>2006</td>\n",
       "      <td>WD</td>\n",
       "      <td>Abnorml</td>\n",
       "      <td>140000</td>\n",
       "    </tr>\n",
       "    <tr>\n",
       "      <th>4</th>\n",
       "      <td>5</td>\n",
       "      <td>60</td>\n",
       "      <td>RL</td>\n",
       "      <td>84.0</td>\n",
       "      <td>14260</td>\n",
       "      <td>Pave</td>\n",
       "      <td>NaN</td>\n",
       "      <td>IR1</td>\n",
       "      <td>Lvl</td>\n",
       "      <td>AllPub</td>\n",
       "      <td>...</td>\n",
       "      <td>0</td>\n",
       "      <td>NaN</td>\n",
       "      <td>NaN</td>\n",
       "      <td>NaN</td>\n",
       "      <td>0</td>\n",
       "      <td>12</td>\n",
       "      <td>2008</td>\n",
       "      <td>WD</td>\n",
       "      <td>Normal</td>\n",
       "      <td>250000</td>\n",
       "    </tr>\n",
       "  </tbody>\n",
       "</table>\n",
       "<p>5 rows × 81 columns</p>\n",
       "</div>"
      ],
      "text/plain": [
       "   Id  MSSubClass MSZoning  LotFrontage  LotArea Street Alley LotShape  \\\n",
       "0   1          60       RL         65.0     8450   Pave   NaN      Reg   \n",
       "1   2          20       RL         80.0     9600   Pave   NaN      Reg   \n",
       "2   3          60       RL         68.0    11250   Pave   NaN      IR1   \n",
       "3   4          70       RL         60.0     9550   Pave   NaN      IR1   \n",
       "4   5          60       RL         84.0    14260   Pave   NaN      IR1   \n",
       "\n",
       "  LandContour Utilities  ... PoolArea PoolQC Fence MiscFeature MiscVal MoSold  \\\n",
       "0         Lvl    AllPub  ...        0    NaN   NaN         NaN       0      2   \n",
       "1         Lvl    AllPub  ...        0    NaN   NaN         NaN       0      5   \n",
       "2         Lvl    AllPub  ...        0    NaN   NaN         NaN       0      9   \n",
       "3         Lvl    AllPub  ...        0    NaN   NaN         NaN       0      2   \n",
       "4         Lvl    AllPub  ...        0    NaN   NaN         NaN       0     12   \n",
       "\n",
       "  YrSold  SaleType  SaleCondition  SalePrice  \n",
       "0   2008        WD         Normal     208500  \n",
       "1   2007        WD         Normal     181500  \n",
       "2   2008        WD         Normal     223500  \n",
       "3   2006        WD        Abnorml     140000  \n",
       "4   2008        WD         Normal     250000  \n",
       "\n",
       "[5 rows x 81 columns]"
      ]
     },
     "execution_count": 18,
     "metadata": {},
     "output_type": "execute_result"
    }
   ],
   "source": [
    "train.head()\n"
   ]
  },
  {
   "cell_type": "code",
   "execution_count": 19,
   "metadata": {},
   "outputs": [
    {
     "name": "stdout",
     "output_type": "stream",
     "text": [
      "Skewness: 1.882876\n",
      "Skewness: 0.121347\n"
     ]
    },
    {
     "data": {
      "text/plain": [
       "<AxesSubplot:>"
      ]
     },
     "execution_count": 19,
     "metadata": {},
     "output_type": "execute_result"
    },
    {
     "data": {
      "image/png": "[encoded data removed]",
      "text/plain": [
       "<Figure size 432x288 with 1 Axes>"
      ]
     },
     "metadata": {
      "needs_background": "light"
     },
     "output_type": "display_data"
    }
   ],
   "source": [
    "print(\"Skewness: %f\" % train[y_col].skew())\n",
    "train[y_col] = np.log1p(train[y_col])\n",
    "print(\"Skewness: %f\" % train[y_col].skew())\n",
    "train[y_col].hist(bins =50)"
   ]
  },
  {
   "cell_type": "code",
   "execution_count": 24,
   "metadata": {},
   "outputs": [
    {
     "name": "stdout",
     "output_type": "stream",
     "text": [
      "Categorical Features with highest correlation ratio\n"
     ]
    },
    {
     "data": {
      "text/plain": [
       "[('Neighborhood', -0.76),\n",
       " ('ExterQual', -0.68),\n",
       " ('KitchenQual', -0.67),\n",
       " ('BsmtQual', -0.64),\n",
       " ('Foundation', -0.55),\n",
       " ('GarageFinish', -0.52),\n",
       " ('HeatingQC', -0.48),\n",
       " ('GarageType', -0.48),\n",
       " ('MasVnrType', -0.44),\n",
       " ('Exterior1st', -0.43)]"
      ]
     },
     "execution_count": 24,
     "metadata": {},
     "output_type": "execute_result"
    }
   ],
   "source": [
    "cat_x = [(col, round(-correlation_ratio(train[col], train[y_col]), 2)) for col in final_test.columns if final_test[col].dtype =='object']\n",
    "cat_x.sort(key = lambda x:x[1])\n",
    "print('Categorical Features with highest correlation ratio')\n",
    "cat_x[:10]"
   ]
  },
  {
   "cell_type": "code",
   "execution_count": 25,
   "metadata": {},
   "outputs": [
    {
     "name": "stdout",
     "output_type": "stream",
     "text": [
      "Numeric features with highest correlation\n"
     ]
    },
    {
     "data": {
      "text/plain": [
       "SalePrice       1.000000\n",
       "OverallQual     0.817185\n",
       "GrLivArea       0.700927\n",
       "GarageCars      0.680625\n",
       "GarageArea      0.650888\n",
       "TotalBsmtSF     0.612134\n",
       "1stFlrSF        0.596981\n",
       "FullBath        0.594771\n",
       "YearBuilt       0.586570\n",
       "YearRemodAdd    0.565608\n",
       "Name: SalePrice, dtype: float64"
      ]
     },
     "execution_count": 25,
     "metadata": {},
     "output_type": "execute_result"
    }
   ],
   "source": [
    "corr  = train.corr()[y_col]\n",
    "corr = corr.sort_values(ascending=False)\n",
    "print('Numeric features with highest correlation')\n",
    "corr[:10]"
   ]
  },
  {
   "cell_type": "markdown",
   "metadata": {},
   "source": [
    "# Exploration : Quantitative Variables"
   ]
  },
  {
   "cell_type": "code",
   "execution_count": 31,
   "metadata": {},
   "outputs": [
    {
     "data": {
      "text/html": [
       "\n",
       "<div id=\"altair-viz-624688e2995c41b5970fe3036894e0d6\"></div>\n",
       "<script type=\"text/javascript\">\n",
       "  (function(spec, embedOpt){\n",
       "    let outputDiv = document.currentScript.previousElementSibling;\n",
       "    if (outputDiv.id !== \"altair-viz-624688e2995c41b5970fe3036894e0d6\") {\n",
       "      outputDiv = document.getElementById(\"altair-viz-624688e2995c41b5970fe3036894e0d6\");\n",
       "    }\n",
       "    const paths = {\n",
       "      \"vega\": \"https://cdn.jsdelivr.net/npm//vega@5?noext\",\n",
       "      \"vega-lib\": \"https://cdn.jsdelivr.net/npm//vega-lib?noext\",\n",
       "      \"vega-lite\": \"https://cdn.jsdelivr.net/npm//vega-lite@4.8.1?noext\",\n",
       "      \"vega-embed\": \"https://cdn.jsdelivr.net/npm//vega-embed@6?noext\",\n",
       "    };\n",
       "\n",
       "    function loadScript(lib) {\n",
       "      return new Promise(function(resolve, reject) {\n",
       "        var s = document.createElement('script');\n",
       "        s.src = paths[lib];\n",
       "        s.async = true;\n",
       "        s.onload = () => resolve(paths[lib]);\n",
       "        s.onerror = () => reject(`Error loading script: ${paths[lib]}`);\n",
       "        document.getElementsByTagName(\"head\")[0].appendChild(s);\n",
       "      });\n",
       "    }\n",
       "\n",
       "    function showError(err) {\n",
       "      outputDiv.innerHTML = `<div class=\"error\" style=\"color:red;\">${err}</div>`;\n",
       "      throw err;\n",
       "    }\n",
       "\n",
       "    function displayChart(vegaEmbed) {\n",
       "      vegaEmbed(outputDiv, spec, embedOpt)\n",
       "        .catch(err => showError(`Javascript Error: ${err.message}<br>This usually means there's a typo in your chart specification. See the javascript console for the full traceback.`));\n",
       "    }\n",
       "\n",
       "    if(typeof define === \"function\" && define.amd) {\n",
       "      requirejs.config({paths});\n",
       "      require([\"vega-embed\"], displayChart, err => showError(`Error loading script: ${err.message}`));\n",
       "    } else if (typeof vegaEmbed === \"function\") {\n",
       "      displayChart(vegaEmbed);\n",
       "    } else {\n",
       "      loadScript(\"vega\")\n",
       "        .then(() => loadScript(\"vega-lite\"))\n",
       "        .then(() => loadScript(\"vega-embed\"))\n",
       "        .catch(showError)\n",
       "        .then(() => displayChart(vegaEmbed));\n",
       "    }\n",
       "  })({\"config\": {\"view\": {\"continuousWidth\": 400, \"continuousHeight\": 300}}, \"vconcat\": [{\"hconcat\": [{\"mark\": {\"type\": \"point\", \"color\": \"red\", \"opacity\": 0.1, \"size\": 1}, \"encoding\": {\"x\": {\"type\": \"quantitative\", \"field\": \"OverallQual\", \"scale\": {\"zero\": false}}, \"y\": {\"type\": \"quantitative\", \"field\": \"SalePrice\"}}, \"height\": 150, \"width\": 150}, {\"mark\": {\"type\": \"point\", \"color\": \"red\", \"opacity\": 0.1, \"size\": 1}, \"encoding\": {\"x\": {\"type\": \"quantitative\", \"field\": \"GrLivArea\", \"scale\": {\"zero\": false}}, \"y\": {\"type\": \"quantitative\", \"field\": \"SalePrice\"}}, \"height\": 150, \"width\": 150}, {\"mark\": {\"type\": \"point\", \"color\": \"red\", \"opacity\": 0.1, \"size\": 1}, \"encoding\": {\"x\": {\"type\": \"quantitative\", \"field\": \"GarageCars\", \"scale\": {\"zero\": false}}, \"y\": {\"type\": \"quantitative\", \"field\": \"SalePrice\"}}, \"height\": 150, \"width\": 150}, {\"mark\": {\"type\": \"point\", \"color\": \"red\", \"opacity\": 0.1, \"size\": 1}, \"encoding\": {\"x\": {\"type\": \"quantitative\", \"field\": \"GarageArea\", \"scale\": {\"zero\": false}}, \"y\": {\"type\": \"quantitative\", \"field\": \"SalePrice\"}}, \"height\": 150, \"width\": 150}, {\"mark\": {\"type\": \"point\", \"color\": \"red\", \"opacity\": 0.1, \"size\": 1}, \"encoding\": {\"x\": {\"type\": \"quantitative\", \"field\": \"TotalBsmtSF\", \"scale\": {\"zero\": false}}, \"y\": {\"type\": \"quantitative\", \"field\": \"SalePrice\"}}, \"height\": 150, \"width\": 150}, {\"mark\": {\"type\": \"point\", \"color\": \"red\", \"opacity\": 0.1, \"size\": 1}, \"encoding\": {\"x\": {\"type\": \"quantitative\", \"field\": \"1stFlrSF\", \"scale\": {\"zero\": false}}, \"y\": {\"type\": \"quantitative\", \"field\": \"SalePrice\"}}, \"height\": 150, \"width\": 150}, {\"mark\": {\"type\": \"point\", \"color\": \"red\", \"opacity\": 0.1, \"size\": 1}, \"encoding\": {\"x\": {\"type\": \"quantitative\", \"field\": \"FullBath\", \"scale\": {\"zero\": false}}, \"y\": {\"type\": \"quantitative\", \"field\": \"SalePrice\"}}, \"height\": 150, \"width\": 150}]}, {\"hconcat\": [{\"mark\": {\"type\": \"point\", \"color\": \"red\", \"opacity\": 0.1, \"size\": 1}, \"encoding\": {\"x\": {\"type\": \"quantitative\", \"field\": \"TotRmsAbvGrd\", \"scale\": {\"zero\": false}}, \"y\": {\"type\": \"quantitative\", \"field\": \"SalePrice\"}}, \"height\": 150, \"width\": 150}, {\"mark\": {\"type\": \"point\", \"color\": \"red\", \"opacity\": 0.1, \"size\": 1}, \"encoding\": {\"x\": {\"type\": \"quantitative\", \"field\": \"YearBuilt\", \"scale\": {\"zero\": false}}, \"y\": {\"type\": \"quantitative\", \"field\": \"SalePrice\"}}, \"height\": 150, \"width\": 150}, {\"mark\": {\"type\": \"point\", \"color\": \"red\", \"opacity\": 0.1, \"size\": 1}, \"encoding\": {\"x\": {\"type\": \"quantitative\", \"field\": \"YearRemodAdd\", \"scale\": {\"zero\": false}}, \"y\": {\"type\": \"quantitative\", \"field\": \"SalePrice\"}}, \"height\": 150, \"width\": 150}, {\"mark\": {\"type\": \"point\", \"color\": \"red\", \"opacity\": 0.1, \"size\": 1}, \"encoding\": {\"x\": {\"type\": \"quantitative\", \"field\": \"GarageYrBlt\", \"scale\": {\"zero\": false}}, \"y\": {\"type\": \"quantitative\", \"field\": \"SalePrice\"}}, \"height\": 150, \"width\": 150}, {\"mark\": {\"type\": \"point\", \"color\": \"red\", \"opacity\": 0.1, \"size\": 1}, \"encoding\": {\"x\": {\"type\": \"quantitative\", \"field\": \"MasVnrArea\", \"scale\": {\"zero\": false}}, \"y\": {\"type\": \"quantitative\", \"field\": \"SalePrice\"}}, \"height\": 150, \"width\": 150}, {\"mark\": {\"type\": \"point\", \"color\": \"red\", \"opacity\": 0.1, \"size\": 1}, \"encoding\": {\"x\": {\"type\": \"quantitative\", \"field\": \"Fireplaces\", \"scale\": {\"zero\": false}}, \"y\": {\"type\": \"quantitative\", \"field\": \"SalePrice\"}}, \"height\": 150, \"width\": 150}, {\"mark\": {\"type\": \"point\", \"color\": \"red\", \"opacity\": 0.1, \"size\": 1}, \"encoding\": {\"x\": {\"type\": \"quantitative\", \"field\": \"BsmtFinSF1\", \"scale\": {\"zero\": false}}, \"y\": {\"type\": \"quantitative\", \"field\": \"SalePrice\"}}, \"height\": 150, \"width\": 150}]}, {\"hconcat\": [{\"mark\": {\"type\": \"point\", \"color\": \"red\", \"opacity\": 0.1, \"size\": 1}, \"encoding\": {\"x\": {\"type\": \"quantitative\", \"field\": \"LotFrontage\", \"scale\": {\"zero\": false}}, \"y\": {\"type\": \"quantitative\", \"field\": \"SalePrice\"}}, \"height\": 150, \"width\": 150}, {\"mark\": {\"type\": \"point\", \"color\": \"red\", \"opacity\": 0.1, \"size\": 1}, \"encoding\": {\"x\": {\"type\": \"quantitative\", \"field\": \"WoodDeckSF\", \"scale\": {\"zero\": false}}, \"y\": {\"type\": \"quantitative\", \"field\": \"SalePrice\"}}, \"height\": 150, \"width\": 150}, {\"mark\": {\"type\": \"point\", \"color\": \"red\", \"opacity\": 0.1, \"size\": 1}, \"encoding\": {\"x\": {\"type\": \"quantitative\", \"field\": \"2ndFlrSF\", \"scale\": {\"zero\": false}}, \"y\": {\"type\": \"quantitative\", \"field\": \"SalePrice\"}}, \"height\": 150, \"width\": 150}, {\"mark\": {\"type\": \"point\", \"color\": \"red\", \"opacity\": 0.1, \"size\": 1}, \"encoding\": {\"x\": {\"type\": \"quantitative\", \"field\": \"OpenPorchSF\", \"scale\": {\"zero\": false}}, \"y\": {\"type\": \"quantitative\", \"field\": \"SalePrice\"}}, \"height\": 150, \"width\": 150}, {\"mark\": {\"type\": \"point\", \"color\": \"red\", \"opacity\": 0.1, \"size\": 1}, \"encoding\": {\"x\": {\"type\": \"quantitative\", \"field\": \"HalfBath\", \"scale\": {\"zero\": false}}, \"y\": {\"type\": \"quantitative\", \"field\": \"SalePrice\"}}, \"height\": 150, \"width\": 150}, {\"mark\": {\"type\": \"point\", \"color\": \"red\", \"opacity\": 0.1, \"size\": 1}, \"encoding\": {\"x\": {\"type\": \"quantitative\", \"field\": \"LotArea\", \"scale\": {\"zero\": false}}, \"y\": {\"type\": \"quantitative\", \"field\": \"SalePrice\"}}, \"height\": 150, \"width\": 150}, {\"mark\": {\"type\": \"point\", \"color\": \"red\", \"opacity\": 0.1, \"size\": 1}, \"encoding\": {\"x\": {\"type\": \"quantitative\", \"field\": \"BsmtFullBath\", \"scale\": {\"zero\": false}}, \"y\": {\"type\": \"quantitative\", \"field\": \"SalePrice\"}}, \"height\": 150, \"width\": 150}]}, {\"hconcat\": [{\"mark\": {\"type\": \"point\", \"color\": \"red\", \"opacity\": 0.1, \"size\": 1}, \"encoding\": {\"x\": {\"type\": \"quantitative\", \"field\": \"BsmtUnfSF\", \"scale\": {\"zero\": false}}, \"y\": {\"type\": \"quantitative\", \"field\": \"SalePrice\"}}, \"height\": 150, \"width\": 150}, {\"mark\": {\"type\": \"point\", \"color\": \"red\", \"opacity\": 0.1, \"size\": 1}, \"encoding\": {\"x\": {\"type\": \"quantitative\", \"field\": \"BedroomAbvGr\", \"scale\": {\"zero\": false}}, \"y\": {\"type\": \"quantitative\", \"field\": \"SalePrice\"}}, \"height\": 150, \"width\": 150}, {\"mark\": {\"type\": \"point\", \"color\": \"red\", \"opacity\": 0.1, \"size\": 1}, \"encoding\": {\"x\": {\"type\": \"quantitative\", \"field\": \"ScreenPorch\", \"scale\": {\"zero\": false}}, \"y\": {\"type\": \"quantitative\", \"field\": \"SalePrice\"}}, \"height\": 150, \"width\": 150}, {\"mark\": {\"type\": \"point\", \"color\": \"red\", \"opacity\": 0.1, \"size\": 1}, \"encoding\": {\"x\": {\"type\": \"quantitative\", \"field\": \"PoolArea\", \"scale\": {\"zero\": false}}, \"y\": {\"type\": \"quantitative\", \"field\": \"SalePrice\"}}, \"height\": 150, \"width\": 150}, {\"mark\": {\"type\": \"point\", \"color\": \"red\", \"opacity\": 0.1, \"size\": 1}, \"encoding\": {\"x\": {\"type\": \"quantitative\", \"field\": \"MoSold\", \"scale\": {\"zero\": false}}, \"y\": {\"type\": \"quantitative\", \"field\": \"SalePrice\"}}, \"height\": 150, \"width\": 150}, {\"mark\": {\"type\": \"point\", \"color\": \"red\", \"opacity\": 0.1, \"size\": 1}, \"encoding\": {\"x\": {\"type\": \"quantitative\", \"field\": \"3SsnPorch\", \"scale\": {\"zero\": false}}, \"y\": {\"type\": \"quantitative\", \"field\": \"SalePrice\"}}, \"height\": 150, \"width\": 150}, {\"mark\": {\"type\": \"point\", \"color\": \"red\", \"opacity\": 0.1, \"size\": 1}, \"encoding\": {\"x\": {\"type\": \"quantitative\", \"field\": \"BsmtFinSF2\", \"scale\": {\"zero\": false}}, \"y\": {\"type\": \"quantitative\", \"field\": \"SalePrice\"}}, \"height\": 150, \"width\": 150}]}, {\"hconcat\": [{\"mark\": {\"type\": \"point\", \"color\": \"red\", \"opacity\": 0.1, \"size\": 1}, \"encoding\": {\"x\": {\"type\": \"quantitative\", \"field\": \"BsmtHalfBath\", \"scale\": {\"zero\": false}}, \"y\": {\"type\": \"quantitative\", \"field\": \"SalePrice\"}}, \"height\": 150, \"width\": 150}, {\"mark\": {\"type\": \"point\", \"color\": \"red\", \"opacity\": 0.1, \"size\": 1}, \"encoding\": {\"x\": {\"type\": \"quantitative\", \"field\": \"MiscVal\", \"scale\": {\"zero\": false}}, \"y\": {\"type\": \"quantitative\", \"field\": \"SalePrice\"}}, \"height\": 150, \"width\": 150}, {\"mark\": {\"type\": \"point\", \"color\": \"red\", \"opacity\": 0.1, \"size\": 1}, \"encoding\": {\"x\": {\"type\": \"quantitative\", \"field\": \"Id\", \"scale\": {\"zero\": false}}, \"y\": {\"type\": \"quantitative\", \"field\": \"SalePrice\"}}, \"height\": 150, \"width\": 150}, {\"mark\": {\"type\": \"point\", \"color\": \"red\", \"opacity\": 0.1, \"size\": 1}, \"encoding\": {\"x\": {\"type\": \"quantitative\", \"field\": \"LowQualFinSF\", \"scale\": {\"zero\": false}}, \"y\": {\"type\": \"quantitative\", \"field\": \"SalePrice\"}}, \"height\": 150, \"width\": 150}, {\"mark\": {\"type\": \"point\", \"color\": \"red\", \"opacity\": 0.1, \"size\": 1}, \"encoding\": {\"x\": {\"type\": \"quantitative\", \"field\": \"YrSold\", \"scale\": {\"zero\": false}}, \"y\": {\"type\": \"quantitative\", \"field\": \"SalePrice\"}}, \"height\": 150, \"width\": 150}, {\"mark\": {\"type\": \"point\", \"color\": \"red\", \"opacity\": 0.1, \"size\": 1}, \"encoding\": {\"x\": {\"type\": \"quantitative\", \"field\": \"OverallCond\", \"scale\": {\"zero\": false}}, \"y\": {\"type\": \"quantitative\", \"field\": \"SalePrice\"}}, \"height\": 150, \"width\": 150}, {\"mark\": {\"type\": \"point\", \"color\": \"red\", \"opacity\": 0.1, \"size\": 1}, \"encoding\": {\"x\": {\"type\": \"quantitative\", \"field\": \"MSSubClass\", \"scale\": {\"zero\": false}}, \"y\": {\"type\": \"quantitative\", \"field\": \"SalePrice\"}}, \"height\": 150, \"width\": 150}]}, {\"hconcat\": [{\"mark\": {\"type\": \"point\", \"color\": \"red\", \"opacity\": 0.1, \"size\": 1}, \"encoding\": {\"x\": {\"type\": \"quantitative\", \"field\": \"EnclosedPorch\", \"scale\": {\"zero\": false}}, \"y\": {\"type\": \"quantitative\", \"field\": \"SalePrice\"}}, \"height\": 150, \"width\": 150}, {\"mark\": {\"type\": \"point\", \"color\": \"red\", \"opacity\": 0.1, \"size\": 1}, \"encoding\": {\"x\": {\"type\": \"quantitative\", \"field\": \"KitchenAbvGr\", \"scale\": {\"zero\": false}}, \"y\": {\"type\": \"quantitative\", \"field\": \"SalePrice\"}}, \"height\": 150, \"width\": 150}]}], \"data\": {\"url\": \"https://raw.githubusercontent.com/jvanelteren/housing/master/datasets/train.csv\"}, \"$schema\": \"https://vega.github.io/schema/vega-lite/v4.8.1.json\"}, {\"mode\": \"vega-lite\"});\n",
       "</script>"
      ],
      "text/plain": [
       "alt.VConcatChart(...)"
      ]
     },
     "execution_count": 31,
     "metadata": {},
     "output_type": "execute_result"
    }
   ],
   "source": [
    "from altair.expr import datum\n",
    "import altair as alt\n",
    "def gen_char(name):\n",
    "    return alt.Chart(path_train).mark_point(\n",
    "    color = 'red',\n",
    "        opacity = 0.1,\n",
    "        size = 1\n",
    "    ).encode(\n",
    "    x = alt.X(name+':Q', scale = alt.Scale(zero=False)),\n",
    "    y = 'SalePrice:Q'\n",
    "    ).properties(\n",
    "    width = 150,\n",
    "    height = 150\n",
    "    )\n",
    "\n",
    "subplts = []\n",
    "for name in num_x:\n",
    "    subplts.append(gen_char(name))\n",
    "plots_per_row = 7\n",
    "hconcat = [alt.hconcat(*subplts[i:i+plots_per_row]) for i in range(0, len(subplts), plots_per_row)]\n",
    "alt.vconcat(*hconcat)"
   ]
  },
  {
   "cell_type": "code",
   "execution_count": 53,
   "metadata": {},
   "outputs": [
    {
     "data": {
      "text/plain": [
       "['OverallQual',\n",
       " 'GrLivArea',\n",
       " 'GarageCars',\n",
       " 'GarageArea',\n",
       " 'TotalBsmtSF',\n",
       " '1stFlrSF',\n",
       " 'FullBath',\n",
       " 'TotRmsAbvGrd',\n",
       " 'YearBuilt',\n",
       " 'YearRemodAdd',\n",
       " 'GarageYrBlt',\n",
       " 'MasVnrArea',\n",
       " 'Fireplaces',\n",
       " 'BsmtFinSF1',\n",
       " 'LotFrontage',\n",
       " 'WoodDeckSF',\n",
       " '2ndFlrSF',\n",
       " 'OpenPorchSF',\n",
       " 'HalfBath',\n",
       " 'LotArea',\n",
       " 'BsmtFullBath',\n",
       " 'BsmtUnfSF',\n",
       " 'BedroomAbvGr',\n",
       " 'ScreenPorch',\n",
       " 'PoolArea',\n",
       " 'MoSold',\n",
       " '3SsnPorch',\n",
       " 'BsmtFinSF2',\n",
       " 'BsmtHalfBath',\n",
       " 'MiscVal',\n",
       " 'Id',\n",
       " 'LowQualFinSF',\n",
       " 'YrSold',\n",
       " 'OverallCond',\n",
       " 'MSSubClass',\n",
       " 'EnclosedPorch',\n",
       " 'KitchenAbvGr',\n",
       " 'SalePrice',\n",
       " 'SalePrice',\n",
       " 'SalePrice']"
      ]
     },
     "execution_count": 53,
     "metadata": {},
     "output_type": "execute_result"
    }
   ],
   "source": [
    "num_x"
   ]
  },
  {
   "cell_type": "code",
   "execution_count": 52,
   "metadata": {},
   "outputs": [
    {
     "data": {
      "text/html": [
       "\n",
       "<div id=\"altair-viz-4b476fc9b8814c9bbffee4d3fb9bc73f\"></div>\n",
       "<script type=\"text/javascript\">\n",
       "  (function(spec, embedOpt){\n",
       "    let outputDiv = document.currentScript.previousElementSibling;\n",
       "    if (outputDiv.id !== \"altair-viz-4b476fc9b8814c9bbffee4d3fb9bc73f\") {\n",
       "      outputDiv = document.getElementById(\"altair-viz-4b476fc9b8814c9bbffee4d3fb9bc73f\");\n",
       "    }\n",
       "    const paths = {\n",
       "      \"vega\": \"https://cdn.jsdelivr.net/npm//vega@5?noext\",\n",
       "      \"vega-lib\": \"https://cdn.jsdelivr.net/npm//vega-lib?noext\",\n",
       "      \"vega-lite\": \"https://cdn.jsdelivr.net/npm//vega-lite@4.8.1?noext\",\n",
       "      \"vega-embed\": \"https://cdn.jsdelivr.net/npm//vega-embed@6?noext\",\n",
       "    };\n",
       "\n",
       "    function loadScript(lib) {\n",
       "      return new Promise(function(resolve, reject) {\n",
       "        var s = document.createElement('script');\n",
       "        s.src = paths[lib];\n",
       "        s.async = true;\n",
       "        s.onload = () => resolve(paths[lib]);\n",
       "        s.onerror = () => reject(`Error loading script: ${paths[lib]}`);\n",
       "        document.getElementsByTagName(\"head\")[0].appendChild(s);\n",
       "      });\n",
       "    }\n",
       "\n",
       "    function showError(err) {\n",
       "      outputDiv.innerHTML = `<div class=\"error\" style=\"color:red;\">${err}</div>`;\n",
       "      throw err;\n",
       "    }\n",
       "\n",
       "    function displayChart(vegaEmbed) {\n",
       "      vegaEmbed(outputDiv, spec, embedOpt)\n",
       "        .catch(err => showError(`Javascript Error: ${err.message}<br>This usually means there's a typo in your chart specification. See the javascript console for the full traceback.`));\n",
       "    }\n",
       "\n",
       "    if(typeof define === \"function\" && define.amd) {\n",
       "      requirejs.config({paths});\n",
       "      require([\"vega-embed\"], displayChart, err => showError(`Error loading script: ${err.message}`));\n",
       "    } else if (typeof vegaEmbed === \"function\") {\n",
       "      displayChart(vegaEmbed);\n",
       "    } else {\n",
       "      loadScript(\"vega\")\n",
       "        .then(() => loadScript(\"vega-lite\"))\n",
       "        .then(() => loadScript(\"vega-embed\"))\n",
       "        .catch(showError)\n",
       "        .then(() => displayChart(vegaEmbed));\n",
       "    }\n",
       "  })({\"config\": {\"view\": {\"continuousWidth\": 400, \"continuousHeight\": 300}}, \"vconcat\": [{\"hconcat\": [{\"mark\": {\"type\": \"point\", \"opacity\": 0.1, \"size\": 2}, \"encoding\": {\"color\": {\"condition\": {\"value\": \"red\", \"selection\": \"selector008\"}, \"value\": \"green\"}, \"x\": {\"type\": \"quantitative\", \"field\": \"OverallQual\", \"scale\": {\"zero\": false}}, \"y\": {\"type\": \"quantitative\", \"field\": \"SalePrice\"}}, \"height\": 140, \"selection\": {\"selector008\": {\"type\": \"interval\", \"resolve\": \"global\"}}, \"width\": 140}, {\"mark\": {\"type\": \"point\", \"opacity\": 0.1, \"size\": 2}, \"encoding\": {\"color\": {\"condition\": {\"value\": \"red\", \"selection\": \"selector008\"}, \"value\": \"green\"}, \"x\": {\"type\": \"quantitative\", \"field\": \"GrLivArea\", \"scale\": {\"zero\": false}}, \"y\": {\"type\": \"quantitative\", \"field\": \"SalePrice\"}}, \"height\": 140, \"selection\": {\"selector008\": {\"type\": \"interval\", \"resolve\": \"global\"}}, \"width\": 140}, {\"mark\": {\"type\": \"point\", \"opacity\": 0.1, \"size\": 2}, \"encoding\": {\"color\": {\"condition\": {\"value\": \"red\", \"selection\": \"selector008\"}, \"value\": \"green\"}, \"x\": {\"type\": \"quantitative\", \"field\": \"GarageCars\", \"scale\": {\"zero\": false}}, \"y\": {\"type\": \"quantitative\", \"field\": \"SalePrice\"}}, \"height\": 140, \"selection\": {\"selector008\": {\"type\": \"interval\", \"resolve\": \"global\"}}, \"width\": 140}, {\"mark\": {\"type\": \"point\", \"opacity\": 0.1, \"size\": 2}, \"encoding\": {\"color\": {\"condition\": {\"value\": \"red\", \"selection\": \"selector008\"}, \"value\": \"green\"}, \"x\": {\"type\": \"quantitative\", \"field\": \"GarageArea\", \"scale\": {\"zero\": false}}, \"y\": {\"type\": \"quantitative\", \"field\": \"SalePrice\"}}, \"height\": 140, \"selection\": {\"selector008\": {\"type\": \"interval\", \"resolve\": \"global\"}}, \"width\": 140}, {\"mark\": {\"type\": \"point\", \"opacity\": 0.1, \"size\": 2}, \"encoding\": {\"color\": {\"condition\": {\"value\": \"red\", \"selection\": \"selector008\"}, \"value\": \"green\"}, \"x\": {\"type\": \"quantitative\", \"field\": \"TotalBsmtSF\", \"scale\": {\"zero\": false}}, \"y\": {\"type\": \"quantitative\", \"field\": \"SalePrice\"}}, \"height\": 140, \"selection\": {\"selector008\": {\"type\": \"interval\", \"resolve\": \"global\"}}, \"width\": 140}, {\"mark\": {\"type\": \"point\", \"opacity\": 0.1, \"size\": 2}, \"encoding\": {\"color\": {\"condition\": {\"value\": \"red\", \"selection\": \"selector008\"}, \"value\": \"green\"}, \"x\": {\"type\": \"quantitative\", \"field\": \"1stFlrSF\", \"scale\": {\"zero\": false}}, \"y\": {\"type\": \"quantitative\", \"field\": \"SalePrice\"}}, \"height\": 140, \"selection\": {\"selector008\": {\"type\": \"interval\", \"resolve\": \"global\"}}, \"width\": 140}, {\"mark\": {\"type\": \"point\", \"opacity\": 0.1, \"size\": 2}, \"encoding\": {\"color\": {\"condition\": {\"value\": \"red\", \"selection\": \"selector008\"}, \"value\": \"green\"}, \"x\": {\"type\": \"quantitative\", \"field\": \"FullBath\", \"scale\": {\"zero\": false}}, \"y\": {\"type\": \"quantitative\", \"field\": \"SalePrice\"}}, \"height\": 140, \"selection\": {\"selector008\": {\"type\": \"interval\", \"resolve\": \"global\"}}, \"width\": 140}]}, {\"hconcat\": [{\"mark\": {\"type\": \"point\", \"opacity\": 0.1, \"size\": 2}, \"encoding\": {\"color\": {\"condition\": {\"value\": \"red\", \"selection\": \"selector008\"}, \"value\": \"green\"}, \"x\": {\"type\": \"quantitative\", \"field\": \"TotRmsAbvGrd\", \"scale\": {\"zero\": false}}, \"y\": {\"type\": \"quantitative\", \"field\": \"SalePrice\"}}, \"height\": 140, \"selection\": {\"selector008\": {\"type\": \"interval\", \"resolve\": \"global\"}}, \"width\": 140}, {\"mark\": {\"type\": \"point\", \"opacity\": 0.1, \"size\": 2}, \"encoding\": {\"color\": {\"condition\": {\"value\": \"red\", \"selection\": \"selector008\"}, \"value\": \"green\"}, \"x\": {\"type\": \"quantitative\", \"field\": \"YearBuilt\", \"scale\": {\"zero\": false}}, \"y\": {\"type\": \"quantitative\", \"field\": \"SalePrice\"}}, \"height\": 140, \"selection\": {\"selector008\": {\"type\": \"interval\", \"resolve\": \"global\"}}, \"width\": 140}, {\"mark\": {\"type\": \"point\", \"opacity\": 0.1, \"size\": 2}, \"encoding\": {\"color\": {\"condition\": {\"value\": \"red\", \"selection\": \"selector008\"}, \"value\": \"green\"}, \"x\": {\"type\": \"quantitative\", \"field\": \"YearRemodAdd\", \"scale\": {\"zero\": false}}, \"y\": {\"type\": \"quantitative\", \"field\": \"SalePrice\"}}, \"height\": 140, \"selection\": {\"selector008\": {\"type\": \"interval\", \"resolve\": \"global\"}}, \"width\": 140}, {\"mark\": {\"type\": \"point\", \"opacity\": 0.1, \"size\": 2}, \"encoding\": {\"color\": {\"condition\": {\"value\": \"red\", \"selection\": \"selector008\"}, \"value\": \"green\"}, \"x\": {\"type\": \"quantitative\", \"field\": \"GarageYrBlt\", \"scale\": {\"zero\": false}}, \"y\": {\"type\": \"quantitative\", \"field\": \"SalePrice\"}}, \"height\": 140, \"selection\": {\"selector008\": {\"type\": \"interval\", \"resolve\": \"global\"}}, \"width\": 140}, {\"mark\": {\"type\": \"point\", \"opacity\": 0.1, \"size\": 2}, \"encoding\": {\"color\": {\"condition\": {\"value\": \"red\", \"selection\": \"selector008\"}, \"value\": \"green\"}, \"x\": {\"type\": \"quantitative\", \"field\": \"MasVnrArea\", \"scale\": {\"zero\": false}}, \"y\": {\"type\": \"quantitative\", \"field\": \"SalePrice\"}}, \"height\": 140, \"selection\": {\"selector008\": {\"type\": \"interval\", \"resolve\": \"global\"}}, \"width\": 140}, {\"mark\": {\"type\": \"point\", \"opacity\": 0.1, \"size\": 2}, \"encoding\": {\"color\": {\"condition\": {\"value\": \"red\", \"selection\": \"selector008\"}, \"value\": \"green\"}, \"x\": {\"type\": \"quantitative\", \"field\": \"Fireplaces\", \"scale\": {\"zero\": false}}, \"y\": {\"type\": \"quantitative\", \"field\": \"SalePrice\"}}, \"height\": 140, \"selection\": {\"selector008\": {\"type\": \"interval\", \"resolve\": \"global\"}}, \"width\": 140}, {\"mark\": {\"type\": \"point\", \"opacity\": 0.1, \"size\": 2}, \"encoding\": {\"color\": {\"condition\": {\"value\": \"red\", \"selection\": \"selector008\"}, \"value\": \"green\"}, \"x\": {\"type\": \"quantitative\", \"field\": \"BsmtFinSF1\", \"scale\": {\"zero\": false}}, \"y\": {\"type\": \"quantitative\", \"field\": \"SalePrice\"}}, \"height\": 140, \"selection\": {\"selector008\": {\"type\": \"interval\", \"resolve\": \"global\"}}, \"width\": 140}]}, {\"hconcat\": [{\"mark\": {\"type\": \"point\", \"opacity\": 0.1, \"size\": 2}, \"encoding\": {\"color\": {\"condition\": {\"value\": \"red\", \"selection\": \"selector008\"}, \"value\": \"green\"}, \"x\": {\"type\": \"quantitative\", \"field\": \"LotFrontage\", \"scale\": {\"zero\": false}}, \"y\": {\"type\": \"quantitative\", \"field\": \"SalePrice\"}}, \"height\": 140, \"selection\": {\"selector008\": {\"type\": \"interval\", \"resolve\": \"global\"}}, \"width\": 140}, {\"mark\": {\"type\": \"point\", \"opacity\": 0.1, \"size\": 2}, \"encoding\": {\"color\": {\"condition\": {\"value\": \"red\", \"selection\": \"selector008\"}, \"value\": \"green\"}, \"x\": {\"type\": \"quantitative\", \"field\": \"WoodDeckSF\", \"scale\": {\"zero\": false}}, \"y\": {\"type\": \"quantitative\", \"field\": \"SalePrice\"}}, \"height\": 140, \"selection\": {\"selector008\": {\"type\": \"interval\", \"resolve\": \"global\"}}, \"width\": 140}, {\"mark\": {\"type\": \"point\", \"opacity\": 0.1, \"size\": 2}, \"encoding\": {\"color\": {\"condition\": {\"value\": \"red\", \"selection\": \"selector008\"}, \"value\": \"green\"}, \"x\": {\"type\": \"quantitative\", \"field\": \"2ndFlrSF\", \"scale\": {\"zero\": false}}, \"y\": {\"type\": \"quantitative\", \"field\": \"SalePrice\"}}, \"height\": 140, \"selection\": {\"selector008\": {\"type\": \"interval\", \"resolve\": \"global\"}}, \"width\": 140}, {\"mark\": {\"type\": \"point\", \"opacity\": 0.1, \"size\": 2}, \"encoding\": {\"color\": {\"condition\": {\"value\": \"red\", \"selection\": \"selector008\"}, \"value\": \"green\"}, \"x\": {\"type\": \"quantitative\", \"field\": \"OpenPorchSF\", \"scale\": {\"zero\": false}}, \"y\": {\"type\": \"quantitative\", \"field\": \"SalePrice\"}}, \"height\": 140, \"selection\": {\"selector008\": {\"type\": \"interval\", \"resolve\": \"global\"}}, \"width\": 140}, {\"mark\": {\"type\": \"point\", \"opacity\": 0.1, \"size\": 2}, \"encoding\": {\"color\": {\"condition\": {\"value\": \"red\", \"selection\": \"selector008\"}, \"value\": \"green\"}, \"x\": {\"type\": \"quantitative\", \"field\": \"HalfBath\", \"scale\": {\"zero\": false}}, \"y\": {\"type\": \"quantitative\", \"field\": \"SalePrice\"}}, \"height\": 140, \"selection\": {\"selector008\": {\"type\": \"interval\", \"resolve\": \"global\"}}, \"width\": 140}, {\"mark\": {\"type\": \"point\", \"opacity\": 0.1, \"size\": 2}, \"encoding\": {\"color\": {\"condition\": {\"value\": \"red\", \"selection\": \"selector008\"}, \"value\": \"green\"}, \"x\": {\"type\": \"quantitative\", \"field\": \"LotArea\", \"scale\": {\"zero\": false}}, \"y\": {\"type\": \"quantitative\", \"field\": \"SalePrice\"}}, \"height\": 140, \"selection\": {\"selector008\": {\"type\": \"interval\", \"resolve\": \"global\"}}, \"width\": 140}, {\"mark\": {\"type\": \"point\", \"opacity\": 0.1, \"size\": 2}, \"encoding\": {\"color\": {\"condition\": {\"value\": \"red\", \"selection\": \"selector008\"}, \"value\": \"green\"}, \"x\": {\"type\": \"quantitative\", \"field\": \"BsmtFullBath\", \"scale\": {\"zero\": false}}, \"y\": {\"type\": \"quantitative\", \"field\": \"SalePrice\"}}, \"height\": 140, \"selection\": {\"selector008\": {\"type\": \"interval\", \"resolve\": \"global\"}}, \"width\": 140}]}, {\"hconcat\": [{\"mark\": {\"type\": \"point\", \"opacity\": 0.1, \"size\": 2}, \"encoding\": {\"color\": {\"condition\": {\"value\": \"red\", \"selection\": \"selector008\"}, \"value\": \"green\"}, \"x\": {\"type\": \"quantitative\", \"field\": \"BsmtUnfSF\", \"scale\": {\"zero\": false}}, \"y\": {\"type\": \"quantitative\", \"field\": \"SalePrice\"}}, \"height\": 140, \"selection\": {\"selector008\": {\"type\": \"interval\", \"resolve\": \"global\"}}, \"width\": 140}, {\"mark\": {\"type\": \"point\", \"opacity\": 0.1, \"size\": 2}, \"encoding\": {\"color\": {\"condition\": {\"value\": \"red\", \"selection\": \"selector008\"}, \"value\": \"green\"}, \"x\": {\"type\": \"quantitative\", \"field\": \"BedroomAbvGr\", \"scale\": {\"zero\": false}}, \"y\": {\"type\": \"quantitative\", \"field\": \"SalePrice\"}}, \"height\": 140, \"selection\": {\"selector008\": {\"type\": \"interval\", \"resolve\": \"global\"}}, \"width\": 140}, {\"mark\": {\"type\": \"point\", \"opacity\": 0.1, \"size\": 2}, \"encoding\": {\"color\": {\"condition\": {\"value\": \"red\", \"selection\": \"selector008\"}, \"value\": \"green\"}, \"x\": {\"type\": \"quantitative\", \"field\": \"ScreenPorch\", \"scale\": {\"zero\": false}}, \"y\": {\"type\": \"quantitative\", \"field\": \"SalePrice\"}}, \"height\": 140, \"selection\": {\"selector008\": {\"type\": \"interval\", \"resolve\": \"global\"}}, \"width\": 140}, {\"mark\": {\"type\": \"point\", \"opacity\": 0.1, \"size\": 2}, \"encoding\": {\"color\": {\"condition\": {\"value\": \"red\", \"selection\": \"selector008\"}, \"value\": \"green\"}, \"x\": {\"type\": \"quantitative\", \"field\": \"PoolArea\", \"scale\": {\"zero\": false}}, \"y\": {\"type\": \"quantitative\", \"field\": \"SalePrice\"}}, \"height\": 140, \"selection\": {\"selector008\": {\"type\": \"interval\", \"resolve\": \"global\"}}, \"width\": 140}, {\"mark\": {\"type\": \"point\", \"opacity\": 0.1, \"size\": 2}, \"encoding\": {\"color\": {\"condition\": {\"value\": \"red\", \"selection\": \"selector008\"}, \"value\": \"green\"}, \"x\": {\"type\": \"quantitative\", \"field\": \"MoSold\", \"scale\": {\"zero\": false}}, \"y\": {\"type\": \"quantitative\", \"field\": \"SalePrice\"}}, \"height\": 140, \"selection\": {\"selector008\": {\"type\": \"interval\", \"resolve\": \"global\"}}, \"width\": 140}, {\"mark\": {\"type\": \"point\", \"opacity\": 0.1, \"size\": 2}, \"encoding\": {\"color\": {\"condition\": {\"value\": \"red\", \"selection\": \"selector008\"}, \"value\": \"green\"}, \"x\": {\"type\": \"quantitative\", \"field\": \"3SsnPorch\", \"scale\": {\"zero\": false}}, \"y\": {\"type\": \"quantitative\", \"field\": \"SalePrice\"}}, \"height\": 140, \"selection\": {\"selector008\": {\"type\": \"interval\", \"resolve\": \"global\"}}, \"width\": 140}, {\"mark\": {\"type\": \"point\", \"opacity\": 0.1, \"size\": 2}, \"encoding\": {\"color\": {\"condition\": {\"value\": \"red\", \"selection\": \"selector008\"}, \"value\": \"green\"}, \"x\": {\"type\": \"quantitative\", \"field\": \"BsmtFinSF2\", \"scale\": {\"zero\": false}}, \"y\": {\"type\": \"quantitative\", \"field\": \"SalePrice\"}}, \"height\": 140, \"selection\": {\"selector008\": {\"type\": \"interval\", \"resolve\": \"global\"}}, \"width\": 140}]}, {\"hconcat\": [{\"mark\": {\"type\": \"point\", \"opacity\": 0.1, \"size\": 2}, \"encoding\": {\"color\": {\"condition\": {\"value\": \"red\", \"selection\": \"selector008\"}, \"value\": \"green\"}, \"x\": {\"type\": \"quantitative\", \"field\": \"BsmtHalfBath\", \"scale\": {\"zero\": false}}, \"y\": {\"type\": \"quantitative\", \"field\": \"SalePrice\"}}, \"height\": 140, \"selection\": {\"selector008\": {\"type\": \"interval\", \"resolve\": \"global\"}}, \"width\": 140}, {\"mark\": {\"type\": \"point\", \"opacity\": 0.1, \"size\": 2}, \"encoding\": {\"color\": {\"condition\": {\"value\": \"red\", \"selection\": \"selector008\"}, \"value\": \"green\"}, \"x\": {\"type\": \"quantitative\", \"field\": \"MiscVal\", \"scale\": {\"zero\": false}}, \"y\": {\"type\": \"quantitative\", \"field\": \"SalePrice\"}}, \"height\": 140, \"selection\": {\"selector008\": {\"type\": \"interval\", \"resolve\": \"global\"}}, \"width\": 140}, {\"mark\": {\"type\": \"point\", \"opacity\": 0.1, \"size\": 2}, \"encoding\": {\"color\": {\"condition\": {\"value\": \"red\", \"selection\": \"selector008\"}, \"value\": \"green\"}, \"x\": {\"type\": \"quantitative\", \"field\": \"Id\", \"scale\": {\"zero\": false}}, \"y\": {\"type\": \"quantitative\", \"field\": \"SalePrice\"}}, \"height\": 140, \"selection\": {\"selector008\": {\"type\": \"interval\", \"resolve\": \"global\"}}, \"width\": 140}, {\"mark\": {\"type\": \"point\", \"opacity\": 0.1, \"size\": 2}, \"encoding\": {\"color\": {\"condition\": {\"value\": \"red\", \"selection\": \"selector008\"}, \"value\": \"green\"}, \"x\": {\"type\": \"quantitative\", \"field\": \"LowQualFinSF\", \"scale\": {\"zero\": false}}, \"y\": {\"type\": \"quantitative\", \"field\": \"SalePrice\"}}, \"height\": 140, \"selection\": {\"selector008\": {\"type\": \"interval\", \"resolve\": \"global\"}}, \"width\": 140}, {\"mark\": {\"type\": \"point\", \"opacity\": 0.1, \"size\": 2}, \"encoding\": {\"color\": {\"condition\": {\"value\": \"red\", \"selection\": \"selector008\"}, \"value\": \"green\"}, \"x\": {\"type\": \"quantitative\", \"field\": \"YrSold\", \"scale\": {\"zero\": false}}, \"y\": {\"type\": \"quantitative\", \"field\": \"SalePrice\"}}, \"height\": 140, \"selection\": {\"selector008\": {\"type\": \"interval\", \"resolve\": \"global\"}}, \"width\": 140}, {\"mark\": {\"type\": \"point\", \"opacity\": 0.1, \"size\": 2}, \"encoding\": {\"color\": {\"condition\": {\"value\": \"red\", \"selection\": \"selector008\"}, \"value\": \"green\"}, \"x\": {\"type\": \"quantitative\", \"field\": \"OverallCond\", \"scale\": {\"zero\": false}}, \"y\": {\"type\": \"quantitative\", \"field\": \"SalePrice\"}}, \"height\": 140, \"selection\": {\"selector008\": {\"type\": \"interval\", \"resolve\": \"global\"}}, \"width\": 140}, {\"mark\": {\"type\": \"point\", \"opacity\": 0.1, \"size\": 2}, \"encoding\": {\"color\": {\"condition\": {\"value\": \"red\", \"selection\": \"selector008\"}, \"value\": \"green\"}, \"x\": {\"type\": \"quantitative\", \"field\": \"MSSubClass\", \"scale\": {\"zero\": false}}, \"y\": {\"type\": \"quantitative\", \"field\": \"SalePrice\"}}, \"height\": 140, \"selection\": {\"selector008\": {\"type\": \"interval\", \"resolve\": \"global\"}}, \"width\": 140}]}, {\"hconcat\": [{\"mark\": {\"type\": \"point\", \"opacity\": 0.1, \"size\": 2}, \"encoding\": {\"color\": {\"condition\": {\"value\": \"red\", \"selection\": \"selector008\"}, \"value\": \"green\"}, \"x\": {\"type\": \"quantitative\", \"field\": \"EnclosedPorch\", \"scale\": {\"zero\": false}}, \"y\": {\"type\": \"quantitative\", \"field\": \"SalePrice\"}}, \"height\": 140, \"selection\": {\"selector008\": {\"type\": \"interval\", \"resolve\": \"global\"}}, \"width\": 140}, {\"mark\": {\"type\": \"point\", \"opacity\": 0.1, \"size\": 2}, \"encoding\": {\"color\": {\"condition\": {\"value\": \"red\", \"selection\": \"selector008\"}, \"value\": \"green\"}, \"x\": {\"type\": \"quantitative\", \"field\": \"KitchenAbvGr\", \"scale\": {\"zero\": false}}, \"y\": {\"type\": \"quantitative\", \"field\": \"SalePrice\"}}, \"height\": 140, \"selection\": {\"selector008\": {\"type\": \"interval\", \"resolve\": \"global\"}}, \"width\": 140}, {\"mark\": {\"type\": \"point\", \"opacity\": 0.1, \"size\": 2}, \"encoding\": {\"color\": {\"condition\": {\"value\": \"red\", \"selection\": \"selector008\"}, \"value\": \"green\"}, \"x\": {\"type\": \"quantitative\", \"field\": \"SalePrice\", \"scale\": {\"zero\": false}}, \"y\": {\"type\": \"quantitative\", \"field\": \"SalePrice\"}}, \"height\": 140, \"selection\": {\"selector008\": {\"type\": \"interval\", \"resolve\": \"global\"}}, \"width\": 140}, {\"mark\": {\"type\": \"point\", \"opacity\": 0.1, \"size\": 2}, \"encoding\": {\"color\": {\"condition\": {\"value\": \"red\", \"selection\": \"selector008\"}, \"value\": \"green\"}, \"x\": {\"type\": \"quantitative\", \"field\": \"SalePrice\", \"scale\": {\"zero\": false}}, \"y\": {\"type\": \"quantitative\", \"field\": \"SalePrice\"}}, \"height\": 140, \"selection\": {\"selector008\": {\"type\": \"interval\", \"resolve\": \"global\"}}, \"width\": 140}, {\"mark\": {\"type\": \"point\", \"opacity\": 0.1, \"size\": 2}, \"encoding\": {\"color\": {\"condition\": {\"value\": \"red\", \"selection\": \"selector008\"}, \"value\": \"green\"}, \"x\": {\"type\": \"quantitative\", \"field\": \"SalePrice\", \"scale\": {\"zero\": false}}, \"y\": {\"type\": \"quantitative\", \"field\": \"SalePrice\"}}, \"height\": 140, \"selection\": {\"selector008\": {\"type\": \"interval\", \"resolve\": \"global\"}}, \"width\": 140}]}], \"data\": {\"url\": \"https://raw.githubusercontent.com/jvanelteren/housing/master/datasets/train.csv\"}, \"$schema\": \"https://vega.github.io/schema/vega-lite/v4.8.1.json\"}, {\"mode\": \"vega-lite\"});\n",
       "</script>"
      ],
      "text/plain": [
       "alt.VConcatChart(...)"
      ]
     },
     "execution_count": 52,
     "metadata": {},
     "output_type": "execute_result"
    }
   ],
   "source": [
    "brush = alt.selection(type = 'interval', resolve = 'global')\n",
    "base = alt.Chart(path_train).mark_point(opacity = 0.1, size = 2).encode(\n",
    "        y = 'SalePrice:Q',\n",
    "        \n",
    "        color = alt.condition(brush, alt.ColorValue('red'), alt.ColorValue('green')),\n",
    "        ).add_selection(brush).properties(width= 140, height = 140)\n",
    "#print(y)\n",
    "num_x.append('SalePrice')\n",
    "subplts = []\n",
    "\n",
    "for name in num_x:\n",
    "    subplts.append(base.encode(alt.X(name+\":Q\", scale = alt.Scale(zero=False))))\n",
    "plots_per_row = 7\n",
    "hconcat = [alt.hconcat(*subplts[i:i+plots_per_row]) for i in range(0,len(subplts), plots_per_row)]\n",
    "alt.vconcat(*hconcat)\n",
    "    "
   ]
  },
  {
   "cell_type": "code",
   "execution_count": 50,
   "metadata": {},
   "outputs": [
    {
     "data": {
      "text/plain": [
       "(1460, 81)"
      ]
     },
     "execution_count": 50,
     "metadata": {},
     "output_type": "execute_result"
    }
   ],
   "source": [
    "train.shape"
   ]
  },
  {
   "cell_type": "code",
   "execution_count": 45,
   "metadata": {},
   "outputs": [
    {
     "ename": "TypeError",
     "evalue": "can only concatenate tuple (not \"str\") to tuple",
     "output_type": "error",
     "traceback": [
      "\u001b[1;31m---------------------------------------------------------------------------\u001b[0m",
      "\u001b[1;31mTypeError\u001b[0m                                 Traceback (most recent call last)",
      "\u001b[1;32m<ipython-input-45-cb927e7f6c56>\u001b[0m in \u001b[0;36m<module>\u001b[1;34m\u001b[0m\n\u001b[0;32m     21\u001b[0m \u001b[0msubplts\u001b[0m \u001b[1;33m=\u001b[0m \u001b[1;33m[\u001b[0m\u001b[1;33m]\u001b[0m\u001b[1;33m\u001b[0m\u001b[0m\n\u001b[0;32m     22\u001b[0m \u001b[1;32mfor\u001b[0m \u001b[0mname\u001b[0m \u001b[1;32min\u001b[0m \u001b[0mcat_x\u001b[0m\u001b[1;33m:\u001b[0m\u001b[1;33m\u001b[0m\u001b[0m\n\u001b[1;32m---> 23\u001b[1;33m     \u001b[0msubplts\u001b[0m\u001b[1;33m.\u001b[0m\u001b[0mappend\u001b[0m\u001b[1;33m(\u001b[0m\u001b[0mgen_chart\u001b[0m\u001b[1;33m(\u001b[0m\u001b[0mname\u001b[0m\u001b[1;33m)\u001b[0m\u001b[1;33m)\u001b[0m\u001b[1;33m\u001b[0m\u001b[0m\n\u001b[0m\u001b[0;32m     24\u001b[0m \u001b[1;33m\u001b[0m\u001b[0m\n\u001b[0;32m     25\u001b[0m \u001b[0mplots_per_row\u001b[0m \u001b[1;33m=\u001b[0m \u001b[1;36m7\u001b[0m\u001b[1;33m\u001b[0m\u001b[0m\n",
      "\u001b[1;32m<ipython-input-45-cb927e7f6c56>\u001b[0m in \u001b[0;36mgen_chart\u001b[1;34m(name)\u001b[0m\n\u001b[0;32m      2\u001b[0m     chart = alt.Chart(path_train).mark_bar().encode(\n\u001b[0;32m      3\u001b[0m \u001b[1;33m\u001b[0m\u001b[0m\n\u001b[1;32m----> 4\u001b[1;33m     \u001b[0mx\u001b[0m \u001b[1;33m=\u001b[0m \u001b[0malt\u001b[0m\u001b[1;33m.\u001b[0m\u001b[0mX\u001b[0m\u001b[1;33m(\u001b[0m\u001b[0mname\u001b[0m\u001b[1;33m+\u001b[0m\u001b[1;34m':N'\u001b[0m\u001b[1;33m,\u001b[0m \u001b[0mbin\u001b[0m \u001b[1;33m=\u001b[0m \u001b[1;32mFalse\u001b[0m\u001b[1;33m)\u001b[0m\u001b[1;33m,\u001b[0m\u001b[1;33m\u001b[0m\u001b[0m\n\u001b[0m\u001b[0;32m      5\u001b[0m     \u001b[0my\u001b[0m \u001b[1;33m=\u001b[0m \u001b[1;34m'count()'\u001b[0m\u001b[1;33m,\u001b[0m\u001b[1;33m\u001b[0m\u001b[0m\n\u001b[0;32m      6\u001b[0m     \u001b[0mcolor\u001b[0m \u001b[1;33m=\u001b[0m \u001b[0malt\u001b[0m\u001b[1;33m.\u001b[0m\u001b[0mcondition\u001b[0m\u001b[1;33m(\u001b[0m\u001b[0mbrush\u001b[0m\u001b[1;33m,\u001b[0m \u001b[0malt\u001b[0m\u001b[1;33m.\u001b[0m\u001b[0mColorValue\u001b[0m\u001b[1;33m(\u001b[0m\u001b[1;34m'red'\u001b[0m\u001b[1;33m)\u001b[0m\u001b[1;33m,\u001b[0m \u001b[0malt\u001b[0m\u001b[1;33m.\u001b[0m\u001b[0mColorValue\u001b[0m\u001b[1;33m(\u001b[0m\u001b[1;34m'gray'\u001b[0m\u001b[1;33m)\u001b[0m\u001b[1;33m)\u001b[0m\u001b[1;33m\u001b[0m\u001b[0m\n",
      "\u001b[1;31mTypeError\u001b[0m: can only concatenate tuple (not \"str\") to tuple"
     ]
    }
   ],
   "source": [
    "def gen_chart(name):\n",
    "    chart = alt.Chart(path_train).mark_bar().encode(\n",
    "    \n",
    "    x = alt.X(name+':N', bin = False),\n",
    "    y = 'count()',\n",
    "    color = alt.condition(brush, alt.ColorValue('red'), alt.ColorValue('gray'))\n",
    "    ).properties(\n",
    "    width=140, height = 30\n",
    "    ).add_selection(brush)\n",
    "    \n",
    "    price = alt.Chart(path_train).mark_boxplot().encode(\n",
    "    x=alt.X(name+':M'),\n",
    "    y='SalePrice:Q',\n",
    "    color=alt.condition(brush, alt.ColorValue('red'),alt.ColorValue('gray'))\n",
    "    ).properties(\n",
    "    width=  140, height = 140). add_selection(brush)\n",
    "    return price & chart\n",
    "\n",
    "brush = alt.selection(type = 'interval', resolve = 'global')\n",
    "\n",
    "subplts = []\n",
    "for name in cat_x:\n",
    "    subplts.append(gen_chart(name))\n",
    "    \n",
    "plots_per_row = 7\n",
    "hconcat =[alt.hconcat(*subplts[i:i+plots_per_row]) for i in range(0, len(subplts),plots_per_row)]\n",
    "alt.vconcat(*hconcat)\n"
   ]
  },
  {
   "cell_type": "code",
   "execution_count": 42,
   "metadata": {},
   "outputs": [
    {
     "ename": "ImportError",
     "evalue": "DLL load failed: 지정된 모듈을 찾을 수 없습니다.",
     "output_type": "error",
     "traceback": [
      "\u001b[1;31m---------------------------------------------------------------------------\u001b[0m",
      "\u001b[1;31mImportError\u001b[0m                               Traceback (most recent call last)",
      "\u001b[1;32m<ipython-input-42-1eabb371252b>\u001b[0m in \u001b[0;36m<module>\u001b[1;34m\u001b[0m\n\u001b[0;32m      3\u001b[0m \u001b[1;31m#from matplotlib import pyplot as plt\u001b[0m\u001b[1;33m\u001b[0m\u001b[1;33m\u001b[0m\u001b[0m\n\u001b[0;32m      4\u001b[0m \u001b[1;33m\u001b[0m\u001b[0m\n\u001b[1;32m----> 5\u001b[1;33m \u001b[1;32mimport\u001b[0m \u001b[0mseaborn\u001b[0m \u001b[1;32mas\u001b[0m \u001b[0msns\u001b[0m\u001b[1;33m\u001b[0m\u001b[0m\n\u001b[0m\u001b[0;32m      6\u001b[0m \u001b[1;33m\u001b[0m\u001b[0m\n\u001b[0;32m      7\u001b[0m \u001b[1;33m\u001b[0m\u001b[0m\n",
      "\u001b[1;32mC:\\ProgramData\\Anaconda3\\lib\\site-packages\\seaborn\\__init__.py\u001b[0m in \u001b[0;36m<module>\u001b[1;34m\u001b[0m\n\u001b[0;32m      1\u001b[0m \u001b[1;31m# Import seaborn objects\u001b[0m\u001b[1;33m\u001b[0m\u001b[1;33m\u001b[0m\u001b[0m\n\u001b[1;32m----> 2\u001b[1;33m \u001b[1;32mfrom\u001b[0m \u001b[1;33m.\u001b[0m\u001b[0mrcmod\u001b[0m \u001b[1;32mimport\u001b[0m \u001b[1;33m*\u001b[0m  \u001b[1;31m# noqa: F401,F403\u001b[0m\u001b[1;33m\u001b[0m\u001b[0m\n\u001b[0m\u001b[0;32m      3\u001b[0m \u001b[1;32mfrom\u001b[0m \u001b[1;33m.\u001b[0m\u001b[0mutils\u001b[0m \u001b[1;32mimport\u001b[0m \u001b[1;33m*\u001b[0m  \u001b[1;31m# noqa: F401,F403\u001b[0m\u001b[1;33m\u001b[0m\u001b[0m\n\u001b[0;32m      4\u001b[0m \u001b[1;32mfrom\u001b[0m \u001b[1;33m.\u001b[0m\u001b[0mpalettes\u001b[0m \u001b[1;32mimport\u001b[0m \u001b[1;33m*\u001b[0m  \u001b[1;31m# noqa: F401,F403\u001b[0m\u001b[1;33m\u001b[0m\u001b[0m\n\u001b[0;32m      5\u001b[0m \u001b[1;32mfrom\u001b[0m \u001b[1;33m.\u001b[0m\u001b[0mrelational\u001b[0m \u001b[1;32mimport\u001b[0m \u001b[1;33m*\u001b[0m  \u001b[1;31m# noqa: F401,F403\u001b[0m\u001b[1;33m\u001b[0m\u001b[0m\n",
      "\u001b[1;32mC:\\ProgramData\\Anaconda3\\lib\\site-packages\\seaborn\\rcmod.py\u001b[0m in \u001b[0;36m<module>\u001b[1;34m\u001b[0m\n\u001b[0;32m      5\u001b[0m \u001b[1;32mimport\u001b[0m \u001b[0mmatplotlib\u001b[0m \u001b[1;32mas\u001b[0m \u001b[0mmpl\u001b[0m\u001b[1;33m\u001b[0m\u001b[0m\n\u001b[0;32m      6\u001b[0m \u001b[1;32mfrom\u001b[0m \u001b[0mcycler\u001b[0m \u001b[1;32mimport\u001b[0m \u001b[0mcycler\u001b[0m\u001b[1;33m\u001b[0m\u001b[0m\n\u001b[1;32m----> 7\u001b[1;33m \u001b[1;32mfrom\u001b[0m \u001b[1;33m.\u001b[0m \u001b[1;32mimport\u001b[0m \u001b[0mpalettes\u001b[0m\u001b[1;33m\u001b[0m\u001b[0m\n\u001b[0m\u001b[0;32m      8\u001b[0m \u001b[1;33m\u001b[0m\u001b[0m\n\u001b[0;32m      9\u001b[0m \u001b[1;33m\u001b[0m\u001b[0m\n",
      "\u001b[1;32mC:\\ProgramData\\Anaconda3\\lib\\site-packages\\seaborn\\palettes.py\u001b[0m in \u001b[0;36m<module>\u001b[1;34m\u001b[0m\n\u001b[0;32m      7\u001b[0m \u001b[1;32mfrom\u001b[0m \u001b[1;33m.\u001b[0m\u001b[0mexternal\u001b[0m \u001b[1;32mimport\u001b[0m \u001b[0mhusl\u001b[0m\u001b[1;33m\u001b[0m\u001b[0m\n\u001b[0;32m      8\u001b[0m \u001b[1;33m\u001b[0m\u001b[0m\n\u001b[1;32m----> 9\u001b[1;33m \u001b[1;32mfrom\u001b[0m \u001b[1;33m.\u001b[0m\u001b[0mutils\u001b[0m \u001b[1;32mimport\u001b[0m \u001b[0mdesaturate\u001b[0m\u001b[1;33m,\u001b[0m \u001b[0mget_color_cycle\u001b[0m\u001b[1;33m\u001b[0m\u001b[0m\n\u001b[0m\u001b[0;32m     10\u001b[0m \u001b[1;32mfrom\u001b[0m \u001b[1;33m.\u001b[0m\u001b[0mcolors\u001b[0m \u001b[1;32mimport\u001b[0m \u001b[0mxkcd_rgb\u001b[0m\u001b[1;33m,\u001b[0m \u001b[0mcrayons\u001b[0m\u001b[1;33m\u001b[0m\u001b[0m\n\u001b[0;32m     11\u001b[0m \u001b[1;33m\u001b[0m\u001b[0m\n",
      "\u001b[1;32mC:\\ProgramData\\Anaconda3\\lib\\site-packages\\seaborn\\utils.py\u001b[0m in \u001b[0;36m<module>\u001b[1;34m\u001b[0m\n\u001b[0;32m      8\u001b[0m \u001b[1;33m\u001b[0m\u001b[0m\n\u001b[0;32m      9\u001b[0m \u001b[1;32mimport\u001b[0m \u001b[0mnumpy\u001b[0m \u001b[1;32mas\u001b[0m \u001b[0mnp\u001b[0m\u001b[1;33m\u001b[0m\u001b[0m\n\u001b[1;32m---> 10\u001b[1;33m \u001b[1;32mfrom\u001b[0m \u001b[0mscipy\u001b[0m \u001b[1;32mimport\u001b[0m \u001b[0mstats\u001b[0m\u001b[1;33m\u001b[0m\u001b[0m\n\u001b[0m\u001b[0;32m     11\u001b[0m \u001b[1;32mimport\u001b[0m \u001b[0mpandas\u001b[0m \u001b[1;32mas\u001b[0m \u001b[0mpd\u001b[0m\u001b[1;33m\u001b[0m\u001b[0m\n\u001b[0;32m     12\u001b[0m \u001b[1;32mimport\u001b[0m \u001b[0mmatplotlib\u001b[0m \u001b[1;32mas\u001b[0m \u001b[0mmpl\u001b[0m\u001b[1;33m\u001b[0m\u001b[0m\n",
      "\u001b[1;32mC:\\ProgramData\\Anaconda3\\lib\\site-packages\\scipy\\stats\\__init__.py\u001b[0m in \u001b[0;36m<module>\u001b[1;34m\u001b[0m\n\u001b[0;32m    389\u001b[0m \u001b[1;33m\u001b[0m\u001b[0m\n\u001b[0;32m    390\u001b[0m \"\"\"\n\u001b[1;32m--> 391\u001b[1;33m \u001b[1;32mfrom\u001b[0m \u001b[1;33m.\u001b[0m\u001b[0mstats\u001b[0m \u001b[1;32mimport\u001b[0m \u001b[1;33m*\u001b[0m\u001b[1;33m\u001b[0m\u001b[0m\n\u001b[0m\u001b[0;32m    392\u001b[0m \u001b[1;32mfrom\u001b[0m \u001b[1;33m.\u001b[0m\u001b[0mdistributions\u001b[0m \u001b[1;32mimport\u001b[0m \u001b[1;33m*\u001b[0m\u001b[1;33m\u001b[0m\u001b[0m\n\u001b[0;32m    393\u001b[0m \u001b[1;32mfrom\u001b[0m \u001b[1;33m.\u001b[0m\u001b[0mmorestats\u001b[0m \u001b[1;32mimport\u001b[0m \u001b[1;33m*\u001b[0m\u001b[1;33m\u001b[0m\u001b[0m\n",
      "\u001b[1;32mC:\\ProgramData\\Anaconda3\\lib\\site-packages\\scipy\\stats\\stats.py\u001b[0m in \u001b[0;36m<module>\u001b[1;34m\u001b[0m\n\u001b[0;32m    178\u001b[0m \u001b[1;32mimport\u001b[0m \u001b[0mscipy\u001b[0m\u001b[1;33m.\u001b[0m\u001b[0mspecial\u001b[0m \u001b[1;32mas\u001b[0m \u001b[0mspecial\u001b[0m\u001b[1;33m\u001b[0m\u001b[0m\n\u001b[0;32m    179\u001b[0m \u001b[1;32mfrom\u001b[0m \u001b[0mscipy\u001b[0m \u001b[1;32mimport\u001b[0m \u001b[0mlinalg\u001b[0m\u001b[1;33m\u001b[0m\u001b[0m\n\u001b[1;32m--> 180\u001b[1;33m \u001b[1;32mfrom\u001b[0m \u001b[1;33m.\u001b[0m \u001b[1;32mimport\u001b[0m \u001b[0mdistributions\u001b[0m\u001b[1;33m\u001b[0m\u001b[0m\n\u001b[0m\u001b[0;32m    181\u001b[0m \u001b[1;32mfrom\u001b[0m \u001b[1;33m.\u001b[0m \u001b[1;32mimport\u001b[0m \u001b[0mmstats_basic\u001b[0m\u001b[1;33m\u001b[0m\u001b[0m\n\u001b[0;32m    182\u001b[0m from ._stats_mstats_common import (_find_repeats, linregress, theilslopes,\n",
      "\u001b[1;32mC:\\ProgramData\\Anaconda3\\lib\\site-packages\\scipy\\stats\\distributions.py\u001b[0m in \u001b[0;36m<module>\u001b[1;34m\u001b[0m\n\u001b[0;32m      6\u001b[0m \u001b[1;31m#       instead of `git blame -Lxxx,+x`.\u001b[0m\u001b[1;33m\u001b[0m\u001b[1;33m\u001b[0m\u001b[0m\n\u001b[0;32m      7\u001b[0m \u001b[1;31m#\u001b[0m\u001b[1;33m\u001b[0m\u001b[1;33m\u001b[0m\u001b[0m\n\u001b[1;32m----> 8\u001b[1;33m from ._distn_infrastructure import (entropy, rv_discrete, rv_continuous,\n\u001b[0m\u001b[0;32m      9\u001b[0m                                     rv_frozen)\n\u001b[0;32m     10\u001b[0m \u001b[1;33m\u001b[0m\u001b[0m\n",
      "\u001b[1;32mC:\\ProgramData\\Anaconda3\\lib\\site-packages\\scipy\\stats\\_distn_infrastructure.py\u001b[0m in \u001b[0;36m<module>\u001b[1;34m\u001b[0m\n\u001b[0;32m     21\u001b[0m \u001b[1;33m\u001b[0m\u001b[0m\n\u001b[0;32m     22\u001b[0m \u001b[1;31m# for root finding for continuous distribution ppf, and max likelihood estimation\u001b[0m\u001b[1;33m\u001b[0m\u001b[1;33m\u001b[0m\u001b[0m\n\u001b[1;32m---> 23\u001b[1;33m \u001b[1;32mfrom\u001b[0m \u001b[0mscipy\u001b[0m \u001b[1;32mimport\u001b[0m \u001b[0moptimize\u001b[0m\u001b[1;33m\u001b[0m\u001b[0m\n\u001b[0m\u001b[0;32m     24\u001b[0m \u001b[1;33m\u001b[0m\u001b[0m\n\u001b[0;32m     25\u001b[0m \u001b[1;31m# for functions of continuous distributions (e.g. moments, entropy, cdf)\u001b[0m\u001b[1;33m\u001b[0m\u001b[1;33m\u001b[0m\u001b[0m\n",
      "\u001b[1;32mC:\\ProgramData\\Anaconda3\\lib\\site-packages\\scipy\\optimize\\__init__.py\u001b[0m in \u001b[0;36m<module>\u001b[1;34m\u001b[0m\n\u001b[0;32m    409\u001b[0m \u001b[1;32mfrom\u001b[0m \u001b[1;33m.\u001b[0m\u001b[0mnonlin\u001b[0m \u001b[1;32mimport\u001b[0m \u001b[1;33m*\u001b[0m\u001b[1;33m\u001b[0m\u001b[0m\n\u001b[0;32m    410\u001b[0m \u001b[1;32mfrom\u001b[0m \u001b[1;33m.\u001b[0m\u001b[0mslsqp\u001b[0m \u001b[1;32mimport\u001b[0m \u001b[0mfmin_slsqp\u001b[0m\u001b[1;33m\u001b[0m\u001b[0m\n\u001b[1;32m--> 411\u001b[1;33m \u001b[1;32mfrom\u001b[0m \u001b[1;33m.\u001b[0m\u001b[0m_nnls\u001b[0m \u001b[1;32mimport\u001b[0m \u001b[0mnnls\u001b[0m\u001b[1;33m\u001b[0m\u001b[0m\n\u001b[0m\u001b[0;32m    412\u001b[0m \u001b[1;32mfrom\u001b[0m \u001b[1;33m.\u001b[0m\u001b[0m_basinhopping\u001b[0m \u001b[1;32mimport\u001b[0m \u001b[0mbasinhopping\u001b[0m\u001b[1;33m\u001b[0m\u001b[0m\n\u001b[0;32m    413\u001b[0m \u001b[1;32mfrom\u001b[0m \u001b[1;33m.\u001b[0m\u001b[0m_linprog\u001b[0m \u001b[1;32mimport\u001b[0m \u001b[0mlinprog\u001b[0m\u001b[1;33m,\u001b[0m \u001b[0mlinprog_verbose_callback\u001b[0m\u001b[1;33m\u001b[0m\u001b[0m\n",
      "\u001b[1;31mImportError\u001b[0m: DLL load failed: 지정된 모듈을 찾을 수 없습니다."
     ]
    }
   ],
   "source": [
    "#import heatmap\n",
    "#from heatmap import heatmap, corrplot\n",
    "#from matplotlib import pyplot as plt\n",
    "\n",
    "import seaborn as sns\n",
    "\n",
    "\n",
    "plt.figure(figsize = (15, 15))\n",
    "sns.heatmap(data = [train_y, train_x], annot=True)\n",
    "            \n",
    "#corrplot(pd.concat([train_y, train_x], axis = 1).corr())"
   ]
  },
  {
   "cell_type": "code",
   "execution_count": 44,
   "metadata": {},
   "outputs": [
    {
     "ename": "ModuleNotFoundError",
     "evalue": "No module named 'aoc'",
     "output_type": "error",
     "traceback": [
      "\u001b[1;31m---------------------------------------------------------------------------\u001b[0m",
      "\u001b[1;31mModuleNotFoundError\u001b[0m                       Traceback (most recent call last)",
      "\u001b[1;32m<ipython-input-44-8fe449cb94c5>\u001b[0m in \u001b[0;36m<module>\u001b[1;34m\u001b[0m\n\u001b[1;32m----> 1\u001b[1;33m \u001b[1;32mimport\u001b[0m \u001b[0maoc\u001b[0m\u001b[1;33m\u001b[0m\u001b[0m\n\u001b[0m\u001b[0;32m      2\u001b[0m \u001b[1;32mimport\u001b[0m \u001b[0maltair\u001b[0m \u001b[1;32mas\u001b[0m \u001b[0malt\u001b[0m\u001b[1;33m\u001b[0m\u001b[0m\n\u001b[0;32m      3\u001b[0m \u001b[0mdf\u001b[0m \u001b[1;33m=\u001b[0m \u001b[0maoc\u001b[0m\u001b[1;33m.\u001b[0m\u001b[0mnan_inspect\u001b[0m\u001b[1;33m(\u001b[0m\u001b[0mtrain_x\u001b[0m\u001b[1;33m)\u001b[0m\u001b[1;33m.\u001b[0m\u001b[0mreset_index\u001b[0m\u001b[1;33m(\u001b[0m\u001b[1;33m)\u001b[0m\u001b[1;33m\u001b[0m\u001b[0m\n\u001b[0;32m      4\u001b[0m \u001b[0mdf\u001b[0m \u001b[1;33m=\u001b[0m \u001b[0mdf\u001b[0m\u001b[1;33m.\u001b[0m\u001b[0mmelt\u001b[0m\u001b[1;33m(\u001b[0m\u001b[1;34m'index'\u001b[0m\u001b[1;33m,\u001b[0m \u001b[0mvar_name\u001b[0m \u001b[1;33m=\u001b[0m \u001b[1;34m'to'\u001b[0m\u001b[1;33m,\u001b[0m \u001b[0mvalue_name\u001b[0m\u001b[1;33m=\u001b[0m\u001b[1;34m'corr'\u001b[0m\u001b[1;33m)\u001b[0m\u001b[1;33m\u001b[0m\u001b[0m\n\u001b[0;32m      5\u001b[0m \u001b[0mplt\u001b[0m\u001b[1;33m.\u001b[0m\u001b[0mfigure\u001b[0m\u001b[1;33m(\u001b[0m\u001b[0mfigsize\u001b[0m \u001b[1;33m=\u001b[0m \u001b[1;33m(\u001b[0m\u001b[1;36m15\u001b[0m\u001b[1;33m,\u001b[0m \u001b[1;36m15\u001b[0m\u001b[1;33m)\u001b[0m\u001b[1;33m)\u001b[0m\u001b[1;33m\u001b[0m\u001b[0m\n",
      "\u001b[1;31mModuleNotFoundError\u001b[0m: No module named 'aoc'"
     ]
    }
   ],
   "source": [
    "import aoc\n",
    "import altair as alt\n",
    "df = aoc.nan_inspect(train_x).reset_index()\n",
    "df = df.melt('index', var_name = 'to', value_name='corr')\n",
    "plt.figure(figsize = (15, 15))\n",
    "alt.Chart(df).mark_rect().encode(\n",
    "x = alt.X('index:0', sort = alt.EncodingSortField(field='corr', op='sum', order='descending')),\n",
    "y = alt.Y('to:0', sort=alt.EncodingSortField(field='corr', op='sum', order='descending')),\n",
    "color='corr:Q')"
   ]
  },
  {
   "cell_type": "code",
   "execution_count": 57,
   "metadata": {},
   "outputs": [
    {
     "ename": "ModuleNotFoundError",
     "evalue": "No module named 'fastai2'",
     "output_type": "error",
     "traceback": [
      "\u001b[1;31m---------------------------------------------------------------------------\u001b[0m",
      "\u001b[1;31mModuleNotFoundError\u001b[0m                       Traceback (most recent call last)",
      "\u001b[1;32m<ipython-input-57-e13557859881>\u001b[0m in \u001b[0;36m<module>\u001b[1;34m\u001b[0m\n\u001b[0;32m      1\u001b[0m \u001b[1;31m#from sklearn.ensemble import RandomForestClassifier\u001b[0m\u001b[1;33m\u001b[0m\u001b[1;33m\u001b[0m\u001b[0m\n\u001b[1;32m----> 2\u001b[1;33m \u001b[1;32mfrom\u001b[0m \u001b[0mfastai2\u001b[0m\u001b[1;33m.\u001b[0m\u001b[0mtabular\u001b[0m\u001b[1;33m.\u001b[0m\u001b[0mall\u001b[0m \u001b[1;32mimport\u001b[0m \u001b[1;33m*\u001b[0m\u001b[1;33m\u001b[0m\u001b[0m\n\u001b[0m\u001b[0;32m      3\u001b[0m \u001b[1;32mfrom\u001b[0m \u001b[0msklearn\u001b[0m\u001b[1;33m.\u001b[0m\u001b[0mensemble\u001b[0m \u001b[1;32mimport\u001b[0m \u001b[0mRandomForestClassifier\u001b[0m\u001b[1;33m\u001b[0m\u001b[0m\n\u001b[0;32m      4\u001b[0m \u001b[1;33m\u001b[0m\u001b[0m\n\u001b[0;32m      5\u001b[0m \u001b[0mtrain\u001b[0m \u001b[1;33m=\u001b[0m \u001b[0mpd\u001b[0m\u001b[1;33m.\u001b[0m\u001b[0mread_csv\u001b[0m\u001b[1;33m(\u001b[0m\u001b[0mpath_train\u001b[0m\u001b[1;33m)\u001b[0m\u001b[1;33m\u001b[0m\u001b[0m\n",
      "\u001b[1;31mModuleNotFoundError\u001b[0m: No module named 'fastai2'"
     ]
    }
   ],
   "source": [
    "#from sklearn.ensemble import RandomForestClassifier\n",
    "from fastai2.tabular.all import *\n",
    "from sklearn.ensemble import RandomForestClassifier\n",
    "\n",
    "train = pd.read_csv(path_train)\n",
    "final_test = pd.read_csv(path_test)\n",
    "train['Traintest'] = 'train'\n",
    "final_test['Traintest'] = 'test'\n",
    "train.drop(columns='SalePrice', inplace=True)\n",
    "alldata = pd.concat([train,final_test])"
   ]
  },
  {
   "cell_type": "code",
   "execution_count": null,
   "metadata": {},
   "outputs": [],
   "source": []
  }
 ],
 "metadata": {
  "kernelspec": {
   "display_name": "Python 3",
   "language": "python",
   "name": "python3"
  },
  "language_info": {
   "codemirror_mode": {
    "name": "ipython",
    "version": 3
   },
   "file_extension": ".py",
   "mimetype": "text/x-python",
   "name": "python",
   "nbconvert_exporter": "python",
   "pygments_lexer": "ipython3",
   "version": "3.7.0"
  }
 },
 "nbformat": 4,
 "nbformat_minor": 4
}
