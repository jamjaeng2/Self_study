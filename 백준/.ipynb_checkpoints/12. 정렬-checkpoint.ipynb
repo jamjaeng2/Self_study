{
 "cells": [
  {
   "cell_type": "markdown",
   "id": "becoming-serve",
   "metadata": {},
   "source": [
    "# 2750 수 정렬하기"
   ]
  },
  {
   "cell_type": "code",
   "execution_count": null,
   "id": "useful-information",
   "metadata": {},
   "outputs": [],
   "source": [
    "import heapq\n",
    "\n",
    "n = int(input())\n",
    "queue = []\n",
    "for _ in range(n):\n",
    "    heapq.heappush(queue, int(input()))\n",
    "\n",
    "for _ in range(n):\n",
    "    print(heapq.heappop(queue))\n",
    "    "
   ]
  },
  {
   "cell_type": "markdown",
   "id": "optical-table",
   "metadata": {},
   "source": [
    "# 2751 수 정렬하기2"
   ]
  },
  {
   "cell_type": "code",
   "execution_count": 5,
   "id": "blond-afternoon",
   "metadata": {},
   "outputs": [
    {
     "name": "stdout",
     "output_type": "stream",
     "text": [
      "5\n",
      "5\n",
      "4\n",
      "3\n",
      "2\n",
      "1\n",
      "1\n",
      "2\n",
      "3\n",
      "4\n",
      "5\n"
     ]
    }
   ],
   "source": [
    "import heapq\n",
    "\n",
    "n = int(input())\n",
    "queue = []\n",
    "for _ in range(n):\n",
    "    heapq.heappush(queue, int(input()))\n",
    "\n",
    "for _ in range(n):\n",
    "    print(heapq.heappop(queue))\n",
    "    "
   ]
  },
  {
   "cell_type": "markdown",
   "id": "leading-porter",
   "metadata": {},
   "source": []
  }
 ],
 "metadata": {
  "kernelspec": {
   "display_name": "Python 3",
   "language": "python",
   "name": "python3"
  },
  "language_info": {
   "codemirror_mode": {
    "name": "ipython",
    "version": 3
   },
   "file_extension": ".py",
   "mimetype": "text/x-python",
   "name": "python",
   "nbconvert_exporter": "python",
   "pygments_lexer": "ipython3",
   "version": "3.7.10"
  }
 },
 "nbformat": 4,
 "nbformat_minor": 5
}
