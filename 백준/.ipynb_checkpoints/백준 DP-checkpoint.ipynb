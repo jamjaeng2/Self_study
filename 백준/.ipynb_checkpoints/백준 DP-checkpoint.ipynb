{
 "cells": [
  {
   "cell_type": "markdown",
   "id": "stopped-atmosphere",
   "metadata": {},
   "source": [
    "# 2579 계단오르기 "
   ]
  },
  {
   "cell_type": "code",
   "execution_count": null,
   "id": "baking-diesel",
   "metadata": {},
   "outputs": [],
   "source": [
    "n = 6\n",
    "lst = [10, 20, 15, 25, 10, 20]\n",
    "dp = []\n",
    "\n",
    "for i in range(n):\n",
    "    dp.append([lst[i], 0])\n",
    "dp[0][0] = 1\n",
    "\n",
    "if n <= 2:\n",
    "    hap = 0\n",
    "    for i in range(n):\n",
    "        hap ++ dp[i][0]\n",
    "    print(hap)\n",
    "    \n",
    "else:\n",
    "    for i in range(3, n-1):\n",
    "        if dp[i-1][1] ==2: # 못건너뛸떄\n",
    "            if max(dp[i][0] + dp[i-2][0], dp[i-1][0]) == dp[i-1][0]:\n",
    "                dp[i] = [dp[i-1][0], 0]\n",
    "            else:\n",
    "                dp[i] = [dp[i][0] + dp[i-2][0], 1]\n",
    "            \n",
    "        else:\n",
    "            idx = max(dp[i] + dp[i-2], dp[i-1])\n",
    "            dp[i] = [idx[0], idx[1]+1]\n",
    "    \n",
    "    idx = max(dp[n] + dx[n-2], dp[n-1])\n",
    "    \n",
    "    dp[n-1] = [idx[0], idx[1]+1]\n",
    "        \n",
    "    "
   ]
  },
  {
   "cell_type": "markdown",
   "id": "comic-gnome",
   "metadata": {},
   "source": [
    "# 1912 연속합"
   ]
  },
  {
   "cell_type": "code",
   "execution_count": 9,
   "id": "hazardous-batch",
   "metadata": {},
   "outputs": [
    {
     "name": "stdout",
     "output_type": "stream",
     "text": [
      "5\n",
      "-1 -2 -3 -4 -5\n",
      "9\n"
     ]
    }
   ],
   "source": [
    "n = int(input())\n",
    "#lst = [10, -4, 3, 1, 5, 6, -35, 12, 21, -1]\n",
    "case = list(map(int, input().split()))\n",
    "    \n",
    "dp = [case[0]]\n",
    "for i in range(1, n):\n",
    "    #print(i)\n",
    "    dp.append(max(dp[i-1]+case[i], case[i]))\n",
    "    \n",
    "print(max(dp))"
   ]
  },
  {
   "cell_type": "markdown",
   "id": "intended-surfing",
   "metadata": {},
   "source": [
    "# 2579 계단오르기"
   ]
  },
  {
   "cell_type": "code",
   "execution_count": 20,
   "id": "ethical-comment",
   "metadata": {},
   "outputs": [
    {
     "name": "stdout",
     "output_type": "stream",
     "text": [
      "6\n",
      "[10, 30, 35, 55, 65, 75, 0, 0, 0, 0, 0, 0, 0, 0, 0, 0, 0, 0, 0, 0, 0, 0, 0, 0, 0, 0, 0, 0, 0, 0, 0, 0, 0, 0, 0, 0, 0, 0, 0, 0, 0, 0, 0, 0, 0, 0, 0, 0, 0, 0, 0, 0, 0, 0, 0, 0, 0, 0, 0, 0, 0, 0, 0, 0, 0, 0, 0, 0, 0, 0, 0, 0, 0, 0, 0, 0, 0, 0, 0, 0, 0, 0, 0, 0, 0, 0, 0, 0, 0, 0, 0, 0, 0, 0, 0, 0, 0, 0, 0, 0, 0, 0, 0, 0, 0, 0, 0, 0, 0, 0, 0, 0, 0, 0, 0, 0, 0, 0, 0, 0, 0, 0, 0, 0, 0, 0, 0, 0, 0, 0, 0, 0, 0, 0, 0, 0, 0, 0, 0, 0, 0, 0, 0, 0, 0, 0, 0, 0, 0, 0, 0, 0, 0, 0, 0, 0, 0, 0, 0, 0, 0, 0, 0, 0, 0, 0, 0, 0, 0, 0, 0, 0, 0, 0, 0, 0, 0, 0, 0, 0, 0, 0, 0, 0, 0, 0, 0, 0, 0, 0, 0, 0, 0, 0, 0, 0, 0, 0, 0, 0, 0, 0, 0, 0, 0, 0, 0, 0, 0, 0, 0, 0, 0, 0, 0, 0, 0, 0, 0, 0, 0, 0, 0, 0, 0, 0, 0, 0, 0, 0, 0, 0, 0, 0, 0, 0, 0, 0, 0, 0, 0, 0, 0, 0, 0, 0, 0, 0, 0, 0, 0, 0, 0, 0, 0, 0, 0, 0, 0, 0, 0, 0, 0, 0, 0, 0, 0, 0, 0, 0, 0, 0, 0, 0, 0, 0, 0, 0, 0, 0, 0, 0, 0, 0, 0, 0, 0, 0, 0, 0, 0, 0, 0, 0, 0, 0, 0, 0, 0, 0]\n",
      "75\n"
     ]
    }
   ],
   "source": [
    "n = int(input())\n",
    "case = [0 for _ in range(300)]\n",
    "dp = [0 for _ in range(300)]\n",
    "for i in range(n):\n",
    "    case[i] = int(input())\n",
    "#case = [10, 20, 15, 25, 10 ,20]\n",
    "\n",
    "#print(case)\n",
    "dp[0] = case[0]\n",
    "dp[1] = dp[0] + case[1]\n",
    "\n",
    "dp[2] = max(case[1]+case[2], case[0]+case[2])\n",
    "\n",
    "for i in range(3, n):\n",
    "    dp[i] = max(dp[i-3]+case[i-1] +case[i], dp[i-2]+case[i])\n",
    "\n",
    "print(dp[n-1])"
   ]
  },
  {
   "cell_type": "markdown",
   "id": "effective-history",
   "metadata": {},
   "source": [
    "# 9461 파도반 수열"
   ]
  },
  {
   "cell_type": "code",
   "execution_count": 31,
   "id": "weighted-repository",
   "metadata": {},
   "outputs": [
    {
     "name": "stdout",
     "output_type": "stream",
     "text": [
      "2\n",
      "6\n",
      "12\n",
      "max_n :  12\n",
      "3\n",
      "16\n"
     ]
    }
   ],
   "source": [
    "n = int(input())\n",
    "case = [0 for i in range(100)]\n",
    "case = [1, 1, 1, 2, 2, 3, 4, 5, 7, 9]\n",
    "dp = [1, 1, 1, 2, 2, 3, 4, 5, 7, 9]\n",
    "\n",
    "case = []\n",
    "for _ in range(n):\n",
    "    case.append(int(input()))\n",
    "    \n",
    "max_n = max(case)\n",
    "#print('max_n : ', max_n)\n",
    "\n",
    "for i in range(10, max_n):\n",
    "    #dp[i] = dp[i-1] + dp[i-5]\n",
    "    dp.append(dp[i-1] + dp[i-5])\n",
    "\n",
    "for i in case:\n",
    "    print(dp[i-1])"
   ]
  },
  {
   "cell_type": "markdown",
   "id": "boxed-naples",
   "metadata": {},
   "source": [
    "# 12865 평범한 배낭"
   ]
  },
  {
   "cell_type": "code",
   "execution_count": 35,
   "id": "stretch-discretion",
   "metadata": {},
   "outputs": [
    {
     "name": "stdout",
     "output_type": "stream",
     "text": [
      "4 7\n",
      "6 13\n",
      "4 8\n",
      "3 6\n",
      "5 12\n",
      "[6, 4, 3, 5, 0, 0, 0, 0, 0, 0, 0, 0, 0, 0, 0, 0, 0, 0, 0, 0, 0, 0, 0, 0, 0, 0, 0, 0, 0, 0, 0, 0, 0, 0, 0, 0, 0, 0, 0, 0, 0, 0, 0, 0, 0, 0, 0, 0, 0, 0, 0, 0, 0, 0, 0, 0, 0, 0, 0, 0, 0, 0, 0, 0, 0, 0, 0, 0, 0, 0, 0, 0, 0, 0, 0, 0, 0, 0, 0, 0, 0, 0, 0, 0, 0, 0, 0, 0, 0, 0, 0, 0, 0, 0, 0, 0, 0, 0, 0, 0] [13, 8, 6, 12, 0, 0, 0, 0, 0, 0, 0, 0, 0, 0, 0, 0, 0, 0, 0, 0, 0, 0, 0, 0, 0, 0, 0, 0, 0, 0, 0, 0, 0, 0, 0, 0, 0, 0, 0, 0, 0, 0, 0, 0, 0, 0, 0, 0, 0, 0, 0, 0, 0, 0, 0, 0, 0, 0, 0, 0, 0, 0, 0, 0, 0, 0, 0, 0, 0, 0, 0, 0, 0, 0, 0, 0, 0, 0, 0, 0, 0, 0, 0, 0, 0, 0, 0, 0, 0, 0, 0, 0, 0, 0, 0, 0, 0, 0, 0, 0]\n"
     ]
    }
   ],
   "source": [
    "n, k = map(int, input().split())\n",
    "\n",
    "dp_w = [0 for _ in range(100)]\n",
    "dp_k = [0 for _ in range(100)]\n",
    "for i in range(n):\n",
    "    w, v = map(int,input().split())\n",
    "    dp_w[i] = w\n",
    "    dp_k[i] = v\n",
    "    \n",
    "print(dp_w, dp_k)\n",
    "# 6, 4, 3, 5\n",
    "# 13, 8, 6, 12\n",
    "\n",
    "for i in range(n):\n",
    "    for j in range(n):\n",
    "        "
   ]
  },
  {
   "cell_type": "markdown",
   "id": "canadian-watts",
   "metadata": {},
   "source": [
    "# 9251 LCS"
   ]
  },
  {
   "cell_type": "code",
   "execution_count": 64,
   "id": "driven-cycle",
   "metadata": {},
   "outputs": [
    {
     "name": "stdout",
     "output_type": "stream",
     "text": [
      "ASCASC\n",
      "ACSD\n",
      "3\n"
     ]
    }
   ],
   "source": [
    "a = input()\n",
    "b = input()\n",
    "\n",
    "if len(a) < len(b):\n",
    "    a, b = b, a\n",
    "\n",
    "dp = [[0 for _ in range(len(a)+1)] for _ in range(len(b)+1)]\n",
    "#print(dp)\n",
    "for i in range(len(a)):\n",
    "    \n",
    "    for j in range(len(b)):\n",
    "        if a[i] == b[j]:\n",
    "            #dp[i][j] = dp[i-1][j-1] + 1\n",
    "            #dp[i+1][j+1] = dp[i][j] + 1\n",
    "            dp[j+1][i+1] = dp[j][i] + 1\n",
    "        else:\n",
    "            #dp[i+1][j+1] = max(dp[i+1][j], dp[i][j+1])\n",
    "            dp[j+1][i+1] = max(dp[j+1][i], dp[j][i+1])\n",
    "#print(dp)\n",
    "print(max(dp[-1]))\n",
    "    \n",
    "    "
   ]
  },
  {
   "cell_type": "markdown",
   "id": "joint-double",
   "metadata": {},
   "source": [
    "# 11053 가장 긴 증가하는 부분 수열"
   ]
  },
  {
   "cell_type": "code",
   "execution_count": 72,
   "id": "scenic-gamma",
   "metadata": {},
   "outputs": [
    {
     "name": "stdout",
     "output_type": "stream",
     "text": [
      "6\n",
      "10 20 10 30 20 50\n"
     ]
    },
    {
     "data": {
      "text/plain": [
       "[10, 20, 10, 30, 20, 50]"
      ]
     },
     "execution_count": 72,
     "metadata": {},
     "output_type": "execute_result"
    }
   ],
   "source": [
    "n = int(input())\n",
    "case = list(map(int, input().split()))\n",
    "case"
   ]
  },
  {
   "cell_type": "code",
   "execution_count": 73,
   "id": "accepting-cambridge",
   "metadata": {},
   "outputs": [
    {
     "name": "stdout",
     "output_type": "stream",
     "text": [
      "[0, 0, 0, 0, 0, 0]\n",
      "[5, 4, 3, 2, 1, 0]\n"
     ]
    }
   ],
   "source": [
    "results = [0 for i in range(n)]\n",
    "print(results)\n",
    "for i in range(n):\n",
    "    for j in range(i, n):\n",
    "        if i < j :\n",
    "            results[i] += 1\n",
    "print(results)"
   ]
  },
  {
   "cell_type": "code",
   "execution_count": 79,
   "id": "incomplete-necklace",
   "metadata": {},
   "outputs": [
    {
     "name": "stdout",
     "output_type": "stream",
     "text": [
      "[0, 0, 0, 0, 0, 0]\n",
      "dp :  [1, 1, 0, 0, 0, 0] 1 0\n",
      "dp :  [1, 2, 0, 0, 0, 0] 2 0\n",
      "dp :  [1, 2, 0, 0, 0, 0] 2 1\n",
      "dp :  [1, 2, 1, 1, 0, 0] 3 0\n",
      "dp :  [1, 2, 1, 2, 0, 0] 3 1\n",
      "dp :  [1, 2, 1, 2, 0, 0] 3 2\n",
      "dp :  [1, 2, 1, 3, 1, 0] 4 0\n",
      "dp :  [1, 2, 1, 3, 1, 0] 4 1\n",
      "dp :  [1, 2, 1, 3, 1, 0] 4 2\n",
      "dp :  [1, 2, 1, 3, 1, 0] 4 3\n",
      "dp :  [1, 2, 1, 3, 2, 1] 5 0\n",
      "dp :  [1, 2, 1, 3, 2, 2] 5 1\n",
      "dp :  [1, 2, 1, 3, 2, 2] 5 2\n",
      "dp :  [1, 2, 1, 3, 2, 3] 5 3\n",
      "dp :  [1, 2, 1, 3, 2, 3] 5 4\n",
      "4\n"
     ]
    }
   ],
   "source": [
    "dp = [0 for i in range(n)]\n",
    "print(dp)\n",
    "for i in range(n):\n",
    "    for j in range(i):\n",
    "        \n",
    "        if case[i] > case[j] and dp[i] < dp[j]:\n",
    "            dp[i] = dp[j]\n",
    "        print('dp : ', dp, i, j)\n",
    "    dp[i] +=1\n",
    "print(max(dp))"
   ]
  },
  {
   "cell_type": "markdown",
   "id": "interior-pasta",
   "metadata": {},
   "source": [
    "# 백준 1463 1로 만들기"
   ]
  },
  {
   "cell_type": "code",
   "execution_count": 1,
   "id": "phantom-notebook",
   "metadata": {},
   "outputs": [
    {
     "name": "stdout",
     "output_type": "stream",
     "text": [
      "10\n",
      "3\n"
     ]
    }
   ],
   "source": [
    "n = int(input())\n",
    "dp = [0 for _ in range(n+1)]\n",
    "\n",
    "#dp[1] = 1\n",
    "for i in range(2, n+1):\n",
    "    dp[i] = dp[i-1]+1\n",
    "    \n",
    "    if i % 3 == 0:\n",
    "        dp[i] = min(dp[i//3] + 1, dp[i])\n",
    "    if i % 2 == 0:\n",
    "        dp[i] = min(dp[i//2] + 1, dp[i])\n",
    "        \n",
    "print(dp[n])\n",
    "    \n"
   ]
  },
  {
   "cell_type": "markdown",
   "id": "peaceful-clearance",
   "metadata": {},
   "source": [
    "# 백준 10844 쉬운 계단 수"
   ]
  },
  {
   "cell_type": "code",
   "execution_count": null,
   "id": "silver-championship",
   "metadata": {},
   "outputs": [],
   "source": [
    "n = int(input())\n",
    "\n",
    "dp = [[0 for _ in range(10)] for _ in range(n)]\n",
    "\n",
    "for i in range(1, 10):\n",
    "    dp[0][i] = 1\n",
    "#print(dp)\n",
    "\n",
    "\n",
    "for i in range(0,n-1):\n",
    "    for j in range(10):\n",
    "        if j == 0:\n",
    "            dp[i+1][1] += dp[i][0]\n",
    "        elif j == 9:\n",
    "            dp[i+1][8] += dp[i][9]\n",
    "        else:# 백준 1463 1로 만들기\n",
    "            dp[i+1][j+1] += dp[i][j]\n",
    "            dp[i+1][j-1] += dp[i][j]\n",
    "\n",
    "\n",
    "\n",
    "print(sum(dp[-1])%1000000000)\n",
    "\n",
    "\n",
    "    \n"
   ]
  },
  {
   "cell_type": "markdown",
   "id": "mighty-cycle",
   "metadata": {},
   "source": [
    "# 백준 2156 포도주 시식"
   ]
  },
  {
   "cell_type": "code",
   "execution_count": null,
   "id": "awful-virgin",
   "metadata": {},
   "outputs": [],
   "source": [
    "n = int(input())\n",
    "wine = [0]\n",
    "\n",
    "dp = [0 for _ in range(10001)]\n",
    "for _ in range(n):\n",
    "    wine.append(int(input()))\n",
    "#n = 2   \n",
    "#wine = [0, 10, 6]#, 13]#, 9, 8, 1]    \n",
    "\n",
    "dp[0] = wine[0]\n",
    "dp[1] = wine[0] + wine[1]\n",
    "\n",
    "if n > 1 :\n",
    "    dp[2] = wine[1] + wine[2]\n",
    "for i in range(2, n+1):\n",
    "    dp[i] = max(dp[i-2] + wine[i], dp[i-3]+ wine[i-1] + wine[i], dp[i-1])\n",
    "print(dp[n])"
   ]
  },
  {
   "cell_type": "markdown",
   "id": "cathedral-street",
   "metadata": {},
   "source": [
    "# 1904 01타일"
   ]
  },
  {
   "cell_type": "code",
   "execution_count": null,
   "id": "infinite-asian",
   "metadata": {},
   "outputs": [],
   "source": []
  },
  {
   "cell_type": "code",
   "execution_count": null,
   "id": "scientific-kuwait",
   "metadata": {},
   "outputs": [],
   "source": []
  },
  {
   "cell_type": "code",
   "execution_count": null,
   "id": "fallen-circle",
   "metadata": {},
   "outputs": [],
   "source": [
    "a"
   ]
  }
 ],
 "metadata": {
  "kernelspec": {
   "display_name": "Python 3",
   "language": "python",
   "name": "python3"
  },
  "language_info": {
   "codemirror_mode": {
    "name": "ipython",
    "version": 3
   },
   "file_extension": ".py",
   "mimetype": "text/x-python",
   "name": "python",
   "nbconvert_exporter": "python",
   "pygments_lexer": "ipython3",
   "version": "3.7.10"
  }
 },
 "nbformat": 4,
 "nbformat_minor": 5
}
