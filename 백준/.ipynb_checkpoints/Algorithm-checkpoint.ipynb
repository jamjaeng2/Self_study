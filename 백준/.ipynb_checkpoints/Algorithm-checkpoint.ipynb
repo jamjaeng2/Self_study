{
 "cells": [
  {
   "cell_type": "markdown",
   "id": "noble-contrast",
   "metadata": {},
   "source": [
    "# 이진 검색"
   ]
  },
  {
   "cell_type": "code",
   "execution_count": 15,
   "id": "sharp-scoop",
   "metadata": {},
   "outputs": [],
   "source": [
    "# 재귀함수\n",
    "def binary_search_rec(seq, target, low, high):\n",
    "    if low > high:\n",
    "        return None\n",
    "    mid = (low + high) // 2\n",
    "    if target == seq[mid]:\n",
    "        return mid\n",
    "    elif target < seq[mid]:\n",
    "        return binary_search_rec(seq, target, low, mid-1)\n",
    "    else:\n",
    "        return binary_search_rec(seq, target, mid+1, high)"
   ]
  },
  {
   "cell_type": "code",
   "execution_count": 16,
   "id": "touched-crowd",
   "metadata": {},
   "outputs": [],
   "source": [
    "# 반복문\n",
    "def binary_search_iter(seq, target):\n",
    "    high, low = len(seq), 0\n",
    "    while low < high:\n",
    "        mid = (high + low) // 2\n",
    "        if target == seq[mid]:\n",
    "            return mid\n",
    "        elif target < seq[mid]:\n",
    "            high = mid\n",
    "        else:\n",
    "            low = mid + 1\n",
    "    return None\n"
   ]
  },
  {
   "cell_type": "code",
   "execution_count": 17,
   "id": "indian-mainstream",
   "metadata": {},
   "outputs": [],
   "source": [
    "def test_binary_search():\n",
    "    seq = [1, 2, 5, 6, 7, 10, 12, 12, 14, 15]\n",
    "    target = 6\n",
    "    assert(binary_search_iter(seq, target) == 3)\n",
    "    assert(binary_search_rec(seq, target, 0, len(seq)) == 3)\n",
    "    print(\"test 통과\")"
   ]
  },
  {
   "cell_type": "code",
   "execution_count": 21,
   "id": "relevant-participant",
   "metadata": {},
   "outputs": [
    {
     "name": "stdout",
     "output_type": "stream",
     "text": [
      "test 통과\n"
     ]
    }
   ],
   "source": [
    "test_binary_search()"
   ]
  },
  {
   "cell_type": "markdown",
   "id": "manufactured-series",
   "metadata": {},
   "source": [
    "# bisect 모듈"
   ]
  },
  {
   "cell_type": "code",
   "execution_count": 23,
   "id": "prostate-association",
   "metadata": {},
   "outputs": [
    {
     "data": {
      "text/plain": [
       "4"
      ]
     },
     "execution_count": 23,
     "metadata": {},
     "output_type": "execute_result"
    }
   ],
   "source": [
    "from bisect import bisect\n",
    "l = [0, 3, 4, 5]\n",
    "bisect(l, 5)"
   ]
  },
  {
   "cell_type": "markdown",
   "id": "coupled-orchestra",
   "metadata": {},
   "source": [
    "# 최장 증가 부분열"
   ]
  },
  {
   "cell_type": "code",
   "execution_count": 29,
   "id": "lesser-pharmacology",
   "metadata": {},
   "outputs": [
    {
     "name": "stdout",
     "output_type": "stream",
     "text": [
      "Writing test_a.py\n"
     ]
    }
   ],
   "source": [
    "%%file test_a.py\n",
    "\n",
    "from bisect import bisect\n",
    "from itertools import combinations\n",
    "from functools import wraps\n",
    "\n",
    "from benchmark import benchmark\n",
    "\n",
    "def naive_longest_inc_subseq(seq):\n",
    "    \"\"\" 1) 단순한 방법\"\"\"\n",
    "    for length in range(len(seq), 0, -1):\n",
    "        for sub in combinations(seq, length):\n",
    "            if list(sub) == sorted(sub):\n",
    "                return len(sub)\n",
    "            \n",
    "            \n",
    "def dp_longest_inc_subseq(seq):\n",
    "    \"\"\" 2) 동적 계획법\"\"\"\n",
    "    L = [1] * len(seq)\n",
    "    res = []\n",
    "    for cur, val in enumerate(seq):\n",
    "        for pre in range(cur):\n",
    "            if seq[pre] <= val:\n",
    "                L[cur] = max(L[cur], 1+L[pre])\n",
    "    return max(L)\n",
    "\n",
    "\n",
    "def memo(func):\n",
    "    cache = {}\n",
    "    \n",
    "    @warps(func)\n",
    "    def warp(*args):\n",
    "        if args not in cache:\n",
    "            cache[args] = func(*args)\n",
    "        return cache[args]\n",
    "    return wrap\n",
    "\n",
    "def memoized_longest_inc_subseq(seq):\n",
    "    \"\"\"3) 메모이제이션\"\"\"\n",
    "    @memo\n",
    "    def L(cur):\n",
    "        res = 1\n",
    "        for pre in range(cur):\n",
    "            if seq[pre] <= seq[cur]:\n",
    "                res = max(res, 1+L(pre))\n",
    "        return res\n",
    "    return max(L(i) for i in range(len(seq)))\n",
    "\n",
    "def longest_inc_bisec(seq):\n",
    "    \"\"\"4) 이진 검색\"\"\"\n",
    "    end = []\n",
    "    for val in seq:\n",
    "        idx = bisect(end, val)\n",
    "        if idx == len(end):\n",
    "            end.append(val)\n",
    "        else:\n",
    "            end[idx] = val\n",
    "        # print(end)\n",
    "    return len(end)\n",
    "\n",
    "\n",
    "@benchmark\n",
    "def test_naive_longest_inc_subseq():\n",
    "    print(naive_longest_inc(subseq(s1)))\n",
    "    \n",
    "@benchmark\n",
    "def test_dp_longest_inc_subseq():\n",
    "    print(test_dp_longest_inc_subseq(subseq(s1)))\n",
    "    \n",
    "@benchmark\n",
    "def test_memoized_longest_inc_subseq():\n",
    "    print(test_memoized_longest_inc_subseq(s1))\n",
    "    \n",
    "@benchmark\n",
    "def test_longest_inc_bisec():\n",
    "    print(test_longest_inc_bisec(s1))\n",
    "    \n",
    "s1 = [94, 8, 78, 22, 38, 79, 93, 8, 84, 39]\n",
    "print(s1)\n",
    "test_naive_longest_inc_subseq()\n",
    "test_dp_longest_inc_subseq()\n",
    "test_memoized_longest_inc_subseq()\n",
    "test_longest_inc_bisec()"
   ]
  },
  {
   "cell_type": "markdown",
   "id": "broad-sterling",
   "metadata": {},
   "source": [
    "# 17219 비밀번호 찾기"
   ]
  },
  {
   "cell_type": "code",
   "execution_count": null,
   "id": "measured-fabric",
   "metadata": {},
   "outputs": [],
   "source": [
    "import sys\n",
    "input = lambda : sys.stdin.readline().rstrip()\n",
    "\n",
    "n, m = map(int, input().split())\n",
    "arr = dict(input().split() for _ in range(n))\n",
    "for _ in range(m):\n",
    "    site = input()\n",
    "    print(arr.get(site))"
   ]
  },
  {
   "cell_type": "code",
   "execution_count": 1,
   "id": "polyphonic-tomato",
   "metadata": {},
   "outputs": [
    {
     "name": "stdout",
     "output_type": "stream",
     "text": [
      "2 1\n",
      "noj.am IU\n",
      "acmicpc.net UAENA\n"
     ]
    },
    {
     "data": {
      "text/plain": [
       "{'noj.am': 'IU', 'acmicpc.net': 'UAENA'}"
      ]
     },
     "execution_count": 1,
     "metadata": {},
     "output_type": "execute_result"
    }
   ],
   "source": [
    "n, m = map(int, input().split())\n",
    "arr = dict(input().split() for _ in range(n))\n",
    "arr"
   ]
  },
  {
   "cell_type": "code",
   "execution_count": 3,
   "id": "conceptual-manitoba",
   "metadata": {},
   "outputs": [
    {
     "data": {
      "text/plain": [
       "'IU'"
      ]
     },
     "execution_count": 3,
     "metadata": {},
     "output_type": "execute_result"
    }
   ],
   "source": [
    "arr['noj.am']"
   ]
  },
  {
   "cell_type": "code",
   "execution_count": null,
   "id": "wrapped-status",
   "metadata": {},
   "outputs": [],
   "source": []
  }
 ],
 "metadata": {
  "kernelspec": {
   "display_name": "Python 3",
   "language": "python",
   "name": "python3"
  },
  "language_info": {
   "codemirror_mode": {
    "name": "ipython",
    "version": 3
   },
   "file_extension": ".py",
   "mimetype": "text/x-python",
   "name": "python",
   "nbconvert_exporter": "python",
   "pygments_lexer": "ipython3",
   "version": "3.7.10"
  }
 },
 "nbformat": 4,
 "nbformat_minor": 5
}
