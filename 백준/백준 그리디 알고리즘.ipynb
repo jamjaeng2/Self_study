{
 "cells": [
  {
   "cell_type": "markdown",
   "id": "continent-flood",
   "metadata": {},
   "source": [
    "# 1931 회의실 배정"
   ]
  },
  {
   "cell_type": "code",
   "execution_count": 8,
   "id": "blond-enlargement",
   "metadata": {},
   "outputs": [
    {
     "name": "stdout",
     "output_type": "stream",
     "text": [
      "[[1, 4], [3, 5], [0, 6], [5, 7], [3, 8], [5, 9], [6, 10], [8, 11], [8, 12], [2, 13], [12, 14]]\n",
      "[[1, 4]]\n",
      "4\n"
     ]
    }
   ],
   "source": [
    "n = int(input())\n",
    "case = []\n",
    "for _ in range(n):\n",
    "    case.append(list(map(int, input().split())))\n",
    "#case = [[1, 4], [3,5],[0,6],[5,7],[3,8],[5,9],[6,10],[8,11],[8,12],[2,13],[12,14]]\n",
    "answer = []\n",
    "sorted(case, key = lambda x : case[1])\n",
    "answer.append(case[0])\n",
    "\n",
    "for i in range(1, n):\n",
    "    if case[i][0] >= answer[-1][1]:\n",
    "        answer.append(case[i])\n",
    "            \n",
    "print(len(answer))\n",
    "\n",
    "#while True:\n",
    "    \n",
    "    \n",
    "    "
   ]
  },
  {
   "cell_type": "code",
   "execution_count": 38,
   "id": "oriental-north",
   "metadata": {},
   "outputs": [
    {
     "name": "stdout",
     "output_type": "stream",
     "text": [
      "[[1, 4], [3, 5], [0, 6], [5, 7], [3, 8], [5, 9], [6, 10], [8, 11], [2, 13], [8, 13], [12, 14]]\n",
      "1 4\n",
      "3 5\n",
      "0 6\n",
      "5 7\n",
      "3 8\n",
      "5 9\n",
      "6 10\n",
      "8 11\n",
      "2 13\n",
      "8 13\n",
      "12 14\n",
      "4\n"
     ]
    }
   ],
   "source": [
    "#n = int(input())\n",
    "n = 11\n",
    "case = []\n",
    "#for _ in range(n):\n",
    "#    case.append(list(map(int, input().split())))\n",
    "case = [[1, 4], [3,5],[0,6],[5,7],[3,8],[5,9],[6,10],[8,11],[8,13],[2,13],[12,14]]\n",
    "answer = []\n",
    "\n",
    "case.sort(key = lambda x:(x[1],x[0]))\n",
    "print(case)\n",
    "\n",
    "cnt = 0\n",
    "last = 0\n",
    "for i, j in case:\n",
    "    if i >= last:\n",
    "        cnt += 1 \n",
    "        last = j\n",
    "        \n",
    "print(cnt)    "
   ]
  },
  {
   "cell_type": "markdown",
   "id": "inner-asset",
   "metadata": {},
   "source": [
    "# 1541 잃어버린 괄호"
   ]
  },
  {
   "cell_type": "code",
   "execution_count": 52,
   "id": "answering-graphics",
   "metadata": {},
   "outputs": [
    {
     "name": "stdout",
     "output_type": "stream",
     "text": [
      "55\n",
      "-35\n"
     ]
    }
   ],
   "source": [
    "#case = list(input().split('-'))\n",
    "case = '55-50+40'\n",
    "case = list(case.split('-'))\n",
    "#print(case)\n",
    "case_sum = 0\n",
    "\n",
    "\n",
    "for i in range(len(case)):\n",
    "    #print(case[i])\n",
    "    a = sum(list(map(int, case[i].split('+'))))\n",
    "    if i ==0:\n",
    "        case_sum = a\n",
    "    else:\n",
    "        case_sum -= a\n",
    "    \n",
    "print(case_sum)\n",
    "        \n",
    "          \n",
    "        "
   ]
  },
  {
   "cell_type": "markdown",
   "id": "french-cylinder",
   "metadata": {},
   "source": [
    "# 13305 주유소"
   ]
  },
  {
   "cell_type": "code",
   "execution_count": 56,
   "id": "instrumental-unknown",
   "metadata": {},
   "outputs": [
    {
     "name": "stdout",
     "output_type": "stream",
     "text": [
      "4\n",
      "2 3 1\n",
      "5 2 4 1\n"
     ]
    }
   ],
   "source": [
    "n = int(input())\n",
    "distance = list(map(int, input().split()))\n",
    "price = list(map(int, input().split()))"
   ]
  },
  {
   "cell_type": "code",
   "execution_count": 59,
   "id": "forward-nudist",
   "metadata": {},
   "outputs": [
    {
     "name": "stdout",
     "output_type": "stream",
     "text": [
      "18\n"
     ]
    }
   ],
   "source": [
    "#   2 3 1\n",
    "#  5 2 4 1\n",
    "import math\n",
    "min_price = math.inf\n",
    "cost = 0\n",
    "for i in range(n-1):\n",
    "    if price[i] < min_price:\n",
    "        min_price = price[i]\n",
    "    \n",
    "    cost += min_price*distance[i]\n",
    "print(cost)"
   ]
  },
  {
   "cell_type": "code",
   "execution_count": null,
   "id": "affecting-scratch",
   "metadata": {},
   "outputs": [],
   "source": []
  }
 ],
 "metadata": {
  "kernelspec": {
   "display_name": "Python 3",
   "language": "python",
   "name": "python3"
  },
  "language_info": {
   "codemirror_mode": {
    "name": "ipython",
    "version": 3
   },
   "file_extension": ".py",
   "mimetype": "text/x-python",
   "name": "python",
   "nbconvert_exporter": "python",
   "pygments_lexer": "ipython3",
   "version": "3.7.10"
  }
 },
 "nbformat": 4,
 "nbformat_minor": 5
}
