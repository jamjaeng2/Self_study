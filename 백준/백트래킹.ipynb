{
 "cells": [
  {
   "cell_type": "markdown",
   "id": "infinite-motorcycle",
   "metadata": {},
   "source": [
    "# 15649 N과 M (1)"
   ]
  },
  {
   "cell_type": "code",
   "execution_count": 11,
   "id": "sustainable-stewart",
   "metadata": {},
   "outputs": [
    {
     "name": "stdout",
     "output_type": "stream",
     "text": [
      "4 2\n",
      "[(1, 2), (1, 3), (1, 4), (2, 1), (2, 3), (2, 4), (3, 1), (3, 2), (3, 4), (4, 1), (4, 2), (4, 3)]\n",
      "(1, 2)\n",
      "(1, 3)\n",
      "(1, 4)\n",
      "(2, 1)\n",
      "(2, 3)\n",
      "(2, 4)\n",
      "(3, 1)\n",
      "(3, 2)\n",
      "(3, 4)\n",
      "(4, 1)\n",
      "(4, 2)\n",
      "(4, 3)\n"
     ]
    }
   ],
   "source": [
    "from itertools import permutations\n",
    "N, M = map(int, input().split())\n",
    "P = permutations(range(1, N+1), M)\n",
    "for i in P:\n",
    "    print(' '.join(map(str, i)))"
   ]
  },
  {
   "cell_type": "markdown",
   "id": "moral-replacement",
   "metadata": {},
   "source": [
    "# 15650 N과 M (2)"
   ]
  },
  {
   "cell_type": "code",
   "execution_count": 58,
   "id": "fallen-elder",
   "metadata": {},
   "outputs": [
    {
     "name": "stdout",
     "output_type": "stream",
     "text": [
      "4 2\n",
      "1 2\n",
      "1 3\n",
      "1 4\n",
      "2 3\n",
      "2 4\n",
      "3 4\n"
     ]
    }
   ],
   "source": [
    "N, M = map(int, input().split())\n",
    "visited = [False] * N\n",
    "out = []\n",
    "\n",
    "def solve(depth, idx, N, M):\n",
    "    if depth == M:\n",
    "        print(' '.join(map(str, out)))\n",
    "        return\n",
    "    for i in range(idx, N):\n",
    "        if not visited[i]:\n",
    "            visited[i] = True\n",
    "            out.append(i+1)\n",
    "            solve(depth+1, i+1, N, M)\n",
    "            visited[i] = False\n",
    "            out.pop()\n",
    "solve(0, 0, N, M)"
   ]
  },
  {
   "cell_type": "code",
   "execution_count": 60,
   "id": "portuguese-temperature",
   "metadata": {},
   "outputs": [
    {
     "name": "stdout",
     "output_type": "stream",
     "text": [
      "4 2\n"
     ]
    },
    {
     "data": {
      "text/plain": [
       "[[1, 2], [1, 3], [1, 4], [2, 3], [2, 4], [3, 4]]"
      ]
     },
     "execution_count": 60,
     "metadata": {},
     "output_type": "execute_result"
    }
   ],
   "source": [
    "## 제너레이터를 이용해서 조합 구현 (중복 조합 X)\n",
    "def combinations_2(array, r):\n",
    "    for i in range(len(array)):\n",
    "        if r == 1: # 종료 조건\n",
    "            yield [array[i]]\n",
    "        else:\n",
    "            for next in combinations_2(array[i+1:], r-1):\n",
    "                yield [array[i]] + next\n",
    "N, M = map(int, input().split())\n",
    "list(combinations_2(range(1, N+1), M))"
   ]
  },
  {
   "cell_type": "code",
   "execution_count": 54,
   "id": "vulnerable-drain",
   "metadata": {},
   "outputs": [
    {
     "name": "stdout",
     "output_type": "stream",
     "text": [
      "4 2\n",
      "1 2\n",
      "1 3\n",
      "1 4\n",
      "2 3\n",
      "2 4\n",
      "3 4\n"
     ]
    }
   ],
   "source": [
    "from itertools import combinations\n",
    "N, M = map(int, input().split())\n",
    "C = combinations(range(1, N+1), M)\n",
    "for i in C:\n",
    "    print(' '.join(map(str, i)))"
   ]
  },
  {
   "cell_type": "markdown",
   "id": "noble-quantum",
   "metadata": {},
   "source": [
    "# 15651 N과 M (3)"
   ]
  },
  {
   "cell_type": "code",
   "execution_count": null,
   "id": "driving-event",
   "metadata": {},
   "outputs": [],
   "source": [
    "from itertools import combinations\n",
    "N, M = map(int, input().split())\n",
    "C = combinations(range(1, N+1), M)\n",
    "for i in C:\n",
    "    print(' '.join(map(str, i)))"
   ]
  },
  {
   "cell_type": "code",
   "execution_count": 63,
   "id": "lined-radio",
   "metadata": {},
   "outputs": [
    {
     "name": "stdout",
     "output_type": "stream",
     "text": [
      "4 2\n"
     ]
    },
    {
     "data": {
      "text/plain": [
       "[[1, 1],\n",
       " [1, 2],\n",
       " [1, 3],\n",
       " [1, 4],\n",
       " [2, 2],\n",
       " [2, 3],\n",
       " [2, 4],\n",
       " [3, 3],\n",
       " [3, 4],\n",
       " [4, 4]]"
      ]
     },
     "execution_count": 63,
     "metadata": {},
     "output_type": "execute_result"
    }
   ],
   "source": [
    "## 제너레이터를 이용해서 조합 구현 (중복 조합 X)\n",
    "def combinations_3(array, r):\n",
    "    for i in range(len(array)):\n",
    "        if r == 1: # 종료 조건\n",
    "            yield [array[i]]\n",
    "        else:\n",
    "            for next in combinations_3(array[i:], r-1):\n",
    "                yield [array[i]] + next\n",
    "N, M = map(int, input().split())\n",
    "list(combinations_3(range(1, N+1), M))"
   ]
  },
  {
   "cell_type": "code",
   "execution_count": 72,
   "id": "turned-military",
   "metadata": {},
   "outputs": [
    {
     "name": "stdout",
     "output_type": "stream",
     "text": [
      "4 2\n",
      "1 1\n",
      "1 2\n",
      "1 3\n",
      "1 4\n",
      "2 1\n",
      "2 2\n",
      "2 3\n",
      "2 4\n",
      "3 1\n",
      "3 2\n",
      "3 3\n",
      "3 4\n",
      "4 1\n",
      "4 2\n",
      "4 3\n",
      "4 4\n"
     ]
    }
   ],
   "source": [
    "from itertools import product\n",
    "N, M = map(int, input().split())\n",
    "result = list(product(list(range(1, N+1)), repeat =  M))\n",
    "for i in result:\n",
    "    print(' '.join(map(str, i)))"
   ]
  },
  {
   "cell_type": "markdown",
   "id": "genuine-anatomy",
   "metadata": {},
   "source": [
    "# 15652번 N과 M (4)"
   ]
  },
  {
   "cell_type": "code",
   "execution_count": 73,
   "id": "julian-turkey",
   "metadata": {},
   "outputs": [
    {
     "name": "stdout",
     "output_type": "stream",
     "text": [
      "4 2\n"
     ]
    },
    {
     "data": {
      "text/plain": [
       "[(1, 1),\n",
       " (1, 2),\n",
       " (1, 3),\n",
       " (1, 4),\n",
       " (2, 2),\n",
       " (2, 3),\n",
       " (2, 4),\n",
       " (3, 3),\n",
       " (3, 4),\n",
       " (4, 4)]"
      ]
     },
     "execution_count": 73,
     "metadata": {},
     "output_type": "execute_result"
    }
   ],
   "source": [
    "from itertools import combinations_with_replacement \n",
    "N, M = map(int, input().split())\n",
    "result = list(combinations_with_replacement (list(range(1, N+1)), M))\n",
    "for i in result:\n",
    "    print(' '.join(map(str, i)))"
   ]
  },
  {
   "cell_type": "markdown",
   "id": "hired-schedule",
   "metadata": {},
   "source": [
    "# 9663번 N-Queen"
   ]
  },
  {
   "cell_type": "code",
   "execution_count": 74,
   "id": "dimensional-touch",
   "metadata": {},
   "outputs": [
    {
     "name": "stdout",
     "output_type": "stream",
     "text": [
      "8\n",
      "92\n"
     ]
    }
   ],
   "source": [
    "#내 윗줄에 나와 겹치는 라인에 퀸이 있는가?\n",
    "def adjacent(x):\n",
    "    for i in range(x):\n",
    "        if row[x] == row[i] or abs(row[x] - row[i]) == x - i:\n",
    "            return False\n",
    "    return True\n",
    "        \n",
    "        \n",
    "#한줄씩 재귀하며 DFS를 실행\n",
    "def dfs(x):\n",
    "    global result\n",
    "    \n",
    "    if x == N:\n",
    "        result += 1\n",
    "\n",
    "    else:\n",
    "        for i in range(N):\n",
    "            row[x] = i\n",
    "            if adjacent(x):\n",
    "                dfs(x + 1)\n",
    "\n",
    "N = int(input())\n",
    "row = [0] * N\n",
    "result = 0\n",
    "dfs(0)\n",
    "print(result)"
   ]
  },
  {
   "cell_type": "code",
   "execution_count": null,
   "id": "sunrise-edward",
   "metadata": {},
   "outputs": [],
   "source": []
  },
  {
   "cell_type": "code",
   "execution_count": 75,
   "id": "studied-heath",
   "metadata": {},
   "outputs": [
    {
     "name": "stdout",
     "output_type": "stream",
     "text": [
      "10\n",
      "724\n"
     ]
    }
   ],
   "source": [
    "def ck(row, col):\n",
    "    if ck_col[col] == 1:\n",
    "        return False\n",
    "    if ck_dig[row + col] == 1:\n",
    "        return False\n",
    "    if ck_dig2[row - col + N-1] == 1:\n",
    "        return False\n",
    "    return True\n",
    "\n",
    "def dfs(row):\n",
    "    if row == N:\n",
    "        return 1\n",
    "    result = 0\n",
    "    for col in range(N):\n",
    "        if ck(row, col):\n",
    "            D[row][col] = 1\n",
    "            ck_col[col] = 1\n",
    "            ck_dig[row + col] = 1\n",
    "            ck_dig2[row - col + N-1] = 1\n",
    "            result += dfs(row + 1)\n",
    "            D[row][col] = 0\n",
    "            ck_col[col] = 0\n",
    "            ck_dig[row + col] = 0\n",
    "            ck_dig2[row - col + N-1] = 0\n",
    "    return result\n",
    "\n",
    "N = int(input())\n",
    "D = [[0]*N for _ in range(N)]\n",
    "ck_col = [0] * N\n",
    "ck_dig = [0] * (2*N-1)\n",
    "ck_dig2 = [0] * (2*N-1)\n",
    "print(dfs(0))"
   ]
  },
  {
   "cell_type": "code",
   "execution_count": 77,
   "id": "prospective-shannon",
   "metadata": {},
   "outputs": [
    {
     "ename": "ValueError",
     "evalue": "invalid literal for int() with base 10: ''",
     "output_type": "error",
     "traceback": [
      "\u001b[1;31m---------------------------------------------------------------------------\u001b[0m",
      "\u001b[1;31mValueError\u001b[0m                                Traceback (most recent call last)",
      "\u001b[1;32m<ipython-input-77-f49a28a24c32>\u001b[0m in \u001b[0;36m<module>\u001b[1;34m\u001b[0m\n\u001b[0;32m     14\u001b[0m \u001b[1;33m\u001b[0m\u001b[0m\n\u001b[0;32m     15\u001b[0m \u001b[1;33m\u001b[0m\u001b[0m\n\u001b[1;32m---> 16\u001b[1;33m \u001b[0mN\u001b[0m \u001b[1;33m=\u001b[0m \u001b[0mint\u001b[0m\u001b[1;33m(\u001b[0m\u001b[0minput\u001b[0m\u001b[1;33m(\u001b[0m\u001b[1;33m)\u001b[0m\u001b[1;33m)\u001b[0m\u001b[1;33m\u001b[0m\u001b[1;33m\u001b[0m\u001b[0m\n\u001b[0m\u001b[0;32m     17\u001b[0m \u001b[0mcol\u001b[0m\u001b[1;33m,\u001b[0m \u001b[0mslash\u001b[0m\u001b[1;33m,\u001b[0m \u001b[0mbackSlash\u001b[0m \u001b[1;33m=\u001b[0m \u001b[1;33m[\u001b[0m\u001b[1;32mFalse\u001b[0m\u001b[1;33m]\u001b[0m \u001b[1;33m*\u001b[0m \u001b[0mN\u001b[0m\u001b[1;33m,\u001b[0m \u001b[1;33m[\u001b[0m\u001b[1;32mFalse\u001b[0m\u001b[1;33m]\u001b[0m \u001b[1;33m*\u001b[0m \u001b[1;33m(\u001b[0m\u001b[1;36m2\u001b[0m \u001b[1;33m*\u001b[0m \u001b[0mN\u001b[0m \u001b[1;33m-\u001b[0m \u001b[1;36m1\u001b[0m\u001b[1;33m)\u001b[0m\u001b[1;33m,\u001b[0m \u001b[1;33m[\u001b[0m\u001b[1;32mFalse\u001b[0m\u001b[1;33m]\u001b[0m \u001b[1;33m*\u001b[0m \u001b[1;33m(\u001b[0m\u001b[1;36m2\u001b[0m \u001b[1;33m*\u001b[0m \u001b[0mN\u001b[0m \u001b[1;33m-\u001b[0m \u001b[1;36m1\u001b[0m\u001b[1;33m)\u001b[0m\u001b[1;33m\u001b[0m\u001b[1;33m\u001b[0m\u001b[0m\n\u001b[0;32m     18\u001b[0m \u001b[0mcase\u001b[0m \u001b[1;33m=\u001b[0m \u001b[1;36m0\u001b[0m\u001b[1;33m\u001b[0m\u001b[1;33m\u001b[0m\u001b[0m\n",
      "\u001b[1;31mValueError\u001b[0m: invalid literal for int() with base 10: ''"
     ]
    }
   ],
   "source": [
    "import sys\n",
    "#input = sys.stdin.readline\n",
    "\n",
    "def DFS(i):\n",
    "    global N, col, slash, backSlash, case\n",
    "    if i == N:\n",
    "        case += 1\n",
    "        return\n",
    "    for j in range(N):\n",
    "        if not (col[j] or slash[i + j] or backSlash[i - j + N - 1]):\n",
    "            col[j] = slash[i + j] = backSlash[i - j + N - 1] = True\n",
    "            DFS(i + 1)\n",
    "            col[j] = slash[i + j] = backSlash[i - j + N - 1] = False\n",
    " \n",
    "\n",
    "N = int(input())\n",
    "col, slash, backSlash = [False] * N, [False] * (2 * N - 1), [False] * (2 * N - 1)\n",
    "case = 0\n",
    " \n",
    "DFS(0)\n",
    " \n",
    "print(case)"
   ]
  },
  {
   "cell_type": "code",
   "execution_count": null,
   "id": "thick-system",
   "metadata": {},
   "outputs": [],
   "source": [
    "import sys\n",
    "\n",
    "def dfs(i):\n",
    "    global N, col, slash, backSlash, case\n",
    "    if i == N:\n",
    "        case += 1\n",
    "        return\n",
    "    for j in range(N):\n",
    "        if not (col[j] or slash[i + j] or backSlash[i - j + N - 1]):\n",
    "            col[j] = slash[i + j] = backSlash[i-j+N-1] = True\n",
    "            "
   ]
  }
 ],
 "metadata": {
  "kernelspec": {
   "display_name": "Python 3",
   "language": "python",
   "name": "python3"
  },
  "language_info": {
   "codemirror_mode": {
    "name": "ipython",
    "version": 3
   },
   "file_extension": ".py",
   "mimetype": "text/x-python",
   "name": "python",
   "nbconvert_exporter": "python",
   "pygments_lexer": "ipython3",
   "version": "3.7.10"
  }
 },
 "nbformat": 4,
 "nbformat_minor": 5
}
