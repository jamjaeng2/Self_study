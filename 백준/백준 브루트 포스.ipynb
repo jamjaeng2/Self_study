{
 "cells": [
  {
   "cell_type": "markdown",
   "id": "emerging-gather",
   "metadata": {},
   "source": [
    "# 2798 블랙잭"
   ]
  },
  {
   "cell_type": "code",
   "execution_count": 4,
   "id": "bizarre-butler",
   "metadata": {},
   "outputs": [
    {
     "name": "stdout",
     "output_type": "stream",
     "text": [
      "10 500\n",
      "93 181 245 214 315 36 185 138 216 295\n",
      "497\n"
     ]
    }
   ],
   "source": [
    "n, m = map(int,input().split())\n",
    "case = list(map(int, input().split()))\n",
    "\n",
    "answer = 0\n",
    "for i in range(len(case)-2):\n",
    "    for j in range(i+1, len(case)-1):\n",
    "        for k in range(j+1, len(case)):\n",
    "            cur_value = case[i]+case[j]+case[k]\n",
    "            if cur_value <= m and answer <= cur_value:\n",
    "                answer = cur_value\n",
    "                \n",
    "print(answer)"
   ]
  },
  {
   "cell_type": "markdown",
   "id": "fixed-perth",
   "metadata": {},
   "source": [
    "# 2231 분해합"
   ]
  },
  {
   "cell_type": "code",
   "execution_count": 19,
   "id": "burning-discrimination",
   "metadata": {},
   "outputs": [
    {
     "name": "stdout",
     "output_type": "stream",
     "text": [
      "15\n",
      "[0, 0]\n",
      "[1, 1]\n",
      "[2, 2]\n",
      "[3, 3]\n",
      "[4, 4]\n",
      "[5, 5]\n",
      "[6, 6]\n",
      "[7, 7]\n",
      "[8, 8]\n",
      "[9, 9]\n",
      "[1, 0, 10]\n",
      "[1, 1, 11]\n",
      "[1, 2, 12]\n",
      "12\n"
     ]
    }
   ],
   "source": [
    "n = int(input())\n",
    "\n",
    "\n",
    "for i in range(n+1):\n",
    "    case = str(i)\n",
    "    case_array = [int(j) for j in case]\n",
    "    case_array.append(i)\n",
    "    print(case_array)\n",
    "    if sum(case_array) == n:\n",
    "        print(i)\n",
    "        break\n",
    "    \n",
    "    \n",
    "    \n",
    "    \n",
    "    if i == n-1:\n",
    "        print(0)\n",
    "        break\n",
    "    "
   ]
  },
  {
   "cell_type": "markdown",
   "id": "collectible-cabinet",
   "metadata": {},
   "source": [
    "# 7568 덩치"
   ]
  },
  {
   "cell_type": "code",
   "execution_count": 39,
   "id": "handmade-uniform",
   "metadata": {},
   "outputs": [
    {
     "name": "stdout",
     "output_type": "stream",
     "text": [
      "5\n",
      "[5, 5, 5, 5, 5]\n",
      "55 185\n",
      "58 183\n",
      "88 186\n",
      "60 175\n",
      "46 155\n",
      "1 1 0 1 4 "
     ]
    }
   ],
   "source": [
    "n = int(input())\n",
    "case = []\n",
    "answer = [n for _ in range(n)]\n",
    "#print(answer)\n",
    "for _ in range(n):\n",
    "    x, y = map(int, input().split())\n",
    "    case.append([x, y])\n",
    "for i in range(n):\n",
    "    cnt = 1\n",
    "    for j in range(n):\n",
    "        if case[i][0] < case[j][0] and case[i][1] < case[j][1]:\n",
    "            cnt += 1\n",
    "    answer[i] = cnt\n",
    "print(*answer)\n",
    "    \n",
    "        \n"
   ]
  },
  {
   "cell_type": "code",
   "execution_count": 38,
   "id": "tight-lloyd",
   "metadata": {},
   "outputs": [
    {
     "name": "stdout",
     "output_type": "stream",
     "text": [
      "[2, 2, 1, 2, 5]\n",
      "2 2 1 2 5\n"
     ]
    }
   ],
   "source": [
    "for i in range(n):\n",
    "    cnt = 0\n",
    "    for j in range(n):\n",
    "        if case[i][0] < case[j][0] and case[i][1] < case[j][1]:\n",
    "            cnt += 1\n",
    "    answer[i] = cnt+1\n",
    "#print(answer)\n",
    "print(*answer)\n",
    "        "
   ]
  },
  {
   "cell_type": "markdown",
   "id": "frank-rocket",
   "metadata": {},
   "source": [
    "# 1018 체스판 다시 칠하기"
   ]
  },
  {
   "cell_type": "code",
   "execution_count": 29,
   "id": "decent-vacation",
   "metadata": {},
   "outputs": [
    {
     "name": "stdout",
     "output_type": "stream",
     "text": [
      "10 13\n",
      "BBBBBBBBWBWBW\n",
      "BBBBBBBWBWBWB\n",
      "BBBBBBBBWBWBW\n",
      "BBBBBBBWBWBWB\n",
      "BBBBBBBBWBWBW\n",
      "BBBBBBBWBWBWB\n",
      "BBBBBBBBWBWBW\n",
      "BBBBBBBWBWBWB\n",
      "WWWWWWWWWWBWB\n",
      "WWWWWWWWWWBWB\n",
      "WWWWWWWWWWBWB\n",
      "WWWWWWWWWWBWB\n",
      "WWWWWWWWWWBWB\n",
      "[28, 36, 24, 40, 20, 44, 16, 48, 12, 52, 8, 56, 28, 36, 25, 39, 21, 43, 19, 45, 15, 49, 13, 51, 29, 35, 26, 38, 23, 41, 20, 44, 17, 47, 14, 50]\n",
      "8\n"
     ]
    }
   ],
   "source": [
    "N, M = map(int, input().split())\n",
    "chess = []\n",
    "for _ in range(N):\n",
    "    chess.append(input())\n",
    "\n",
    "answer = []\n",
    "for i in range(N-7):\n",
    "    for j in range(M - 7):\n",
    "        first_W = 0\n",
    "        first_B = 0\n",
    "        for k in range(i, i+8):\n",
    "            for l in range(j, j+8):\n",
    "                if (k+l)%2 == 0:\n",
    "                    if chess[k][l] != 'W':\n",
    "                        first_W = first_W +1\n",
    "                    if chess[k][l] != 'B':\n",
    "                        first_B = first_B +1\n",
    "                else:\n",
    "                    if chess[k][l] != 'B':\n",
    "                        first_W = first_W +1\n",
    "                    if chess[k][l] != 'W':\n",
    "                        first_B = first_B +1\n",
    "        answer.append(first_W)\n",
    "        answer.append(first_B)\n",
    "print(answer)\n",
    "print(min(answer))"
   ]
  },
  {
   "cell_type": "markdown",
   "id": "realistic-pencil",
   "metadata": {},
   "source": [
    "# 1436 영화감독 숌"
   ]
  },
  {
   "cell_type": "code",
   "execution_count": 30,
   "id": "superb-individual",
   "metadata": {},
   "outputs": [
    {
     "name": "stdout",
     "output_type": "stream",
     "text": [
      "2\n",
      "1666\n"
     ]
    }
   ],
   "source": [
    "n = int(input())\n",
    "cnt = 0\n",
    "six_n = 666\n",
    "while True:\n",
    "    if '666' in str(six_n):\n",
    "        cnt += 1\n",
    "    if cnt == n:\n",
    "        print(six_n)\n",
    "        break\n",
    "    six_n += 1"
   ]
  },
  {
   "cell_type": "code",
   "execution_count": null,
   "id": "joined-wonder",
   "metadata": {},
   "outputs": [],
   "source": []
  }
 ],
 "metadata": {
  "kernelspec": {
   "display_name": "Python 3",
   "language": "python",
   "name": "python3"
  },
  "language_info": {
   "codemirror_mode": {
    "name": "ipython",
    "version": 3
   },
   "file_extension": ".py",
   "mimetype": "text/x-python",
   "name": "python",
   "nbconvert_exporter": "python",
   "pygments_lexer": "ipython3",
   "version": "3.7.10"
  }
 },
 "nbformat": 4,
 "nbformat_minor": 5
}
