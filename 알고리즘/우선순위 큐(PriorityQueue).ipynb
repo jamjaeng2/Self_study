{
 "cells": [
  {
   "cell_type": "markdown",
   "id": "angry-playlist",
   "metadata": {},
   "source": [
    "# 우선순위 큐(PriorityQueue)\n",
    " - 우선순위가 가장 높은 데이터를 먼저 삭제하는 자료 구조\n",
    " - put, get 모두 logN 시간"
   ]
  },
  {
   "cell_type": "code",
   "execution_count": 8,
   "id": "narrative-mistress",
   "metadata": {},
   "outputs": [
    {
     "name": "stdout",
     "output_type": "stream",
     "text": [
      "1\n",
      "3\n",
      "4\n",
      "7\n"
     ]
    }
   ],
   "source": [
    "from queue import PriorityQueue\n",
    "\n",
    "que = PriorityQueue(maxsize = 8)\n",
    "que.put(4)\n",
    "que.put(1)\n",
    "que.put(7)\n",
    "que.put(3)\n",
    "\n",
    "# get을 쓰면 앞에서부터 삭제\n",
    "print(que.get())\n",
    "print(que.get())\n",
    "print(que.get())\n",
    "print(que.get())"
   ]
  },
  {
   "cell_type": "code",
   "execution_count": 9,
   "id": "square-shore",
   "metadata": {},
   "outputs": [],
   "source": [
    "que.put((3, 'Apple'))\n",
    "que.put((1, 'Banana'))\n",
    "que.put((2, 'Cherry'))"
   ]
  },
  {
   "cell_type": "code",
   "execution_count": 10,
   "id": "further-contents",
   "metadata": {},
   "outputs": [
    {
     "name": "stdout",
     "output_type": "stream",
     "text": [
      "Banana\n",
      "(2, 'Cherry')\n",
      "3\n"
     ]
    }
   ],
   "source": [
    "print(que.get()[1])\n",
    "print(que.get())\n",
    "print(que.get()[0])"
   ]
  },
  {
   "cell_type": "code",
   "execution_count": null,
   "id": "polish-shoulder",
   "metadata": {},
   "outputs": [],
   "source": []
  }
 ],
 "metadata": {
  "kernelspec": {
   "display_name": "Python 3",
   "language": "python",
   "name": "python3"
  },
  "language_info": {
   "codemirror_mode": {
    "name": "ipython",
    "version": 3
   },
   "file_extension": ".py",
   "mimetype": "text/x-python",
   "name": "python",
   "nbconvert_exporter": "python",
   "pygments_lexer": "ipython3",
   "version": "3.7.10"
  }
 },
 "nbformat": 4,
 "nbformat_minor": 5
}
