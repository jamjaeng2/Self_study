{
 "cells": [
  {
   "cell_type": "markdown",
   "id": "isolated-lawrence",
   "metadata": {},
   "source": [
    "# 트라이\n",
    " - 검색트리의 일종. 동적 배열 혹은 연관 배열을 저장하는 데 사용되는 정렬된 트리 자료 구조\n",
    " - 주로 문자열이 키인 경우가 많고, 이진 탐색 트리와 달리 트리의 어떤 노드도 그 노드 자체와 연관된 키는 저장하지 않음\n",
    " - 대신 노드가 트리에서 차지하는 위치가 연관된 키를 정의한다.\n",
    " - 즉, 키의 값은 자료 구조 전체에 분산된다.\n",
    " \n",
    "## 특징\n",
    " - Trie는 prefix tree 라고도 불리는 트리 구조의 알고리즘.<br>\n",
    "1) 검색이 빠르다 <br>\n",
    "2) 문자열을 키로 하는 동적 집합이나 연관 배열로 사용 <br>\n",
    "3) 노드는 키를 갖지 않는 대신 노드의 위치가 키 역할을 함 <br>\n",
    "4) root가 빈 스트링"
   ]
  },
  {
   "cell_type": "markdown",
   "id": "narrow-landscape",
   "metadata": {},
   "source": [
    "# 트라이 탐색 및 삽입의 시간 복잡도\n",
    "1) 트라이 탐색\n",
    " - 트라이 탐색을 이용한다면, 문자열의 존재 여부를 파악할 때 문자열 길이만큼만 탐색하면 되기 때문에 빠른 시간안에 문자열 탐색이 가능함.\n",
    " - 즉, 트라이 탐색의 시간 복잡도는 O(N)\n",
    "\n",
    "2) 트라이 삽입\n",
    " - 삽입 연산 또는 O(N)의 시간에 가능.\n",
    " - 일단, 삽입을 하기 위해서는 해당 문자열이 트라이 내에 존재하는지에 대해 탐색하는 작업이 선행되어야 함.\n",
    " - 이때, 문자열이 존재하지 않는지에 대해 판단하고, 나머지 요소를 삽입하는 데에는 역시 O(N)의 시간이 소요\n",
    " \n",
    "3) 트라이 삭제\n",
    " - 삭제 연산은 노드의 삭제가 아닌, 노드 값을 null로 변경하는 것으로 구현된다.\n",
    " - 따라서 문자열을 삭제하기 위해서는 따로 노드 삭제에 따른 시간이 소요되지 않고 해당 노드의 값 변경만 있기 때문에, 역시 O(N)시간에 수행 가능 함."
   ]
  },
  {
   "cell_type": "code",
   "execution_count": 16,
   "id": "excellent-laser",
   "metadata": {},
   "outputs": [
    {
     "name": "stdout",
     "output_type": "stream",
     "text": [
      "['stan', 'stem', 'standard', 'money']\n",
      "add run\n",
      "word[i] \" s \" not in children\n",
      "add run\n",
      "word[i] \" s \" in children\n",
      "word[i] \" t \" in children\n",
      "word[i] \" e \" not in children\n",
      "add run\n",
      "word[i] \" s \" in children\n",
      "word[i] \" t \" in children\n",
      "word[i] \" a \" in children\n",
      "word[i] \" n \" in children\n",
      "word[i] \" d \" not in children\n",
      "add run\n",
      "word[i] \" m \" not in children\n",
      "s \n",
      " t \n",
      "  a \n",
      "   n \n",
      "    # \n",
      "    d \n",
      "     a \n",
      "      r \n",
      "       d \n",
      "        # \n",
      "  e \n",
      "   m \n",
      "    # \n",
      "m \n",
      " o \n",
      "  n \n",
      "   e \n",
      "    y \n",
      "     # \n",
      "\n"
     ]
    }
   ],
   "source": [
    "# http://cd4761.blogspot.com/2017/02/trie-1.html 참고\n",
    "\n",
    "import collections\n",
    "\n",
    "\n",
    "class Node:\n",
    "    def __init__(self, label=None, data=None):\n",
    "        self.label = label\n",
    "        self.data = data\n",
    "        self.children = collections.defaultdict(Trie)\n",
    "        self.NodeCount = 0\n",
    "\n",
    "    def add_child(self, key, data=None):\n",
    "        if not isinstance(key, Node):  # key가 Node의 instance가 아니면\n",
    "            self.children[key] = Node(key, data)\n",
    "        else:\n",
    "            self.children[key.label] = key\n",
    "\n",
    "    def __getitem__(self, key):\n",
    "        return self.children[key]\n",
    "    \n",
    "    # trie 구조를 출력하는 용도로 사용\n",
    "    \n",
    "    def __str__(self, depth=0):\n",
    "        s = []\n",
    "        for key in self.children:\n",
    "            s.append('{}{} {}'.format(' ' * depth, key or '#', '\\n' \n",
    "                                      + self.children[key].__str__(depth + 1)))\n",
    "\n",
    "        return ''.join(s)\n",
    "\n",
    "    \n",
    "class Trie:\n",
    "    def __init__(self):\n",
    "        self.head = Node()\n",
    "\n",
    "    def __getitem__(self, key):\n",
    "        return self.head.children[key]\n",
    "\n",
    "    def __str__(self, depth=0):\n",
    "        return self.head.__str__()\n",
    "\n",
    "    def add(self, word):\n",
    "        print('add run')\n",
    "        current_node = self.head\n",
    "        #print(current_node)\n",
    "        word_finished = True\n",
    "        #print('current_node.children : ', current_node.children.values())\n",
    "        for i in range(len(word)):\n",
    "            if word[i] in current_node.children:\n",
    "                print('word[i] \"', word[i], '\" in children')\n",
    "                current_node = current_node.children[word[i]]\n",
    "                #print('current_node : ', current_node)\n",
    "            else:\n",
    "                print('word[i] \"', word[i], '\" not in children')\n",
    "                word_finished = False\n",
    "                break\n",
    "\n",
    "        if not word_finished:\n",
    "            while i < len(word):\n",
    "                current_node.add_child(word[i])\n",
    "                current_node.NodeCount += 1\n",
    "                current_node = current_node.children[word[i]]\n",
    "                i += 1\n",
    "\n",
    "        current_node.add_child(None)\n",
    "        current_node.NodeCount += 1\n",
    "        current_node = current_node.children[None]\n",
    "        current_node.data = word\n",
    "\n",
    "    def insert_word(self, word):\n",
    "        print(word.split())\n",
    "        for word in word.split():\n",
    "            \n",
    "            self.add(word)\n",
    "    \n",
    "if __name__ == '__main__':\n",
    "    trie = Trie()\n",
    "    trie.insert_word('stan stem standard money')\n",
    "\n",
    "    print(trie)\n"
   ]
  },
  {
   "cell_type": "code",
   "execution_count": 1,
   "id": "integrated-chassis",
   "metadata": {},
   "outputs": [],
   "source": [
    "class Node(object):\n",
    "    def __init__(self, key, data=None):\n",
    "        self.key = key\n",
    "        self.data = data\n",
    "        self.children = {}\n",
    "        \n",
    "class Trie(object):\n",
    "    def __init__(self):\n",
    "        self.head = Node(None)\n",
    "  # 문자열 삽입\n",
    "    def insert(self, string):\n",
    "        curr_node = self.head\n",
    "        # 삽입할 string 각각의 문자에 대해 자식 Node를 만들며 내려간다.\n",
    "        for char in string:\n",
    "            # 자식 Node들 중 같은 문자가 없으면 Node 새로 생성\n",
    "            if char not in curr_node.children:\n",
    "                curr_node.children[char] = Node(char)\n",
    "            # 같은 문자가 있으면 노드를 따로 생성하지 않고, 해당 노드로 이동\n",
    "            curr_node = curr_node.children[char]\n",
    "        #문자열이 끝난 지점의 노드의 data값에 해당 문자열을 입력\n",
    "        curr_node.data = string\n",
    "    # 문자열이 존재하는지 search\n",
    "    def search(self, string):\n",
    "        #가장 아래에 있는 노드에서 부터 탐색 시작\n",
    "        curr_node = self.head\n",
    "        for char in string:\n",
    "            if char in curr_node.children:\n",
    "                curr_node = curr_node.children[char]\n",
    "            else:\n",
    "                return False\n",
    "        #탐색이 끝난 후 해당 노드의 data값이 존재한다면\n",
    "        #문자가 포함되어있다는 뜻이다.\n",
    "        if curr_node.data != None:\n",
    "            return True        "
   ]
  },
  {
   "cell_type": "code",
   "execution_count": 18,
   "id": "knowing-singing",
   "metadata": {},
   "outputs": [],
   "source": [
    "class Node(object):\n",
    "    def __init__(self, key, data=None):\n",
    "        self.key = key\n",
    "        self.data = data\n",
    "        self.children = {}\n",
    "        \n",
    "# 1. key - 값으로 입력될 문자\n",
    "# 2. data - 문자열의 종료를 알리는 flag. (True, Flase로도 구현할 수 있지ㅏㅁㄴ, 돌아가는 일이 없게하기 위해 전체 문자열을 저장)\n",
    "# 3. children - 자식노드를 저장\n",
    "        \n",
    "class Trie:\n",
    "    def __init__(self):\n",
    "        self.head = Node(None)\n",
    "\n",
    "    def insert(self, string):\n",
    "        current_node = self.head\n",
    "\n",
    "        for char in string:\n",
    "            if char not in current_node.children:\n",
    "                current_node.children[char] = Node(char)\n",
    "            current_node = current_node.children[char]\n",
    "        current_node.data = string\n",
    "\n",
    "    def search(self, string):\n",
    "        current_node = self.head\n",
    "\n",
    "        for char in string:\n",
    "            if char in current_node.children:\n",
    "                current_node = current_node.children[char]\n",
    "            else:\n",
    "                return False\n",
    "\n",
    "        if current_node.data:\n",
    "            return True\n",
    "        else:\n",
    "            return False\n",
    "\n",
    "    def starts_with(self, prefix):\n",
    "        current_node = self.head\n",
    "        words = []\n",
    "\n",
    "        for p in prefix:\n",
    "            if p in current_node.children:\n",
    "                current_node = current_node.children[p]\n",
    "            else:\n",
    "                return None\n",
    "\n",
    "        current_node = [current_node]\n",
    "        next_node = []\n",
    "        while True:\n",
    "            for node in current_node:\n",
    "                if node.data:\n",
    "                    words.append(node.data)\n",
    "                next_node.extend(list(node.children.values()))\n",
    "            if len(next_node) != 0:\n",
    "                current_node = next_node\n",
    "                next_node = []\n",
    "            else:\n",
    "                break\n",
    "\n",
    "        return words"
   ]
  },
  {
   "cell_type": "code",
   "execution_count": 19,
   "id": "lyric-software",
   "metadata": {},
   "outputs": [],
   "source": [
    "trie = Trie()\n",
    "word_list = [\"frodo\", \"front\", \"firefox\", \"fire\"]\n",
    "for word in word_list:\n",
    "    trie.insert(word)"
   ]
  },
  {
   "cell_type": "code",
   "execution_count": 22,
   "id": "current-simon",
   "metadata": {},
   "outputs": [
    {
     "data": {
      "text/plain": [
       "['fire', 'firefox']"
      ]
     },
     "execution_count": 22,
     "metadata": {},
     "output_type": "execute_result"
    }
   ],
   "source": [
    "trie.starts_with(\"fire\")"
   ]
  },
  {
   "cell_type": "markdown",
   "id": "rubber-passing",
   "metadata": {},
   "source": [
    "# 백준 5052"
   ]
  },
  {
   "cell_type": "code",
   "execution_count": 32,
   "id": "welcome-terrace",
   "metadata": {},
   "outputs": [
    {
     "name": "stdout",
     "output_type": "stream",
     "text": [
      "2\n",
      "3\n",
      "911\n",
      "NO\n",
      "NO\n"
     ]
    }
   ],
   "source": [
    "import sys\n",
    "def solution(numbers):\n",
    "    numbers.sort() # numbers 정렬 시키면 사전순으로 정렬\n",
    "    for i in range(len(numbers) - 1): # 정렬되어있으므로 i 번째와 i +1번쨰만 비교해보면됌\n",
    "        if numbers[i] in numbers[i+1]:\n",
    "            return False\n",
    "        return True\n",
    "\n",
    "numbers = []\n",
    "t = int(input())\n",
    "answer = []\n",
    "for i in range(t):\n",
    "    n = int(input())\n",
    "    for _ in range(n):\n",
    "        numbers.append(sys.stdin.readline().strip())\n",
    "    answer.append(solution(numbers))\n",
    "    numbers.clear()\n",
    "    \n",
    "for yn in answer:\n",
    "    if yn == False:\n",
    "        print('NO')\n",
    "    else:\n",
    "        print('YES')"
   ]
  },
  {
   "cell_type": "code",
   "execution_count": 35,
   "id": "binary-aside",
   "metadata": {},
   "outputs": [
    {
     "name": "stdout",
     "output_type": "stream",
     "text": [
      "2\n",
      "2\n",
      "1\n",
      "NO\n",
      "YES\n"
     ]
    }
   ],
   "source": [
    "import sys\n",
    "def solution(numbers):\n",
    "    numbers.sort() #numbers 정렬시키면 사전순으로 정렬\n",
    "    for i in range(len(numbers)-1): #정렬되어있으므로 i번째와 i+1번째만 비교해보면됌\n",
    "        if numbers[i] in numbers[i+1]: \n",
    "            return False\n",
    "    return True\n",
    "\n",
    "numbers=[]\n",
    "t=int(input())\n",
    "answer=[]\n",
    "for i in range(t):\n",
    "    n=int(input())\n",
    "    for _ in range(n):\n",
    "        numbers.append(sys.stdin.readline().strip())\n",
    "    answer.append(solution(numbers))\n",
    "    numbers.clear()\n",
    "for yn in answer:\n",
    "    if yn == False:\n",
    "        print('NO')\n",
    "    else:\n",
    "        print('YES')"
   ]
  },
  {
   "cell_type": "code",
   "execution_count": null,
   "id": "atlantic-screening",
   "metadata": {},
   "outputs": [],
   "source": [
    "import sys\n",
    "input = sys.stdin.realine"
   ]
  },
  {
   "cell_type": "code",
   "execution_count": 36,
   "id": "unique-committee",
   "metadata": {},
   "outputs": [
    {
     "name": "stdout",
     "output_type": "stream",
     "text": [
      "2\n",
      "3\n",
      "911\n",
      "97625999\n",
      "91125426\n",
      "NO\n",
      "5\n",
      "113\n",
      "12340\n",
      "123440\n",
      "12345\n",
      "123\n",
      "NO\n"
     ]
    }
   ],
   "source": [
    "'''\n",
    "Problem Solving Baekjoon 5052_3\n",
    "Author: Injun Son\n",
    "Date: December 9, 2020\n",
    "'''\n",
    "import sys\n",
    "import math\n",
    "\n",
    "def solution(numbers):\n",
    "    numbers.sort()\n",
    "    for i in range(len(numbers) - 1): #정렬되어 있으므로 i번째는 i+1번째와만 비교해보면 된다\n",
    "        if numbers[i] in numbers[i+1][0:len(numbers[i])]:\n",
    "            print(\"NO\")\n",
    "            return False\n",
    "    print(\"YES\")\n",
    "    return True\n",
    "\n",
    "\n",
    "numbers = []\n",
    "t = int(input())\n",
    "\n",
    "for _ in range(t):\n",
    "    n = int(input())\n",
    "    for _ in range(n):\n",
    "        numbers.append(input())\n",
    "    solution(numbers)\n",
    "    numbers.clear()"
   ]
  },
  {
   "cell_type": "code",
   "execution_count": 39,
   "id": "chief-poker",
   "metadata": {},
   "outputs": [
    {
     "ename": "ValueError",
     "evalue": "invalid literal for int() with base 10: ''",
     "output_type": "error",
     "traceback": [
      "\u001b[1;31m---------------------------------------------------------------------------\u001b[0m",
      "\u001b[1;31mValueError\u001b[0m                                Traceback (most recent call last)",
      "\u001b[1;32m<ipython-input-39-6b521adb0ac5>\u001b[0m in \u001b[0;36m<module>\u001b[1;34m\u001b[0m\n\u001b[0;32m      1\u001b[0m \u001b[1;32mimport\u001b[0m \u001b[0msys\u001b[0m\u001b[1;33m\u001b[0m\u001b[1;33m\u001b[0m\u001b[0m\n\u001b[1;32m----> 2\u001b[1;33m \u001b[0ma\u001b[0m \u001b[1;33m=\u001b[0m \u001b[0mint\u001b[0m\u001b[1;33m(\u001b[0m\u001b[0msys\u001b[0m\u001b[1;33m.\u001b[0m\u001b[0mstdin\u001b[0m\u001b[1;33m.\u001b[0m\u001b[0mreadline\u001b[0m\u001b[1;33m(\u001b[0m\u001b[1;33m)\u001b[0m\u001b[1;33m)\u001b[0m\u001b[1;33m\u001b[0m\u001b[1;33m\u001b[0m\u001b[0m\n\u001b[0m",
      "\u001b[1;31mValueError\u001b[0m: invalid literal for int() with base 10: ''"
     ]
    }
   ],
   "source": [
    "import sys\n",
    "a = int(sys.stdin.readline())"
   ]
  },
  {
   "cell_type": "code",
   "execution_count": 41,
   "id": "foreign-hybrid",
   "metadata": {},
   "outputs": [
    {
     "ename": "ValueError",
     "evalue": "not enough values to unpack (expected 3, got 0)",
     "output_type": "error",
     "traceback": [
      "\u001b[1;31m---------------------------------------------------------------------------\u001b[0m",
      "\u001b[1;31mValueError\u001b[0m                                Traceback (most recent call last)",
      "\u001b[1;32m<ipython-input-41-98efd501c204>\u001b[0m in \u001b[0;36m<module>\u001b[1;34m\u001b[0m\n\u001b[0;32m      1\u001b[0m \u001b[1;32mimport\u001b[0m \u001b[0msys\u001b[0m\u001b[1;33m\u001b[0m\u001b[1;33m\u001b[0m\u001b[0m\n\u001b[1;32m----> 2\u001b[1;33m \u001b[0ma\u001b[0m\u001b[1;33m,\u001b[0m \u001b[0mb\u001b[0m\u001b[1;33m,\u001b[0m \u001b[0mc\u001b[0m \u001b[1;33m=\u001b[0m \u001b[0mmap\u001b[0m\u001b[1;33m(\u001b[0m\u001b[0mint\u001b[0m\u001b[1;33m,\u001b[0m \u001b[0msys\u001b[0m\u001b[1;33m.\u001b[0m\u001b[0mstdin\u001b[0m\u001b[1;33m.\u001b[0m\u001b[0mreadline\u001b[0m\u001b[1;33m(\u001b[0m\u001b[1;33m)\u001b[0m\u001b[1;33m.\u001b[0m\u001b[0msplit\u001b[0m\u001b[1;33m(\u001b[0m\u001b[1;33m)\u001b[0m\u001b[1;33m)\u001b[0m\u001b[1;33m\u001b[0m\u001b[1;33m\u001b[0m\u001b[0m\n\u001b[0m",
      "\u001b[1;31mValueError\u001b[0m: not enough values to unpack (expected 3, got 0)"
     ]
    }
   ],
   "source": [
    "import sys\n",
    "a, b, c = map(int, sys.stdin.readline().split())"
   ]
  },
  {
   "cell_type": "code",
   "execution_count": 42,
   "id": "outer-worst",
   "metadata": {},
   "outputs": [],
   "source": [
    "import sys\n",
    "data = list(map(int, sys.stdin.readline().split()))"
   ]
  },
  {
   "cell_type": "code",
   "execution_count": 46,
   "id": "stable-resident",
   "metadata": {},
   "outputs": [
    {
     "ename": "ValueError",
     "evalue": "invalid literal for int() with base 10: ''",
     "output_type": "error",
     "traceback": [
      "\u001b[1;31m---------------------------------------------------------------------------\u001b[0m",
      "\u001b[1;31mValueError\u001b[0m                                Traceback (most recent call last)",
      "\u001b[1;32m<ipython-input-46-6e7e5002aaf4>\u001b[0m in \u001b[0;36m<module>\u001b[1;34m\u001b[0m\n\u001b[0;32m      1\u001b[0m \u001b[1;32mimport\u001b[0m \u001b[0msys\u001b[0m\u001b[1;33m\u001b[0m\u001b[1;33m\u001b[0m\u001b[0m\n\u001b[0;32m      2\u001b[0m \u001b[1;33m\u001b[0m\u001b[0m\n\u001b[1;32m----> 3\u001b[1;33m \u001b[0mn\u001b[0m \u001b[1;33m=\u001b[0m \u001b[0mint\u001b[0m\u001b[1;33m(\u001b[0m\u001b[0msys\u001b[0m\u001b[1;33m.\u001b[0m\u001b[0mstdin\u001b[0m\u001b[1;33m.\u001b[0m\u001b[0mreadline\u001b[0m\u001b[1;33m(\u001b[0m\u001b[1;33m)\u001b[0m\u001b[1;33m)\u001b[0m\u001b[1;33m\u001b[0m\u001b[1;33m\u001b[0m\u001b[0m\n\u001b[0m\u001b[0;32m      4\u001b[0m \u001b[0mdata\u001b[0m \u001b[1;33m=\u001b[0m \u001b[1;33m[\u001b[0m\u001b[0msys\u001b[0m\u001b[1;33m.\u001b[0m\u001b[0mstdin\u001b[0m\u001b[1;33m.\u001b[0m\u001b[0mreadline\u001b[0m\u001b[1;33m(\u001b[0m\u001b[1;33m)\u001b[0m\u001b[1;33m.\u001b[0m\u001b[0mstrip\u001b[0m\u001b[1;33m(\u001b[0m\u001b[1;33m)\u001b[0m \u001b[1;32mfor\u001b[0m \u001b[0mi\u001b[0m \u001b[1;32min\u001b[0m \u001b[0mrange\u001b[0m\u001b[1;33m(\u001b[0m\u001b[0mn\u001b[0m\u001b[1;33m)\u001b[0m\u001b[1;33m]\u001b[0m\u001b[1;33m\u001b[0m\u001b[1;33m\u001b[0m\u001b[0m\n",
      "\u001b[1;31mValueError\u001b[0m: invalid literal for int() with base 10: ''"
     ]
    }
   ],
   "source": [
    "import sys\n",
    "\n",
    "n = int(sys.stdin.readline())\n",
    "data = [sys.stdin.readline().strip() for i in range(n)]"
   ]
  },
  {
   "cell_type": "code",
   "execution_count": 52,
   "id": "incredible-little",
   "metadata": {},
   "outputs": [
    {
     "name": "stdout",
     "output_type": "stream",
     "text": [
      "97625999 91125426 \\n\n"
     ]
    }
   ],
   "source": [
    "a = input()\n",
    "for line in sys.stdin.readline():\n",
    "    print(line)"
   ]
  },
  {
   "cell_type": "code",
   "execution_count": 63,
   "id": "simple-attention",
   "metadata": {},
   "outputs": [
    {
     "data": {
      "text/plain": [
       "['1', 'abcde1']"
      ]
     },
     "execution_count": 63,
     "metadata": {},
     "output_type": "execute_result"
    }
   ],
   "source": [
    "a = '1              abcde1 '\n",
    "a = a.strip().split()\n",
    "a"
   ]
  },
  {
   "cell_type": "code",
   "execution_count": 65,
   "id": "nasty-warrior",
   "metadata": {},
   "outputs": [
    {
     "name": "stdout",
     "output_type": "stream",
     "text": [
      "Input : \n"
     ]
    }
   ],
   "source": [
    "\n",
    "import sys\n",
    "\n",
    "a = sys.stdin.readline().strip()\n",
    "\n",
    "print(\"Input :\", a)"
   ]
  },
  {
   "cell_type": "code",
   "execution_count": 73,
   "id": "black-serial",
   "metadata": {},
   "outputs": [
    {
     "ename": "SyntaxError",
     "evalue": "invalid syntax (<ipython-input-73-ea1dd2d226d7>, line 5)",
     "output_type": "error",
     "traceback": [
      "\u001b[1;36m  File \u001b[1;32m\"<ipython-input-73-ea1dd2d226d7>\"\u001b[1;36m, line \u001b[1;32m5\u001b[0m\n\u001b[1;33m    12 3 45\u001b[0m\n\u001b[1;37m       ^\u001b[0m\n\u001b[1;31mSyntaxError\u001b[0m\u001b[1;31m:\u001b[0m invalid syntax\n"
     ]
    }
   ],
   "source": [
    "import sys\n",
    "\n",
    "for x in sys.stdin.readline():\n",
    "    print(x)\n"
   ]
  },
  {
   "cell_type": "code",
   "execution_count": 79,
   "id": "similar-angola",
   "metadata": {},
   "outputs": [
    {
     "name": "stdout",
     "output_type": "stream",
     "text": [
      "2\n",
      "3\n",
      "NO\n",
      "1\n",
      "YES\n"
     ]
    }
   ],
   "source": [
    "import sys \n",
    "def findPreffix(phoneBook): \n",
    "    for i in range(len(phoneBook)-1):\n",
    "        if phoneBook[i] == phoneBook[i+1][0:len(phoneBook[i])]:\n",
    "            return \"NO\" \n",
    "    return \"YES\"\n",
    "t = int(input())\n",
    "while t:\n",
    "    t-=1 \n",
    "    phoneBook = []\n",
    "    n = int(input())\n",
    "    for i in range(n):\n",
    "        phoneBook.append(sys.stdin.readline().strip())\n",
    "    phoneBook.sort()\n",
    "    print(findPreffix(phoneBook))\n",
    "\n"
   ]
  }
 ],
 "metadata": {
  "kernelspec": {
   "display_name": "Python 3",
   "language": "python",
   "name": "python3"
  },
  "language_info": {
   "codemirror_mode": {
    "name": "ipython",
    "version": 3
   },
   "file_extension": ".py",
   "mimetype": "text/x-python",
   "name": "python",
   "nbconvert_exporter": "python",
   "pygments_lexer": "ipython3",
   "version": "3.7.10"
  }
 },
 "nbformat": 4,
 "nbformat_minor": 5
}
