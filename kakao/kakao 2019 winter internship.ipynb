{
 "cells": [
  {
   "cell_type": "markdown",
   "id": "spread-costs",
   "metadata": {},
   "source": [
    "# 크레인 인형뽑기 게임"
   ]
  },
  {
   "cell_type": "code",
   "execution_count": 10,
   "id": "steady-sailing",
   "metadata": {},
   "outputs": [
    {
     "name": "stdout",
     "output_type": "stream",
     "text": [
      "1\n",
      "j, i :  0 1\n",
      "j, i :  1 1\n",
      "j, i :  2 1\n",
      "j, i :  3 1\n",
      "5\n",
      "j, i :  0 5\n",
      "j, i :  1 5\n",
      "3\n",
      "j, i :  0 3\n",
      "j, i :  1 3\n",
      "5\n",
      "j, i :  0 5\n",
      "j, i :  1 5\n",
      "j, i :  2 5\n",
      "1\n",
      "j, i :  0 1\n",
      "j, i :  1 1\n",
      "j, i :  2 1\n",
      "j, i :  3 1\n",
      "j, i :  4 1\n",
      "2\n",
      "j, i :  0 2\n",
      "j, i :  1 2\n",
      "j, i :  2 2\n",
      "1\n",
      "j, i :  0 1\n",
      "j, i :  1 1\n",
      "j, i :  2 1\n",
      "j, i :  3 1\n",
      "j, i :  4 1\n",
      "4\n",
      "j, i :  0 4\n",
      "j, i :  1 4\n",
      "j, i :  2 4\n",
      "j, i :  3 4\n"
     ]
    },
    {
     "data": {
      "text/plain": [
       "4"
      ]
     },
     "execution_count": 10,
     "metadata": {},
     "output_type": "execute_result"
    }
   ],
   "source": [
    "def solution(board, moves):\n",
    "    stack = []\n",
    "    cnt = 0\n",
    "    #for i in range(len(moves)):\n",
    "    for i in moves:\n",
    "        print(i)\n",
    "        for j in range(len(board)):\n",
    "            print('j, i : ', j, i)\n",
    "            if board[j][i-1] != 0:\n",
    "                target = board[j][i-1]\n",
    "                board[j][i-1] = 0\n",
    "                if len(stack) >0:\n",
    "                    if stack[-1] == target:\n",
    "                        stack.pop()\n",
    "                        cnt += 2\n",
    "                    else:\n",
    "                        stack.append(target)\n",
    "                else:\n",
    "                    stack.append(target)\n",
    "                break\n",
    "               \n",
    "    return cnt\n",
    "\n",
    "\n",
    "board= [[0,0,0,0,0],[0,0,1,0,3],[0,2,5,0,1],[4,2,4,4,2],[3,5,1,3,1]]\n",
    "moves = [1,5,3,5,1,2,1,4]\n",
    "solution(board, moves)"
   ]
  },
  {
   "cell_type": "markdown",
   "id": "rotary-wheat",
   "metadata": {},
   "source": [
    "# 튜플"
   ]
  },
  {
   "cell_type": "code",
   "execution_count": 41,
   "id": "concerned-going",
   "metadata": {},
   "outputs": [
    {
     "name": "stdout",
     "output_type": "stream",
     "text": [
      "['3', '2,3', '4,2,3', '2,3,4,1']\n",
      "3\n",
      "2,3\n",
      "4,2,3\n",
      "2,3,4,1\n"
     ]
    },
    {
     "data": {
      "text/plain": [
       "[3, 2, 4, 1]"
      ]
     },
     "execution_count": 41,
     "metadata": {},
     "output_type": "execute_result"
    }
   ],
   "source": [
    "# = \"{{4,2,3},{3},{2,3,4,1},{2,3}}\"\n",
    "\n",
    "def solution(s):\n",
    "    answer = []\n",
    "    s = s[2:-2]\n",
    "    s = s.split('},{')\n",
    "    s.sort(key = len)\n",
    "    #rint(s)\n",
    "    for i in s:\n",
    "        #rint(i)\n",
    "        ii = i.split(',')\n",
    "        for j in ii:\n",
    "            if int(j) not in answer:\n",
    "                answer.append(int(j))\n",
    "\n",
    "    return answer\n",
    "\n",
    "solution(s)"
   ]
  },
  {
   "cell_type": "markdown",
   "id": "enormous-values",
   "metadata": {},
   "source": [
    "# 불량 사용자"
   ]
  },
  {
   "cell_type": "code",
   "execution_count": 120,
   "id": "initial-palmer",
   "metadata": {},
   "outputs": [
    {
     "name": "stdout",
     "output_type": "stream",
     "text": [
      "[['frodo', 'fradi'], ['frodo', 'crodo'], ['abc123', 'frodoc'], ['abc123', 'frodoc']]\n"
     ]
    }
   ],
   "source": [
    "user_id = [\"frodo\", \"fradi\", \"crodo\", \"abc123\", \"frodoc\"]\n",
    "#banned_id = [\"fr*d*\", \"abc1**\"]\n",
    "\n",
    "banned_id = [\"fr*d*\", \"*rodo\", \"******\", \"******\"] # 3\n",
    "\n",
    "def check_case(user_id, banned_id):\n",
    "    len_id = len(user_id)\n",
    "    len_ban = len(banned_id)\n",
    "    case = [[] for _ in range(len_ban)]\n",
    "    for i in range(len(banned_id)):\n",
    "        for j in range(len_id):\n",
    "            if len(banned_id[i]) != len(user_id[j]):\n",
    "                pass\n",
    "            else:\n",
    "                vflag = 1\n",
    "                for k in range(len(banned_id[i])):\n",
    "                    if banned_id[i][k] != user_id[j][k]:\n",
    "                        if banned_id[i][k] == '*':\n",
    "                            pass\n",
    "                        else:\n",
    "                            vflag = 0\n",
    "                            break\n",
    "                if vflag:\n",
    "                    case[i].append(user_id[j])\n",
    "    return case\n",
    "\n",
    "\n",
    "\n",
    "def solution(user_id, banned_id):\n",
    "    case = check_case(user_id, banned_id)\n",
    "    \n",
    "    print(case)\n",
    "    \n",
    "    \n",
    "solution(user_id, banned_id)"
   ]
  },
  {
   "cell_type": "code",
   "execution_count": 180,
   "id": "similar-module",
   "metadata": {},
   "outputs": [
    {
     "name": "stdout",
     "output_type": "stream",
     "text": [
      "16\n",
      "0 0\n",
      "0 1\n",
      "1 0\n",
      "1 1\n",
      "2 0\n",
      "2 1\n",
      "3 0\n",
      "3 1\n"
     ]
    }
   ],
   "source": [
    "lst = [[0, 1],[2,3],[4,5],[6,7]]\n",
    "res = [0,0,0,0],[0,0,0,1],[0,0,1,0],[0,0,1,1],...,]\n",
    "sum = 1\n",
    "for i in range(len(lst)):\n",
    "    sum *= len(lst[i])\n",
    "print(sum)\n",
    "for i in range(len(lst)):\n",
    "    for j in range(len(lst[i])):\n",
    "        print(i, j)\n",
    "        \n",
    "\n",
    "for i in lst:\n",
    "    "
   ]
  },
  {
   "cell_type": "code",
   "execution_count": 178,
   "id": "bacterial-cheat",
   "metadata": {},
   "outputs": [
    {
     "data": {
      "text/plain": [
       "[{'abc123', 'crodo', 'fradi', 'frodo'}, {'crodo', 'fradi', 'frodo', 'frodoc'}]"
      ]
     },
     "execution_count": 178,
     "metadata": {},
     "output_type": "execute_result"
    }
   ],
   "source": [
    "from itertools import permutations\n",
    "\n",
    "\n",
    "def check(user_set, banned_id):\n",
    "    for i in range(len(banned_id)):\n",
    "        if len(user_set[i]) != len(banned_id[i]):\n",
    "            return False\n",
    "        \n",
    "        for j in range(len(banned_id[i])):\n",
    "            if banned_id[i][j]== '*':\n",
    "                continue\n",
    "                \n",
    "            if user_set[i][j] != banned_id[i][j]:\n",
    "                return False\n",
    "    return True\n",
    "\n",
    "def solution(user_id, banned_id):\n",
    "    answer = []\n",
    "    for per_set in permutations(user_id, len(banned_id)):\n",
    "        if check(per_set, banned_id):\n",
    "            \n",
    "            per_set = set(per_set)\n",
    "            if per_set not in answer:\n",
    "                answer.append(per_set)\n",
    "    \n",
    "    return len(answer)\n",
    "        \n",
    "solution(user_id, banned_id)"
   ]
  },
  {
   "cell_type": "markdown",
   "id": "maritime-bloom",
   "metadata": {},
   "source": [
    "# 징검다리 건너기"
   ]
  },
  {
   "cell_type": "code",
   "execution_count": 54,
   "id": "above-greensboro",
   "metadata": {},
   "outputs": [
    {
     "name": "stdout",
     "output_type": "stream",
     "text": [
      "3\n",
      "[2, 4, 5, 3, 2, 1, 4, 2, 5, 1]\n",
      "4\n",
      "[2, 4, 5, 3, 2, 1, 4, 2, 5, 1]\n"
     ]
    },
    {
     "data": {
      "text/plain": [
       "3"
      ]
     },
     "execution_count": 54,
     "metadata": {},
     "output_type": "execute_result"
    }
   ],
   "source": [
    "def calc(stones, k, mid):\n",
    "    now = 0\n",
    "    print(stones)\n",
    "    for stone in stones:\n",
    "        if stone<mid:\n",
    "            now += 1 # stone < mid 이면 전 사람 건널 때 0이 되어서 못 건너게 됨\n",
    "                    # 건너 뛰는 것 값을 +1 해줌\n",
    "        else:# 연속으로 나온게 아니면 다시 0으로 만들어 줌.\n",
    "            now = 0\n",
    "        if now >= k:\n",
    "            return False\n",
    "    return True\n",
    "\n",
    "def solution(stones, k):\n",
    "    left = 1\n",
    "    right = max(stones)+1\n",
    "    while(left < right - 1):\n",
    "        \n",
    "        mid = (left + right) // 2\n",
    "        print(mid)\n",
    "        if calc(stones, k, mid):\n",
    "            left = mid\n",
    "        else:\n",
    "            right = mid\n",
    "    return left\n",
    "\n",
    "stones = [2, 4, 5, 3, 2, 1, 4, 2, 5, 1]\n",
    "\n",
    "k = 3\n",
    "solution(stones, k)"
   ]
  },
  {
   "cell_type": "code",
   "execution_count": 5,
   "id": "ongoing-groove",
   "metadata": {},
   "outputs": [
    {
     "data": {
      "text/plain": [
       "3"
      ]
     },
     "execution_count": 5,
     "metadata": {},
     "output_type": "execute_result"
    }
   ],
   "source": [
    "import math\n",
    "def solution(stones, k):\n",
    "    left = 1\n",
    "    right = max(stones)\n",
    "    \n",
    "    while left <= right:\n",
    "        mid = (left + right) // 2\n",
    "        temp = stones.copy()\n",
    "        \n",
    "        for i in range(len(temp)):\n",
    "            temp[i] -= mid\n",
    "            \n",
    "        cnt = 0\n",
    "        vflag = False \n",
    "        \n",
    "        for i in range(len(temp)):\n",
    "            if temp[i] <= 0:\n",
    "                cnt += 1\n",
    "            else:\n",
    "                cnt = 0\n",
    "            if cnt >= k:\n",
    "                vflag = True\n",
    "                break\n",
    "       \n",
    "            \n",
    "        if vflag:\n",
    "            right = mid -1\n",
    "        else:\n",
    "            left = mid + 1\n",
    "        \n",
    "    return left\n",
    "\n",
    "stones = [2, 4, 5, 3, 2, 1, 4, 2, 5, 1]\n",
    "\n",
    "k = 3\n",
    "solution(stones, k)"
   ]
  },
  {
   "cell_type": "markdown",
   "id": "prostate-picnic",
   "metadata": {},
   "source": [
    "# 호텔 방 배정"
   ]
  },
  {
   "cell_type": "code",
   "execution_count": 24,
   "id": "adequate-glance",
   "metadata": {},
   "outputs": [
    {
     "data": {
      "text/plain": [
       "[1, 3, 4, 2, 5, 6]"
      ]
     },
     "execution_count": 24,
     "metadata": {},
     "output_type": "execute_result"
    }
   ],
   "source": [
    "def solution(k, room_number):\n",
    "    visited = [False] * (len(room_number)+1)\n",
    "    answer = []\n",
    "    start = 1\n",
    "    for i in range(len(room_number)):\n",
    "        cur_num = room_number[i]\n",
    "        if cur_num not in answer:\n",
    "            answer.append(cur_num)\n",
    "        else:\n",
    "            j = cur_num\n",
    "            while j in answer:\n",
    "                j += 1\n",
    "            \n",
    "            answer.append(j)\n",
    "    \n",
    "    return answer\n",
    "\n",
    "k = 10\n",
    "room_number = [1, 3, 4, 1, 3, 1]\n",
    "solution(k, room_number)"
   ]
  },
  {
   "cell_type": "code",
   "execution_count": null,
   "id": "formed-czech",
   "metadata": {},
   "outputs": [],
   "source": [
    "def solution(k, room_number):\n",
    "    visited = [False] * (len(room_number)+1)\n",
    "    answer = []\n",
    "    start = 1\n",
    "\n",
    "    for i in range(len(room_number)):\n",
    "        cur_num = room_number[i]\n",
    "        if cur_num not in answer:\n",
    "            answer.append(cur_num)\n",
    "            \n",
    "        else:\n",
    "            j = cur_num\n",
    "            while j in answer:\n",
    "                j += 1\n",
    "            \n",
    "            answer.append(j)\n",
    "    \n",
    "    return answer\n",
    "\n",
    "k = 10\n",
    "room_number = [1, 3, 4, 1, 3, 1]\n",
    "solution(k, room_number)"
   ]
  },
  {
   "cell_type": "code",
   "execution_count": 40,
   "id": "described-runner",
   "metadata": {},
   "outputs": [
    {
     "name": "stdout",
     "output_type": "stream",
     "text": [
      "0\n",
      "room :  {1: 3, 3: 4, 4: 5, 2: 3}\n",
      "[3, 5]\n",
      "0\n",
      "room :  {1: 3, 3: 6, 4: 5, 2: 3, 5: 6}\n",
      "room :  {1: 3, 3: 6, 4: 5, 2: 3, 5: 6}\n",
      "[1, 6]\n",
      "0\n",
      "room :  {1: 7, 3: 6, 4: 5, 2: 3, 5: 6, 6: 7}\n",
      "room :  {1: 7, 3: 6, 4: 5, 2: 3, 5: 6, 6: 7}\n",
      "0.0009760856628417969\n"
     ]
    }
   ],
   "source": [
    "import time\n",
    "#Lv4 2019 겨울 인턴십\n",
    "#호텔 방 배정\n",
    " \n",
    "def solution(k, room_number):\n",
    "    answer = []\n",
    "    #체크용 딕셔너리\n",
    "    room = {}\n",
    "    #손님을 받으며 체크하자\n",
    "    for num in room_number:\n",
    "        #딕셔너리에 확인 0이라면 배정이 안됬고, 다른값이 있다면 이미 배정되었다.\n",
    "        number = room.get(num, 0)\n",
    "        if number :\n",
    "            #임시변수에 방번호를 넣어준다,\n",
    "            temp = [num]\n",
    "            #반복문을 돌면서 빈방이 나올때까지 체크\n",
    "            while True:\n",
    "                index = number\n",
    "                #이동했던 위치를 이용하여 다시 이동\n",
    "                number = room.get(number, 0)\n",
    "                #방이 비어있다면 방을 할당\n",
    "                if not number:\n",
    "                    print(number)\n",
    "                    #정답에 추가해주고\n",
    "                    answer.append(index)\n",
    "                    #딕셔너리에 값을 등록하고\n",
    "                    room[index] = index + 1\n",
    "                    #이전에 거쳤던 방들도 바꿔준다.\n",
    "                    for i in temp:\n",
    "                        room[i] = index + 1\n",
    "                        print('room : ', room)\n",
    "                    break\n",
    "                temp.append(number)\n",
    "                print(temp)\n",
    "        #배정이 안되어있다면 결과추가하고 방배정 되었다고 딕셔너리에 표시\n",
    "        else:\n",
    "            answer.append(num)\n",
    "            room[num] = num + 1\n",
    "    return answer\n",
    "\n",
    "k = 10\n",
    "room_number = [1, 3, 4, 1, 3, 1]\n",
    "start_time = time.time()\n",
    "solution(k, room_number)\n",
    "print(time.time()-start_time)"
   ]
  },
  {
   "cell_type": "code",
   "execution_count": 41,
   "id": "hollow-citizenship",
   "metadata": {},
   "outputs": [
    {
     "name": "stdout",
     "output_type": "stream",
     "text": [
      "{1: 2}\n",
      "{1: 2, 3: 4}\n",
      "{1: 2, 3: 4, 4: 5}\n",
      "{1: 2, 3: 4, 4: 5, 2: 3}\n",
      "{1: 2, 3: 4, 4: 5, 2: 3, 5: 6}\n",
      "{1: 2, 3: 5, 4: 5, 2: 3, 5: 6, 6: 7}\n",
      "0.0009768009185791016\n"
     ]
    }
   ],
   "source": [
    "import sys\n",
    "sys.setrecursionlimit(10 ** 7)\n",
    "#input = sys.stdin.readline\n",
    " \n",
    "\n",
    "def find(room, reservedRooms):\n",
    "    if room not in reservedRooms:\n",
    "        reservedRooms[room] = room + 1\n",
    "        print(reservedRooms)\n",
    "        return room\n",
    "    \n",
    "    reservedRooms[room] = find(reservedRooms[room], reservedRooms)\n",
    "    return reservedRooms[room]\n",
    " \n",
    " \n",
    "def solution(k, room_number):\n",
    "    answer = []\n",
    "    reservedRooms = dict()\n",
    "    \n",
    "    for room in room_number:\n",
    "        remainedRoom = find(room, reservedRooms)\n",
    "        #print(reservedRooms)\n",
    "        answer.append(remainedRoom)\n",
    "        \n",
    "    return answer\n",
    "\n",
    "k = 10\n",
    "room_number = [1, 3, 4, 1, 3, 1]\n",
    "start_time = time.time()\n",
    "solution(k, room_number)\n",
    "print(time.time()-start_time)"
   ]
  },
  {
   "cell_type": "code",
   "execution_count": 99,
   "id": "virgin-exploration",
   "metadata": {},
   "outputs": [
    {
     "name": "stdout",
     "output_type": "stream",
     "text": [
      "0.0\n"
     ]
    }
   ],
   "source": [
    "\n",
    "def calc(check, room):\n",
    "    if check in room:\n",
    "        \n",
    "        room[check] = check + 1\n",
    "        \n",
    "        return check\n",
    "    \n",
    "    return calc(check, room)\n",
    "\n",
    "\n",
    "def solution(k, room_number):\n",
    "    answer = []\n",
    "    room = {}\n",
    "    for i in room_number:\n",
    "        if i not in room:\n",
    "            answer.append(i)\n",
    "            room[i] = i + 1\n",
    "        else:\n",
    "            # 중복된 숫자 i가 다음걸 가르키도록 해야 함\n",
    "            temp = [i]\n",
    "            idx = i\n",
    "            \n",
    "            while True:\n",
    "\n",
    "                if idx in room:\n",
    "                    idx = room[idx]\n",
    "                    temp.append(idx) # 중복해서 있는 경우 넣어 줌\n",
    "                else:\n",
    "                    break\n",
    "                        \n",
    "            #print('dict1: ', room)\n",
    "            #print('temp : ', temp)\n",
    "            for k in temp:\n",
    "                room[k] = idx + 1\n",
    "            #print('dict2: ', room)\n",
    "            room[idx] = idx+1\n",
    "            answer.append(idx)\n",
    "            \n",
    "    return answer\n",
    "    \n",
    "\n",
    "k = 10\n",
    "room_number = [1, 3, 4, 1, 3, 1]\n",
    "\n",
    "start_time = time.time()\n",
    "solution(k, room_number)\n",
    "print(time.time()-start_time)"
   ]
  },
  {
   "cell_type": "code",
   "execution_count": 93,
   "id": "shaped-bangladesh",
   "metadata": {},
   "outputs": [
    {
     "name": "stdout",
     "output_type": "stream",
     "text": [
      "[1, 3, 4, 2, 5, 6]\n",
      "0.0009765625\n"
     ]
    }
   ],
   "source": [
    "import sys\n",
    "sys.setrecursionlimit(10 ** 7)\n",
    "#input = sys.stdin.readline\n",
    " \n",
    "\n",
    "def find(room, reservedRooms):\n",
    "    if room not in reservedRooms:\n",
    "        reservedRooms[room] = room + 1\n",
    "        return room\n",
    "    \n",
    "    reservedRooms[room] = find(reservedRooms[room], reservedRooms)\n",
    "    return reservedRooms[room]\n",
    " \n",
    " \n",
    "def solution(k, room_number):\n",
    "    answer = []\n",
    "    reservedRooms = dict()\n",
    "    \n",
    "    for room in room_number:\n",
    "        remainedRoom = find(room, reservedRooms)\n",
    "        #print(reservedRooms)\n",
    "        answer.append(remainedRoom)\n",
    "        \n",
    "    return answer\n",
    "\n",
    "k = 10\n",
    "room_number = [1, 3, 4, 1, 3, 1]\n",
    "start_time = time.time()\n",
    "print(solution(k, room_number))\n",
    "\n",
    "print(time.time()-start_time)"
   ]
  },
  {
   "cell_type": "code",
   "execution_count": null,
   "id": "amber-appointment",
   "metadata": {},
   "outputs": [],
   "source": [
    "def find(room, reservedRooms):\n",
    "    if room not in reservedRooms:\n",
    "        reservedRooms[room] = room + 1\n",
    "        return room\n",
    "    reservedRooms[room] = find(reservedRooms[room], reservedRooms)\n",
    "    return reservedRooms[room]\n"
   ]
  }
 ],
 "metadata": {
  "kernelspec": {
   "display_name": "Python 3",
   "language": "python",
   "name": "python3"
  },
  "language_info": {
   "codemirror_mode": {
    "name": "ipython",
    "version": 3
   },
   "file_extension": ".py",
   "mimetype": "text/x-python",
   "name": "python",
   "nbconvert_exporter": "python",
   "pygments_lexer": "ipython3",
   "version": "3.7.10"
  }
 },
 "nbformat": 4,
 "nbformat_minor": 5
}
