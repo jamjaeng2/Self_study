{
 "cells": [
  {
   "cell_type": "markdown",
   "metadata": {},
   "source": [
    "# BFS 구현하기 (큐) \n",
    "BFS 구현에는 흔히 큐를 사용. 노드를 큐에 넣고, 하나씩 꺼내면서인접한 노드들을 탐색하기 때문 <br>\n",
    "1. 탐색을 위한 큐, 방문한 노드를 체크해 둘 리스트 생성<br>\n",
    "2. 탐색을 시작할 노드를 큐에 넣기(탐색 시작 노드의 방문 표시 해두기<br>\n",
    "3. 큐가 빌 때까지 반복문 수행<br>\n",
    "    1. 큐의 앞에서부터 노드를 하나씩 꺼내기<br>\n",
    "    2. 꺼낸 노드에 인접한 노드들을 방문하는 반복문 수행<br>\n",
    "        1. 방문한 노드가 이전에 방문한 적이 없다면 큐에 넣기<br>\n",
    "        2. 방문한 노드는 체크해두기\n"
   ]
  },
  {
   "cell_type": "markdown",
   "metadata": {},
   "source": [
    "(1) 먼저, 탐색을 위한 큐, 방문한 노드를 체크해 둘 리스트, 네트워크의 개수를 저장할 변수를 생성합니다. <br>\n",
    "\n",
    "(2) 탐색을 시작할 첫 노드를 큐에 넣습니다. 큐에 들어가는 값은 인덱스로, 이 문제에서는 computers 리스트의 첫번째 인덱스를 큐에 넣는 것으로 시작합니다. 그리고 첫 노드를 방문했음을 표시합니다.<br>\n",
    "\n",
    "(3) 큐가 빌 때까지 반복문을 아래 내용을 반복으로 수행합니다.<br>\n",
    "\n",
    "(3-1) 큐의 앞에서부터 노드를 하나씩 꺼냅니다.<br>\n",
    "\n",
    "(3-2) 꺼낸 노드의 인접 노드들을 방문하는 반복문을 수행합니다.<br>\n",
    "\n",
    "(3-2-1) 인접 노드가 방문된 적이 없다면 큐에 넣고, 방문했음을 표시합니다.<br>"
   ]
  },
  {
   "cell_type": "code",
   "execution_count": 26,
   "metadata": {},
   "outputs": [
    {
     "name": "stdout",
     "output_type": "stream",
     "text": [
      "[1, 1, 0]\n"
     ]
    }
   ],
   "source": [
    "# 네트워크\n",
    "\n",
    "def solution(n, computers):\n",
    "    # 1\n",
    "    answer = 0\t\t\t# 네트워크의 개수를 저장할 변수\n",
    "    bfs = []\t\t\t# 탐색을 위한 큐\n",
    "    visited = [0]*n\t\t# 방문한 노드를 체크해 둘 리스트\n",
    "    \n",
    "    #2\n",
    "    bfs.append(0)\t\t# 큐에 첫 노드(인덱스) 추가\n",
    "    visited[0] = 1\t\t# 첫 노드 방문 표시\n",
    "    \n",
    "    #3\n",
    "    while bfs:\t\t\t# 큐가 값이 존재하면 반복문 수행\n",
    "        \n",
    "        # 3-1\n",
    "        node = bfs.pop(0)\t# 큐의 앞에서부터 노드(인덱스) 꺼내기\n",
    "        \n",
    "        # 3-2\n",
    "        for i in range(n):\t# 꺼낸 노드의 인접 노드를 방문하기 위한 반복문 수행\n",
    "            # 3-2-1\n",
    "            if visited[i] ==0 and computers[node][i] == 1:\t# 인접 노드이고, 방문된 적이 없는 경우 \n",
    "                bfs.append(i)\t# 큐에 추가\n",
    "                visited[i] = 1\t# 방문했음을 표시\n",
    "    print(visited)\n",
    "n = 3\n",
    "computers = [[1,1,0], [1,1,0], [0,0,1]]\n",
    "solution(n, computers)"
   ]
  },
  {
   "cell_type": "markdown",
   "metadata": {},
   "source": [
    "while 반복문을 추가하여 탐색 시작 노드를 추가하는 부분인 bfs.append(0) 때문에 같은 노드를 반복하여 탐색."
   ]
  },
  {
   "cell_type": "code",
   "execution_count": 25,
   "metadata": {},
   "outputs": [
    {
     "ename": "KeyboardInterrupt",
     "evalue": "",
     "output_type": "error",
     "traceback": [
      "\u001b[1;31m---------------------------------------------------------------------------\u001b[0m",
      "\u001b[1;31mKeyboardInterrupt\u001b[0m                         Traceback (most recent call last)",
      "\u001b[1;32m<ipython-input-25-48c619dac075>\u001b[0m in \u001b[0;36m<module>\u001b[1;34m\u001b[0m\n\u001b[0;32m     20\u001b[0m \u001b[0mn\u001b[0m \u001b[1;33m=\u001b[0m \u001b[1;36m3\u001b[0m\u001b[1;33m\u001b[0m\u001b[1;33m\u001b[0m\u001b[0m\n\u001b[0;32m     21\u001b[0m \u001b[0mcomputers\u001b[0m \u001b[1;33m=\u001b[0m \u001b[1;33m[\u001b[0m\u001b[1;33m[\u001b[0m\u001b[1;36m1\u001b[0m\u001b[1;33m,\u001b[0m\u001b[1;36m1\u001b[0m\u001b[1;33m,\u001b[0m\u001b[1;36m0\u001b[0m\u001b[1;33m]\u001b[0m\u001b[1;33m,\u001b[0m \u001b[1;33m[\u001b[0m\u001b[1;36m1\u001b[0m\u001b[1;33m,\u001b[0m\u001b[1;36m1\u001b[0m\u001b[1;33m,\u001b[0m\u001b[1;36m0\u001b[0m\u001b[1;33m]\u001b[0m\u001b[1;33m,\u001b[0m \u001b[1;33m[\u001b[0m\u001b[1;36m0\u001b[0m\u001b[1;33m,\u001b[0m\u001b[1;36m0\u001b[0m\u001b[1;33m,\u001b[0m\u001b[1;36m1\u001b[0m\u001b[1;33m]\u001b[0m\u001b[1;33m]\u001b[0m\u001b[1;33m\u001b[0m\u001b[1;33m\u001b[0m\u001b[0m\n\u001b[1;32m---> 22\u001b[1;33m \u001b[0msolution\u001b[0m\u001b[1;33m(\u001b[0m\u001b[0mn\u001b[0m\u001b[1;33m,\u001b[0m \u001b[0mcomputers\u001b[0m\u001b[1;33m)\u001b[0m\u001b[1;33m\u001b[0m\u001b[1;33m\u001b[0m\u001b[0m\n\u001b[0m",
      "\u001b[1;32m<ipython-input-25-48c619dac075>\u001b[0m in \u001b[0;36msolution\u001b[1;34m(n, computers)\u001b[0m\n\u001b[0;32m     13\u001b[0m                 \u001b[1;32mif\u001b[0m \u001b[0mvisited\u001b[0m\u001b[1;33m[\u001b[0m\u001b[0mi\u001b[0m\u001b[1;33m]\u001b[0m \u001b[1;33m==\u001b[0m \u001b[1;36m0\u001b[0m \u001b[1;32mand\u001b[0m \u001b[0mcomputers\u001b[0m\u001b[1;33m[\u001b[0m\u001b[0mnode\u001b[0m\u001b[1;33m]\u001b[0m\u001b[1;33m[\u001b[0m\u001b[0mi\u001b[0m\u001b[1;33m]\u001b[0m \u001b[1;33m==\u001b[0m \u001b[1;36m1\u001b[0m\u001b[1;33m:\u001b[0m\u001b[1;33m\u001b[0m\u001b[1;33m\u001b[0m\u001b[0m\n\u001b[0;32m     14\u001b[0m                     \u001b[0mbfs\u001b[0m\u001b[1;33m.\u001b[0m\u001b[0mappend\u001b[0m\u001b[1;33m(\u001b[0m\u001b[0mi\u001b[0m\u001b[1;33m)\u001b[0m\u001b[1;33m\u001b[0m\u001b[1;33m\u001b[0m\u001b[0m\n\u001b[1;32m---> 15\u001b[1;33m                     \u001b[0mvisited\u001b[0m\u001b[1;33m[\u001b[0m\u001b[0mi\u001b[0m\u001b[1;33m]\u001b[0m \u001b[1;33m=\u001b[0m \u001b[1;36m1\u001b[0m\u001b[1;33m\u001b[0m\u001b[1;33m\u001b[0m\u001b[0m\n\u001b[0m\u001b[0;32m     16\u001b[0m         \u001b[0manswer\u001b[0m \u001b[1;33m+=\u001b[0m \u001b[1;36m1\u001b[0m             \u001b[1;31m# 한 네트워크의 탐색을 마치면 개수 추가\u001b[0m\u001b[1;33m\u001b[0m\u001b[1;33m\u001b[0m\u001b[0m\n\u001b[0;32m     17\u001b[0m     \u001b[0mprint\u001b[0m\u001b[1;33m(\u001b[0m\u001b[0mvisited\u001b[0m\u001b[1;33m)\u001b[0m\u001b[1;33m\u001b[0m\u001b[1;33m\u001b[0m\u001b[0m\n",
      "\u001b[1;31mKeyboardInterrupt\u001b[0m: "
     ]
    }
   ],
   "source": [
    "def solution(n, computers):\n",
    "    answer = 0\n",
    "    bfs = []\n",
    "    visited = [0]*n              \n",
    "                \n",
    "    while 0 in visited:\t# visited 리스트의 모든 값에 방문 표시가 되어있을 때까지 반복\n",
    "        bfs.append(0)\n",
    "        visited[0] = 1\n",
    "        \n",
    "        while bfs:\n",
    "            node = bfs.pop(0)\n",
    "            for i in range(n):\n",
    "                if visited[i] == 0 and computers[node][i] == 1:\n",
    "                    bfs.append(i)\n",
    "                    visited[i] = 1\n",
    "        answer += 1\t\t# 한 네트워크의 탐색을 마치면 개수 추가 \n",
    "    print(visited)\n",
    "    return answer\n",
    "\n",
    "n = 3\n",
    "computers = [[1,1,0], [1,1,0], [0,0,1]]\n",
    "solution(n, computers)\n"
   ]
  },
  {
   "cell_type": "markdown",
   "metadata": {},
   "source": [
    "탐색을 위해 큐에 노드를 추가하는 것으로, 직접 인덱스를 넣는 것이 아니라 방문하지 않은 노드를 추가하는것으로 수정. <br>\n",
    "방문하지 않은 노드를 visited.index(0)로 찾아내어 사용\n"
   ]
  },
  {
   "cell_type": "code",
   "execution_count": 14,
   "metadata": {},
   "outputs": [
    {
     "name": "stdout",
     "output_type": "stream",
     "text": [
      "[0]\n",
      "[2]\n"
     ]
    },
    {
     "data": {
      "text/plain": [
       "2"
      ]
     },
     "execution_count": 14,
     "metadata": {},
     "output_type": "execute_result"
    }
   ],
   "source": [
    "def solution(n, computers):\n",
    "    answer = 0\n",
    "    bfs = []\n",
    "    visited = [0]*n\n",
    "\n",
    "    while 0 in visited:\n",
    "        #print(visited)\n",
    "        x = visited.index(0)\n",
    "        bfs.append(x)\n",
    "        visited[x] = 1\n",
    "        print(bfs)\n",
    "        while bfs:\n",
    "            node = bfs.pop(0)\n",
    "            visited[node] = 1\n",
    "            for i in range(n):\n",
    "                if visited[i] == 0 and computers[node][i] == 1:\n",
    "                    bfs.append(i)\n",
    "                    visited[i] = 1\n",
    "        answer += 1\n",
    "    \n",
    "    return answer\n",
    "\n",
    "n = 3\n",
    "computers = [[1,1,0], [1,1,0], [0,0,1]]\n",
    "solution(n, computers)"
   ]
  },
  {
   "cell_type": "code",
   "execution_count": null,
   "metadata": {},
   "outputs": [],
   "source": []
  },
  {
   "cell_type": "code",
   "execution_count": 24,
   "metadata": {},
   "outputs": [
    {
     "data": {
      "text/plain": [
       "2"
      ]
     },
     "execution_count": 24,
     "metadata": {},
     "output_type": "execute_result"
    }
   ],
   "source": [
    "def solution(n, computers):\n",
    "    answer = 0\n",
    "    bfs = []\n",
    "    visited = [0] * n\n",
    "    \n",
    "    while 0 in visited:\n",
    "        x = visited.index(0)\n",
    "        bfs.append(x)\n",
    "        visited[x] = 1\n",
    "        \n",
    "        while bfs:\n",
    "            node = bfs.pop(0)\n",
    "            visited[node] = 1\n",
    "            for i in range(n):\n",
    "                if visited[i]==0 and computers[node][i] == 1:\n",
    "                    bfs.append(i)\n",
    "                    visited[i] = 1\n",
    "        answer += 1\n",
    "        \n",
    "    #answer = 0\n",
    "    return answer\n",
    "\n",
    "\n",
    "n = 3\n",
    "computers = [[1,1,0], [1,1,0], [0,0,1]]\n",
    "solution(n, computers)"
   ]
  },
  {
   "cell_type": "code",
   "execution_count": 16,
   "metadata": {},
   "outputs": [
    {
     "name": "stdout",
     "output_type": "stream",
     "text": [
      "[0, 0, 0]\n",
      "[0]\n",
      "[1, 1, 0]\n"
     ]
    }
   ],
   "source": [
    "# 네트워크\n",
    "\n",
    "def solution(n, computers):\n",
    "    # 1\n",
    "    answer = 0\t\t\t# 네트워크의 개수를 저장할 변수\n",
    "    bfs = []\t\t\t# 탐색을 위한 큐\n",
    "    visited = [0]*n\t\t# 방문한 노드를 체크해 둘 리스트\n",
    "    print(visited)\n",
    "    #2\n",
    "    bfs.append(0)\t\t# 큐에 첫 노드(인덱스) 추가\n",
    "    visited[0] = 1\t\t# 첫 노드 방문 표시\n",
    "    print(bfs)\n",
    "    #3\n",
    "    while bfs:\t\t\t# 큐가 값이 존재하면 반복문 수행\n",
    "        \n",
    "        # 3-1\n",
    "        node = bfs.pop(0)\t# 큐의 앞에서부터 노드(인덱스) 꺼내기\n",
    "        \n",
    "        # 3-2\n",
    "        for i in range(n):\t# 꺼낸 노드의 인접 노드를 방문하기 위한 반복문 수행\n",
    "            # 3-2-1\n",
    "            if visited[i] ==0 and computers[node][i] == 1:\t# 인접 노드이고, 방문된 적이 없는 경우 \n",
    "                bfs.append(i)\t# 큐에 추가\n",
    "                visited[i] = 1\t# 방문했음을 표시\n",
    "    print(visited)\n",
    "n = 3\n",
    "computers = [[1,1,0], [1,1,0], [0,0,1]]\n",
    "solution(n, computers)"
   ]
  },
  {
   "cell_type": "code",
   "execution_count": 15,
   "metadata": {},
   "outputs": [
    {
     "data": {
      "text/plain": [
       "2"
      ]
     },
     "execution_count": 15,
     "metadata": {},
     "output_type": "execute_result"
    }
   ],
   "source": [
    "visited = [1,1,0]\n",
    "x = visited.index(0)\n",
    "x"
   ]
  },
  {
   "cell_type": "code",
   "execution_count": 30,
   "metadata": {},
   "outputs": [
    {
     "data": {
      "text/plain": [
       "1"
      ]
     },
     "execution_count": 30,
     "metadata": {},
     "output_type": "execute_result"
    }
   ],
   "source": [
    "def solution(n, computers):\n",
    "    answer = 0\n",
    "    bfs = []\n",
    "    visited = [0] * n\n",
    "    while 0 in visited:\n",
    "        \n",
    "        x = visited.index(0)\n",
    "        bfs.append(x)\n",
    "        visited[x] = 1\n",
    "        \n",
    "        while bfs:\n",
    "            node = bfs.pop(0)\n",
    "            #visited[node] = 1\n",
    "            \n",
    "            for i in range(n):\n",
    "                if visited[i] == 0 and computers[node][i] == 1:\n",
    "                    bfs.append(i)\n",
    "                    visited[i] = 1\n",
    "        \n",
    "        \n",
    "        answer += 1\n",
    "        \n",
    "    return answer\n",
    "\n",
    "n = 3\n",
    "#computers = [[1,1,0], [1,1,0], [0,0,1]]\n",
    "computers = [[1, 1, 0], [1, 1, 1], [0, 1, 1]]\n",
    "solution(n, computers)\n"
   ]
  },
  {
   "cell_type": "code",
   "execution_count": null,
   "metadata": {},
   "outputs": [],
   "source": [
    "def dfs(graph, start_node):\n",
    "    visited, need_visit = list(), list()\n",
    "    need_visit.append(start_node)\n",
    "    \n",
    "    while need_visit:\n",
    "        node = need_visit.pop()\n",
    "        if node not in visited:\n",
    "            visited.append(node)\n",
    "            need_visit.expend(graph[node])\n",
    "            \n",
    "            \n",
    "        return visited\n",
    "    \n",
    "    \n"
   ]
  },
  {
   "cell_type": "code",
   "execution_count": 31,
   "metadata": {},
   "outputs": [
    {
     "data": {
      "text/plain": [
       "[123]"
      ]
     },
     "execution_count": 31,
     "metadata": {},
     "output_type": "execute_result"
    }
   ],
   "source": [
    "a = 123\n",
    "stack = [a]\n",
    "stack"
   ]
  },
  {
   "cell_type": "code",
   "execution_count": 55,
   "metadata": {},
   "outputs": [
    {
     "name": "stdout",
     "output_type": "stream",
     "text": [
      "x : hot\n",
      "target :  cog\n",
      "x : dot\n",
      "target :  cog\n",
      "x : lot\n",
      "target :  cog\n",
      "x : hot\n",
      "target :  cog\n",
      "x : dot\n",
      "target :  cog\n",
      "x : log\n",
      "target :  cog\n",
      "x : dog\n",
      "target :  cog\n",
      "x : lot\n",
      "target :  cog\n",
      "x : cog\n",
      "target :  cog\n"
     ]
    },
    {
     "data": {
      "text/plain": [
       "4"
      ]
     },
     "execution_count": 55,
     "metadata": {},
     "output_type": "execute_result"
    }
   ],
   "source": [
    "def solution(begin, target, words):\n",
    "    if target not in words:\n",
    "        return 0\n",
    "    \n",
    "    answer = 1\n",
    "    stack = [begin]\n",
    "   # print(stack)\n",
    "    \n",
    "    \n",
    "    while True:\n",
    "        used = []\n",
    "        cur_word = stack.pop()\n",
    " #      print('cur_word : ', cur_word)\n",
    "        for i in range(len(words)):\n",
    "            count = 0\n",
    "            for j in range(len(begin)):\n",
    "                if cur_word[j] != words[i][j]:\n",
    "                    count += 1\n",
    "\n",
    "            if count == 1:\n",
    "                x = words[i]\n",
    "                print('x :', x)\n",
    "                print('target : ', target)\n",
    "                if x == target:\n",
    "                    return answer\n",
    "                stack.append(x)\n",
    "            \n",
    "                \n",
    "                #print(stack)\n",
    "        #stack.append(used)\n",
    "#       print(stack)\n",
    "\n",
    "        answer += 1\n",
    "    \n",
    "    return answer\n",
    "begin = 'hit'\n",
    "target = 'cog'\n",
    "words = ['hot', 'dot', 'dog', 'lot', 'log', 'cog']\n",
    "solution(begin, target, words)\n",
    "   "
   ]
  },
  {
   "cell_type": "code",
   "execution_count": 48,
   "metadata": {},
   "outputs": [
    {
     "name": "stdout",
     "output_type": "stream",
     "text": [
      "cog\n"
     ]
    }
   ],
   "source": [
    "begin = 'hit'\n",
    "target = 'cog'\n",
    "words = ['hot', 'dot', 'dog', 'lot', 'log', 'cog']\n",
    "print(target)"
   ]
  },
  {
   "cell_type": "code",
   "execution_count": null,
   "metadata": {},
   "outputs": [],
   "source": []
  }
 ],
 "metadata": {
  "kernelspec": {
   "display_name": "Python 3",
   "language": "python",
   "name": "python3"
  },
  "language_info": {
   "codemirror_mode": {
    "name": "ipython",
    "version": 3
   },
   "file_extension": ".py",
   "mimetype": "text/x-python",
   "name": "python",
   "nbconvert_exporter": "python",
   "pygments_lexer": "ipython3",
   "version": "3.7.10"
  }
 },
 "nbformat": 4,
 "nbformat_minor": 4
}
