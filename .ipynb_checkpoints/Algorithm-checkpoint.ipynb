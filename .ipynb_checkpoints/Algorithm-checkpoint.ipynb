{
 "cells": [
  {
   "cell_type": "markdown",
   "id": "noble-contrast",
   "metadata": {},
   "source": [
    "# 이진 검색"
   ]
  },
  {
   "cell_type": "code",
   "execution_count": 15,
   "id": "sharp-scoop",
   "metadata": {},
   "outputs": [],
   "source": [
    "# 재귀함수\n",
    "def binary_search_rec(seq, target, low, high):\n",
    "    if low > high:\n",
    "        return None\n",
    "    mid = (low + high) // 2\n",
    "    if target == seq[mid]:\n",
    "        return mid\n",
    "    elif target < seq[mid]:\n",
    "        return binary_search_rec(seq, target, low, mid-1)\n",
    "    else:\n",
    "        return binary_search_rec(seq, target, mid+1, high)"
   ]
  },
  {
   "cell_type": "code",
   "execution_count": 16,
   "id": "touched-crowd",
   "metadata": {},
   "outputs": [],
   "source": [
    "# 반복문\n",
    "def binary_search_iter(seq, target):\n",
    "    high, low = len(seq), 0\n",
    "    while low < high:\n",
    "        mid = (high + low) // 2\n",
    "        if target == seq[mid]:\n",
    "            return mid\n",
    "        elif target < seq[mid]:\n",
    "            high = mid\n",
    "        else:\n",
    "            low = mid + 1\n",
    "    return None\n"
   ]
  },
  {
   "cell_type": "code",
   "execution_count": 17,
   "id": "indian-mainstream",
   "metadata": {},
   "outputs": [],
   "source": [
    "def test_binary_search():\n",
    "    seq = [1, 2, 5, 6, 7, 10, 12, 12, 14, 15]\n",
    "    target = 6\n",
    "    assert(binary_search_iter(seq, target) == 3)\n",
    "    assert(binary_search_rec(seq, target, 0, len(seq)) == 3)\n",
    "    print(\"test 통과\")"
   ]
  },
  {
   "cell_type": "code",
   "execution_count": 21,
   "id": "relevant-participant",
   "metadata": {},
   "outputs": [
    {
     "name": "stdout",
     "output_type": "stream",
     "text": [
      "test 통과\n"
     ]
    }
   ],
   "source": [
    "test_binary_search()"
   ]
  },
  {
   "cell_type": "markdown",
   "id": "manufactured-series",
   "metadata": {},
   "source": [
    "# bisect 모듈"
   ]
  },
  {
   "cell_type": "code",
   "execution_count": 23,
   "id": "prostate-association",
   "metadata": {},
   "outputs": [
    {
     "data": {
      "text/plain": [
       "4"
      ]
     },
     "execution_count": 23,
     "metadata": {},
     "output_type": "execute_result"
    }
   ],
   "source": [
    "from bisect import bisect\n",
    "l = [0, 3, 4, 5]\n",
    "bisect(l, 5)"
   ]
  },
  {
   "cell_type": "markdown",
   "id": "coupled-orchestra",
   "metadata": {},
   "source": [
    "# 최장 증가 부분열"
   ]
  },
  {
   "cell_type": "code",
   "execution_count": 29,
   "id": "lesser-pharmacology",
   "metadata": {},
   "outputs": [
    {
     "name": "stdout",
     "output_type": "stream",
     "text": [
      "Writing test_a.py\n"
     ]
    }
   ],
   "source": [
    "%%file test_a.py\n",
    "\n",
    "from bisect import bisect\n",
    "from itertools import combinations\n",
    "from functools import wraps\n",
    "\n",
    "from benchmark import benchmark\n",
    "\n",
    "def naive_longest_inc_subseq(seq):\n",
    "    \"\"\" 1) 단순한 방법\"\"\"\n",
    "    for length in range(len(seq), 0, -1):\n",
    "        for sub in combinations(seq, length):\n",
    "            if list(sub) == sorted(sub):\n",
    "                return len(sub)\n",
    "            \n",
    "            \n",
    "def dp_longest_inc_subseq(seq):\n",
    "    \"\"\" 2) 동적 계획법\"\"\"\n",
    "    L = [1] * len(seq)\n",
    "    res = []\n",
    "    for cur, val in enumerate(seq):\n",
    "        for pre in range(cur):\n",
    "            if seq[pre] <= val:\n",
    "                L[cur] = max(L[cur], 1+L[pre])\n",
    "    return max(L)\n",
    "\n",
    "\n",
    "def memo(func):\n",
    "    cache = {}\n",
    "    \n",
    "    @warps(func)\n",
    "    def warp(*args):\n",
    "        if args not in cache:\n",
    "            cache[args] = func(*args)\n",
    "        return cache[args]\n",
    "    return wrap\n",
    "\n",
    "def memoized_longest_inc_subseq(seq):\n",
    "    \"\"\"3) 메모이제이션\"\"\"\n",
    "    @memo\n",
    "    def L(cur):\n",
    "        res = 1\n",
    "        for pre in range(cur):\n",
    "            if seq[pre] <= seq[cur]:\n",
    "                res = max(res, 1+L(pre))\n",
    "        return res\n",
    "    return max(L(i) for i in range(len(seq)))\n",
    "\n",
    "def longest_inc_bisec(seq):\n",
    "    \"\"\"4) 이진 검색\"\"\"\n",
    "    end = []\n",
    "    for val in seq:\n",
    "        idx = bisect(end, val)\n",
    "        if idx == len(end):\n",
    "            end.append(val)\n",
    "        else:\n",
    "            end[idx] = val\n",
    "        # print(end)\n",
    "    return len(end)\n",
    "\n",
    "\n",
    "@benchmark\n",
    "def test_naive_longest_inc_subseq():\n",
    "    print(naive_longest_inc(subseq(s1)))\n",
    "    \n",
    "@benchmark\n",
    "def test_dp_longest_inc_subseq():\n",
    "    print(test_dp_longest_inc_subseq(subseq(s1)))\n",
    "    \n",
    "@benchmark\n",
    "def test_memoized_longest_inc_subseq():\n",
    "    print(test_memoized_longest_inc_subseq(s1))\n",
    "    \n",
    "@benchmark\n",
    "def test_longest_inc_bisec():\n",
    "    print(test_longest_inc_bisec(s1))\n",
    "    \n",
    "s1 = [94, 8, 78, 22, 38, 79, 93, 8, 84, 39]\n",
    "print(s1)\n",
    "test_naive_longest_inc_subseq()\n",
    "test_dp_longest_inc_subseq()\n",
    "test_memoized_longest_inc_subseq()\n",
    "test_longest_inc_bisec()"
   ]
  },
  {
   "cell_type": "code",
   "execution_count": 30,
   "id": "noble-voluntary",
   "metadata": {},
   "outputs": [
    {
     "name": "stdout",
     "output_type": "stream",
     "text": [
      "============================= test session starts =============================\n",
      "platform win32 -- Python 3.7.10, pytest-6.2.2, py-1.10.0, pluggy-0.13.1\n",
      "benchmark: 3.2.3 (defaults: timer=time.perf_counter disable_gc=False min_rounds=5 min_time=0.000005 max_time=1.0 calibration_precision=10 warmup=False warmup_iterations=100000)\n",
      "rootdir: C:\\Users\\jeonghwan.kim\\Self_Study\n",
      "plugins: benchmark-3.2.3\n",
      "collected 0 items / 1 error\n",
      "\n",
      "=================================== ERRORS ====================================\n",
      "_________________________ ERROR collecting test_a.py __________________________\n",
      "ImportError while importing test module 'C:\\Users\\jeonghwan.kim\\Self_Study\\test_a.py'.\n",
      "Hint: make sure your test modules/packages have valid Python names.\n",
      "Traceback:\n",
      "..\\anaconda3\\lib\\importlib\\__init__.py:127: in import_module\n",
      "    return _bootstrap._gcd_import(name[level:], package, level)\n",
      "test_a.py:6: in <module>\n",
      "    from benchmark import benchmark\n",
      "..\\anaconda3\\lib\\site-packages\\benchmark\\__init__.py:10: in <module>\n",
      "    from main import BenchmarkProgram, main\n",
      "E   ModuleNotFoundError: No module named 'main'\n",
      "============================== warnings summary ===============================\n",
      "..\\anaconda3\\lib\\site-packages\\pyreadline\\py3k_compat.py:8\n",
      "  C:\\Users\\jeonghwan.kim\\anaconda3\\lib\\site-packages\\pyreadline\\py3k_compat.py:8: DeprecationWarning: Using or importing the ABCs from 'collections' instead of from 'collections.abc' is deprecated since Python 3.3,and in 3.9 it will stop working\n",
      "    return isinstance(x, collections.Callable)\n",
      "\n",
      "-- Docs: https://docs.pytest.org/en/stable/warnings.html\n",
      "=========================== short test summary info ===========================\n",
      "ERROR test_a.py\n",
      "!!!!!!!!!!!!!!!!!!! Interrupted: 1 error during collection !!!!!!!!!!!!!!!!!!!!\n",
      "========================= 1 warning, 1 error in 0.14s =========================\n"
     ]
    }
   ],
   "source": [
    "!pytest test_a.py"
   ]
  },
  {
   "cell_type": "code",
   "execution_count": null,
   "id": "satisfied-mortality",
   "metadata": {},
   "outputs": [],
   "source": []
  }
 ],
 "metadata": {
  "kernelspec": {
   "display_name": "Python 3",
   "language": "python",
   "name": "python3"
  },
  "language_info": {
   "codemirror_mode": {
    "name": "ipython",
    "version": 3
   },
   "file_extension": ".py",
   "mimetype": "text/x-python",
   "name": "python",
   "nbconvert_exporter": "python",
   "pygments_lexer": "ipython3",
   "version": "3.7.10"
  }
 },
 "nbformat": 4,
 "nbformat_minor": 5
}
