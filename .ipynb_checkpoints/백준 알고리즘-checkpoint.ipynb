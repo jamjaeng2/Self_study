{
 "cells": [
  {
   "cell_type": "markdown",
   "id": "historic-criterion",
   "metadata": {},
   "source": [
    "# 17298 오큰수"
   ]
  },
  {
   "cell_type": "code",
   "execution_count": 15,
   "id": "fundamental-grammar",
   "metadata": {},
   "outputs": [
    {
     "name": "stdout",
     "output_type": "stream",
     "text": [
      "4\n",
      "3 5 2 7\n",
      "5 7 7 -1 "
     ]
    }
   ],
   "source": [
    "n = int(input())\n",
    "case = list(map(int, input().split()))\n",
    "answer = [-1 for _ in range(4)]\n",
    "stack = []\n",
    "for i in range(n):\n",
    "    for j in range(i+1, n):\n",
    "        if case[i]<case[j]:\n",
    "            answer[i] = case[j]\n",
    "            break\n",
    "            \n",
    "for i in range(n):\n",
    "    print(answer[i], end = ' ')"
   ]
  },
  {
   "cell_type": "code",
   "execution_count": 23,
   "id": "bottom-advisory",
   "metadata": {},
   "outputs": [
    {
     "name": "stdout",
     "output_type": "stream",
     "text": [
      "[0]\n",
      "answer :  [-1, -1, -1, -1]\n",
      "[0]\n",
      "[1]\n",
      "[1, 2]\n",
      "[5, 7, 7, -1]\n"
     ]
    }
   ],
   "source": [
    "N = 4\n",
    "input = [3, 5, 2, 7]\n",
    "\n",
    "stack = []\n",
    "stack.append(0)\n",
    "\n",
    "result = [-1 for i in range(4)]\n",
    "\n",
    "i = 1\n",
    "\n",
    "while stack and i < N:\n",
    "    print(stack)\n",
    "    while stack and input[stack[-1]] < input[i]:\n",
    "        result[stack.pop()] = input[i]\n",
    "    stack.append(i)\n",
    "    i += 1\n",
    "    \n",
    "print(result)\n"
   ]
  },
  {
   "cell_type": "code",
   "execution_count": 39,
   "id": "saved-ozone",
   "metadata": {},
   "outputs": [
    {
     "name": "stdout",
     "output_type": "stream",
     "text": [
      "stack :  []\n",
      "for i :  0\n",
      "\n",
      "stack :  [0]\n",
      "for i :  1\n",
      "i :  1\n",
      "while stack :  [0]\n",
      "ans :  [5, -1, -1, -1, -1, -1, -1]\n",
      "\n",
      "stack :  [1]\n",
      "for i :  2\n",
      "\n",
      "stack :  [1, 2]\n",
      "for i :  3\n",
      "\n",
      "stack :  [1, 2, 3]\n",
      "for i :  4\n",
      "\n",
      "stack :  [1, 2, 3, 4]\n",
      "for i :  5\n",
      "i :  5\n",
      "while stack :  [1, 2, 3, 4]\n",
      "ans :  [5, -1, -1, -1, 4, -1, -1]\n",
      "i :  5\n",
      "while stack :  [1, 2, 3]\n",
      "ans :  [5, -1, -1, 4, 4, -1, -1]\n",
      "\n",
      "stack :  [1, 2, 5]\n",
      "for i :  6\n",
      "i :  6\n",
      "while stack :  [1, 2, 5]\n",
      "ans :  [5, -1, -1, 4, 4, 7, -1]\n",
      "i :  6\n",
      "while stack :  [1, 2]\n",
      "ans :  [5, -1, 7, 4, 4, 7, -1]\n",
      "i :  6\n",
      "while stack :  [1]\n",
      "ans :  [5, 7, 7, 4, 4, 7, -1]\n",
      "\n",
      "5 7 7 4 4 7 -1\n"
     ]
    }
   ],
   "source": [
    "#n = int(input())\n",
    "\n",
    "#nums = list(map(int, input().split()))\n",
    "nums = [3, 5, 4, 3, 2, 4, 7]\n",
    "n = len(nums)\n",
    "stack = []\n",
    "\n",
    "ans = [-1 for _ in range(n)]\n",
    "\n",
    "for i in range(len(nums)):\n",
    "    print('stack : ', stack)\n",
    "    #스택이 비지 않았으면서, 다음수가 해당수보다 크면\n",
    "    print('for i : ', i)\n",
    "    \n",
    "    while len(stack)!=0 and nums[stack[-1]] < nums[i]:\n",
    "        print('i : ', i)\n",
    "        #ans[(stack.pop()=현재 수에 해당하는 인덱스)]배열에 다음수 집어넣기\n",
    "        print('while stack : ', stack)\n",
    "        ans[stack.pop()] = nums[i]\n",
    "        print('ans : ', ans)\n",
    "    stack.append(i)\n",
    "    print()\n",
    "print(*ans)\n",
    "\n"
   ]
  },
  {
   "cell_type": "code",
   "execution_count": null,
   "id": "romance-wireless",
   "metadata": {},
   "outputs": [],
   "source": []
  }
 ],
 "metadata": {
  "kernelspec": {
   "display_name": "Python 3",
   "language": "python",
   "name": "python3"
  },
  "language_info": {
   "codemirror_mode": {
    "name": "ipython",
    "version": 3
   },
   "file_extension": ".py",
   "mimetype": "text/x-python",
   "name": "python",
   "nbconvert_exporter": "python",
   "pygments_lexer": "ipython3",
   "version": "3.7.10"
  }
 },
 "nbformat": 4,
 "nbformat_minor": 5
}
