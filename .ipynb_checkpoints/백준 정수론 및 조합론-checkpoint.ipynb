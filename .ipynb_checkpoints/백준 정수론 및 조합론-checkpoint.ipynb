{
 "cells": [
  {
   "cell_type": "markdown",
   "id": "lined-reunion",
   "metadata": {},
   "source": [
    "# 2609 최대공약수와 최소공배수"
   ]
  },
  {
   "cell_type": "code",
   "execution_count": 4,
   "id": "medical-arabic",
   "metadata": {},
   "outputs": [
    {
     "name": "stdout",
     "output_type": "stream",
     "text": [
      "24 18\n",
      "6\n",
      "72\n"
     ]
    }
   ],
   "source": [
    "a, b = map(int, input().split())\n",
    "def gcd(a, b):\n",
    "    while b:\n",
    "        a, b = b, a%b      \n",
    "        \n",
    "    return a\n",
    "\n",
    "def lcm(a, b):\n",
    "    return a*b//gcd(a,b)\n",
    "\n",
    "print(gcd(a, b))\n",
    "print(lcm(a,b))"
   ]
  },
  {
   "cell_type": "markdown",
   "id": "exclusive-labor",
   "metadata": {},
   "source": [
    "# 1010 다리 놓기"
   ]
  },
  {
   "cell_type": "code",
   "execution_count": 19,
   "id": "mysterious-keeping",
   "metadata": {},
   "outputs": [
    {
     "name": "stdout",
     "output_type": "stream",
     "text": [
      "3\n",
      "3 5\n",
      "10\n",
      "2 2\n",
      "1\n",
      "13 29\n",
      "67863915\n"
     ]
    }
   ],
   "source": [
    "import math\n",
    "n = int(input())\n",
    "for _ in range(n):\n",
    "    a, b = map(int, input().split())\n",
    "    c = math.factorial(b) // ((math.factorial(a)*math.factorial(b-a)))\n",
    "    print(c)\n",
    "    \n",
    "    "
   ]
  },
  {
   "cell_type": "markdown",
   "id": "great-journalist",
   "metadata": {},
   "source": [
    "# 11050 이항 계수 1"
   ]
  },
  {
   "cell_type": "code",
   "execution_count": 21,
   "id": "accurate-charles",
   "metadata": {},
   "outputs": [
    {
     "name": "stdout",
     "output_type": "stream",
     "text": [
      "5 2\n",
      "10\n"
     ]
    }
   ],
   "source": [
    "import math\n",
    "a, b = map(int, input().split())\n",
    "print(math.factorial(a)//(math.factorial(b)*(math.factorial(a-b))))"
   ]
  },
  {
   "cell_type": "markdown",
   "id": "placed-result",
   "metadata": {},
   "source": [
    "# 11051 이항계수 2"
   ]
  },
  {
   "cell_type": "code",
   "execution_count": null,
   "id": "realistic-wallpaper",
   "metadata": {},
   "outputs": [],
   "source": [
    "import math\n",
    "a, b = map(int, input().split())\n",
    "print((math.factorial(a)//(math.factorial(b)*(math.factorial(a-b))))%10007)"
   ]
  },
  {
   "cell_type": "markdown",
   "id": "noble-greene",
   "metadata": {},
   "source": [
    "# 1934 최소공배수"
   ]
  },
  {
   "cell_type": "code",
   "execution_count": 23,
   "id": "arctic-netscape",
   "metadata": {},
   "outputs": [
    {
     "name": "stdout",
     "output_type": "stream",
     "text": [
      "3\n",
      "3 5\n",
      "15\n",
      "20 1\n",
      "20\n",
      "5 55\n",
      "55\n"
     ]
    }
   ],
   "source": [
    "def gcd(a, b):\n",
    "    while b:\n",
    "        a, b = b, a%b      \n",
    "        \n",
    "    return a\n",
    "\n",
    "def lcm(a, b):\n",
    "    return a*b//gcd(a,b)\n",
    "\n",
    "n = int(input())\n",
    "for _ in range(n):\n",
    "    a, b = map(int, input().split())\n",
    "    print(lcm(a,b))"
   ]
  },
  {
   "cell_type": "markdown",
   "id": "residential-albany",
   "metadata": {},
   "source": [
    "# 2981 검문"
   ]
  },
  {
   "cell_type": "code",
   "execution_count": 46,
   "id": "comparative-avenue",
   "metadata": {},
   "outputs": [
    {
     "name": "stdout",
     "output_type": "stream",
     "text": [
      "3\n",
      "6\n",
      "34\n",
      "38\n",
      "2 4 "
     ]
    }
   ],
   "source": [
    "import math\n",
    "n = int(input())\n",
    "case = []\n",
    "gcd = 0\n",
    "for i in range(n):\n",
    "    case.append(int(input()))\n",
    "    if i == 1:\n",
    "        gcd = abs(case[1]-case[0])\n",
    "    gcd = math.gcd(gcd, case[i]-case[i-1])\n",
    "\n",
    "div_list = [gcd]\n",
    "for j in range(2, int(gcd**(1/2))+1):\n",
    "    if gcd%j ==0:\n",
    "        div_list.append(j)\n",
    "        div_list.append(gcd//j)\n",
    "answer = list(set(div_list))\n",
    "answer.sort()\n",
    "for i in answer:\n",
    "    print(i, end =' ')"
   ]
  },
  {
   "cell_type": "markdown",
   "id": "numeric-melissa",
   "metadata": {},
   "source": [
    "# "
   ]
  }
 ],
 "metadata": {
  "kernelspec": {
   "display_name": "Python 3",
   "language": "python",
   "name": "python3"
  },
  "language_info": {
   "codemirror_mode": {
    "name": "ipython",
    "version": 3
   },
   "file_extension": ".py",
   "mimetype": "text/x-python",
   "name": "python",
   "nbconvert_exporter": "python",
   "pygments_lexer": "ipython3",
   "version": "3.7.10"
  }
 },
 "nbformat": 4,
 "nbformat_minor": 5
}
